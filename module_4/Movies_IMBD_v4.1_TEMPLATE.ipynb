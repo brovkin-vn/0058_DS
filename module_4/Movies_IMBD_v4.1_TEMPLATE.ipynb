{
 "cells": [
  {
   "cell_type": "code",
   "execution_count": 3,
   "metadata": {
    "_cell_guid": "b1076dfc-b9ad-4769-8c92-a6c4dae69d19",
    "_uuid": "8f2839f25d086af736a60e9eeb907d3b93b6e0e5",
    "colab": {},
    "colab_type": "code",
    "id": "U2D2gTdJVp90"
   },
   "outputs": [],
   "source": [
    "import numpy as np\n",
    "import pandas as pd\n",
    "import seaborn as sns\n",
    "import matplotlib.pyplot as plt\n",
    "from collections import Counter"
   ]
  },
  {
   "cell_type": "code",
   "execution_count": 24,
   "metadata": {
    "_cell_guid": "79c7e3d0-c299-4dcb-8224-4455121ee9b0",
    "_uuid": "d629ff2d2480ee46fbb7e2d37f6b5fab8052498a",
    "colab": {},
    "colab_type": "code",
    "id": "oyGfxL3eVp9-"
   },
   "outputs": [
    {
     "output_type": "execute_result",
     "data": {
      "text/plain": "        imdb_id    budget   revenue        original_title  \\\n1369  tt0340163  52000000  77944725               Hostage   \n1868  tt0204175  16000000  20627372        Boys and Girls   \n1232  tt1931435  35000000  21819348       The Big Wedding   \n831   tt0810922  19000000   6928068  Take Me Home Tonight   \n1533  tt0408985  45000000  38399961          Last Holiday   \n\n                                                   cast             director  \\\n1369  Bruce Willis|Kevin Pollak|Jimmy Bennett|Michel...  Florent-Emilio Siri   \n1868  Freddie Prinze Jr.|Claire Forlani|Jason Biggs|...        Robert Iscove   \n1232  Robert De Niro|Diane Keaton|Katherine Heigl|Am...       Justin Zackham   \n831   Topher Grace|Anna Faris|Dan Fogler|Teresa Palm...        Michael Dowse   \n1533  Queen Latifah|LL Cool J|Timothy Hutton|Giancar...           Wayne Wang   \n\n                                                tagline  \\\n1369                                Every Second Counts   \n1868                    Warning: Sex Changes Everything   \n1232  It's never too late to start acting like a family   \n831                                  Best. Night. Ever.   \n1533  She always thought she was somebody special......   \n\n                                               overview  runtime  \\\n1369  When a mafia accountant is taken hostage on hi...      113   \n1868  Ryan and Jennifer are opposites who definitely...       94   \n1232  To the amusement of their adult children and f...       90   \n831   Recent MIT grad Matt Franklin (Topher Grace) s...       97   \n1533  After she's diagnosed with a terminal illness,...      112   \n\n                            genres  \\\n1369  Mystery|Drama|Thriller|Crime   \n1868          Comedy|Drama|Romance   \n1232                        Comedy   \n831           Comedy|Drama|Romance   \n1533        Adventure|Comedy|Drama   \n\n                                   production_companies release_date  \\\n1369  Miramax Films|Cheyenne Enterprises|Yari Film G...     3/9/2005   \n1868                                    Dimension Films    6/16/2000   \n1232                      Millenium Films|Two Ton Films    4/25/2013   \n831   Imagine Entertainment|Rogue Pictures|Relativit...     3/4/2011   \n1533                                 Paramount Pictures    1/13/2006   \n\n      vote_average  release_year    profit  Action  Adventure  Drama  Comedy  \\\n1369           6.0          2005  25944725       0          0      1       0   \n1868           5.3          2000   4627372       0          0      1       1   \n1232           5.6          2013 -13180652       0          0      0       1   \n831            6.3          2011 -12071932       0          0      1       1   \n1533           6.4          2006  -6600039       0          1      1       1   \n\n      Thriller  \n1369         1  \n1868         0  \n1232         0  \n831          0  \n1533         0  ",
      "text/html": "<div>\n<style scoped>\n    .dataframe tbody tr th:only-of-type {\n        vertical-align: middle;\n    }\n\n    .dataframe tbody tr th {\n        vertical-align: top;\n    }\n\n    .dataframe thead th {\n        text-align: right;\n    }\n</style>\n<table border=\"1\" class=\"dataframe\">\n  <thead>\n    <tr style=\"text-align: right;\">\n      <th></th>\n      <th>imdb_id</th>\n      <th>budget</th>\n      <th>revenue</th>\n      <th>original_title</th>\n      <th>cast</th>\n      <th>director</th>\n      <th>tagline</th>\n      <th>overview</th>\n      <th>runtime</th>\n      <th>genres</th>\n      <th>production_companies</th>\n      <th>release_date</th>\n      <th>vote_average</th>\n      <th>release_year</th>\n      <th>profit</th>\n      <th>Action</th>\n      <th>Adventure</th>\n      <th>Drama</th>\n      <th>Comedy</th>\n      <th>Thriller</th>\n    </tr>\n  </thead>\n  <tbody>\n    <tr>\n      <th>1369</th>\n      <td>tt0340163</td>\n      <td>52000000</td>\n      <td>77944725</td>\n      <td>Hostage</td>\n      <td>Bruce Willis|Kevin Pollak|Jimmy Bennett|Michel...</td>\n      <td>Florent-Emilio Siri</td>\n      <td>Every Second Counts</td>\n      <td>When a mafia accountant is taken hostage on hi...</td>\n      <td>113</td>\n      <td>Mystery|Drama|Thriller|Crime</td>\n      <td>Miramax Films|Cheyenne Enterprises|Yari Film G...</td>\n      <td>3/9/2005</td>\n      <td>6.0</td>\n      <td>2005</td>\n      <td>25944725</td>\n      <td>0</td>\n      <td>0</td>\n      <td>1</td>\n      <td>0</td>\n      <td>1</td>\n    </tr>\n    <tr>\n      <th>1868</th>\n      <td>tt0204175</td>\n      <td>16000000</td>\n      <td>20627372</td>\n      <td>Boys and Girls</td>\n      <td>Freddie Prinze Jr.|Claire Forlani|Jason Biggs|...</td>\n      <td>Robert Iscove</td>\n      <td>Warning: Sex Changes Everything</td>\n      <td>Ryan and Jennifer are opposites who definitely...</td>\n      <td>94</td>\n      <td>Comedy|Drama|Romance</td>\n      <td>Dimension Films</td>\n      <td>6/16/2000</td>\n      <td>5.3</td>\n      <td>2000</td>\n      <td>4627372</td>\n      <td>0</td>\n      <td>0</td>\n      <td>1</td>\n      <td>1</td>\n      <td>0</td>\n    </tr>\n    <tr>\n      <th>1232</th>\n      <td>tt1931435</td>\n      <td>35000000</td>\n      <td>21819348</td>\n      <td>The Big Wedding</td>\n      <td>Robert De Niro|Diane Keaton|Katherine Heigl|Am...</td>\n      <td>Justin Zackham</td>\n      <td>It's never too late to start acting like a family</td>\n      <td>To the amusement of their adult children and f...</td>\n      <td>90</td>\n      <td>Comedy</td>\n      <td>Millenium Films|Two Ton Films</td>\n      <td>4/25/2013</td>\n      <td>5.6</td>\n      <td>2013</td>\n      <td>-13180652</td>\n      <td>0</td>\n      <td>0</td>\n      <td>0</td>\n      <td>1</td>\n      <td>0</td>\n    </tr>\n    <tr>\n      <th>831</th>\n      <td>tt0810922</td>\n      <td>19000000</td>\n      <td>6928068</td>\n      <td>Take Me Home Tonight</td>\n      <td>Topher Grace|Anna Faris|Dan Fogler|Teresa Palm...</td>\n      <td>Michael Dowse</td>\n      <td>Best. Night. Ever.</td>\n      <td>Recent MIT grad Matt Franklin (Topher Grace) s...</td>\n      <td>97</td>\n      <td>Comedy|Drama|Romance</td>\n      <td>Imagine Entertainment|Rogue Pictures|Relativit...</td>\n      <td>3/4/2011</td>\n      <td>6.3</td>\n      <td>2011</td>\n      <td>-12071932</td>\n      <td>0</td>\n      <td>0</td>\n      <td>1</td>\n      <td>1</td>\n      <td>0</td>\n    </tr>\n    <tr>\n      <th>1533</th>\n      <td>tt0408985</td>\n      <td>45000000</td>\n      <td>38399961</td>\n      <td>Last Holiday</td>\n      <td>Queen Latifah|LL Cool J|Timothy Hutton|Giancar...</td>\n      <td>Wayne Wang</td>\n      <td>She always thought she was somebody special......</td>\n      <td>After she's diagnosed with a terminal illness,...</td>\n      <td>112</td>\n      <td>Adventure|Comedy|Drama</td>\n      <td>Paramount Pictures</td>\n      <td>1/13/2006</td>\n      <td>6.4</td>\n      <td>2006</td>\n      <td>-6600039</td>\n      <td>0</td>\n      <td>1</td>\n      <td>1</td>\n      <td>1</td>\n      <td>0</td>\n    </tr>\n  </tbody>\n</table>\n</div>"
     },
     "metadata": {},
     "execution_count": 24
    }
   ],
   "source": [
    "data = pd.read_csv('movie_bd_v5.csv')\n",
    "data['profit'] = data['revenue'] - data['budget']\n",
    "data['Action'] = data.genres.apply(lambda s:int('Action' in str(s))) \n",
    "data['Adventure'] = data.genres.apply(lambda s:int('Adventure' in str(s))) \n",
    "data['Drama'] = data.genres.apply(lambda s:int('Drama' in str(s))) \n",
    "data['Comedy'] = data.genres.apply(lambda s:int('Comedy' in str(s))) \n",
    "data['Thriller'] = data.genres.apply(lambda s:int('Thriller' in str(s))) \n",
    "\n",
    "data.sample(5)"
   ]
  },
  {
   "cell_type": "code",
   "execution_count": 5,
   "metadata": {
    "colab": {},
    "colab_type": "code",
    "id": "CoYUnagMVp-C"
   },
   "outputs": [
    {
     "output_type": "execute_result",
     "data": {
      "text/plain": "             budget       revenue      runtime  vote_average  release_year  \\\ncount  1.889000e+03  1.889000e+03  1889.000000   1889.000000   1889.000000   \nmean   5.431083e+07  1.553653e+08   109.658549      6.140762   2007.860773   \nstd    4.858721e+07  2.146698e+08    18.017041      0.764763      4.468841   \nmin    5.000000e+06  2.033165e+06    63.000000      3.300000   2000.000000   \n25%    2.000000e+07  3.456058e+07    97.000000      5.600000   2004.000000   \n50%    3.800000e+07  8.361541e+07   107.000000      6.100000   2008.000000   \n75%    7.200000e+07  1.782626e+08   120.000000      6.600000   2012.000000   \nmax    3.800000e+08  2.781506e+09   214.000000      8.100000   2015.000000   \n\n             profit  \ncount  1.889000e+03  \nmean   1.010545e+08  \nstd    1.830733e+08  \nmin   -1.657101e+08  \n25%    5.000000e+06  \n50%    4.400041e+07  \n75%    1.201842e+08  \nmax    2.544506e+09  ",
      "text/html": "<div>\n<style scoped>\n    .dataframe tbody tr th:only-of-type {\n        vertical-align: middle;\n    }\n\n    .dataframe tbody tr th {\n        vertical-align: top;\n    }\n\n    .dataframe thead th {\n        text-align: right;\n    }\n</style>\n<table border=\"1\" class=\"dataframe\">\n  <thead>\n    <tr style=\"text-align: right;\">\n      <th></th>\n      <th>budget</th>\n      <th>revenue</th>\n      <th>runtime</th>\n      <th>vote_average</th>\n      <th>release_year</th>\n      <th>profit</th>\n    </tr>\n  </thead>\n  <tbody>\n    <tr>\n      <th>count</th>\n      <td>1.889000e+03</td>\n      <td>1.889000e+03</td>\n      <td>1889.000000</td>\n      <td>1889.000000</td>\n      <td>1889.000000</td>\n      <td>1.889000e+03</td>\n    </tr>\n    <tr>\n      <th>mean</th>\n      <td>5.431083e+07</td>\n      <td>1.553653e+08</td>\n      <td>109.658549</td>\n      <td>6.140762</td>\n      <td>2007.860773</td>\n      <td>1.010545e+08</td>\n    </tr>\n    <tr>\n      <th>std</th>\n      <td>4.858721e+07</td>\n      <td>2.146698e+08</td>\n      <td>18.017041</td>\n      <td>0.764763</td>\n      <td>4.468841</td>\n      <td>1.830733e+08</td>\n    </tr>\n    <tr>\n      <th>min</th>\n      <td>5.000000e+06</td>\n      <td>2.033165e+06</td>\n      <td>63.000000</td>\n      <td>3.300000</td>\n      <td>2000.000000</td>\n      <td>-1.657101e+08</td>\n    </tr>\n    <tr>\n      <th>25%</th>\n      <td>2.000000e+07</td>\n      <td>3.456058e+07</td>\n      <td>97.000000</td>\n      <td>5.600000</td>\n      <td>2004.000000</td>\n      <td>5.000000e+06</td>\n    </tr>\n    <tr>\n      <th>50%</th>\n      <td>3.800000e+07</td>\n      <td>8.361541e+07</td>\n      <td>107.000000</td>\n      <td>6.100000</td>\n      <td>2008.000000</td>\n      <td>4.400041e+07</td>\n    </tr>\n    <tr>\n      <th>75%</th>\n      <td>7.200000e+07</td>\n      <td>1.782626e+08</td>\n      <td>120.000000</td>\n      <td>6.600000</td>\n      <td>2012.000000</td>\n      <td>1.201842e+08</td>\n    </tr>\n    <tr>\n      <th>max</th>\n      <td>3.800000e+08</td>\n      <td>2.781506e+09</td>\n      <td>214.000000</td>\n      <td>8.100000</td>\n      <td>2015.000000</td>\n      <td>2.544506e+09</td>\n    </tr>\n  </tbody>\n</table>\n</div>"
     },
     "metadata": {},
     "execution_count": 5
    }
   ],
   "source": [
    "data.describe()"
   ]
  },
  {
   "cell_type": "markdown",
   "metadata": {
    "colab_type": "text",
    "id": "DTIt7ezGVp-G"
   },
   "source": [
    "# Предобработка"
   ]
  },
  {
   "cell_type": "code",
   "execution_count": 6,
   "metadata": {
    "colab": {},
    "colab_type": "code",
    "id": "jNb40DwKVp-H"
   },
   "outputs": [],
   "source": [
    "answers = {} # создадим словарь для ответов\n",
    "\n",
    "# тут другие ваши предобработки колонок например:\n",
    "\n",
    "#the time given in the dataset is in string format.\n",
    "#So we need to change this in datetime format\n",
    "# ..."
   ]
  },
  {
   "cell_type": "markdown",
   "metadata": {
    "colab_type": "text",
    "id": "YxZaH-nPVp-L"
   },
   "source": [
    "# 1. У какого фильма из списка самый большой бюджет?"
   ]
  },
  {
   "cell_type": "markdown",
   "metadata": {
    "colab_type": "text",
    "id": "Nd-G5gX6Vp-M"
   },
   "source": [
    "Использовать варианты ответов в коде решения запрещено.    \n",
    "Вы думаете и в жизни у вас будут варианты ответов?)"
   ]
  },
  {
   "cell_type": "code",
   "execution_count": 9,
   "metadata": {
    "colab": {},
    "colab_type": "code",
    "id": "uVnXAY5RVp-O"
   },
   "outputs": [],
   "source": [
    "# в словарь вставляем номер вопроса и ваш ответ на него\n",
    "# Пример: \n",
    "answers['1'] = '2. Spider-Man 3 (tt0413300)'\n",
    "# запишите свой вариант ответа\n",
    "answers['1'] = '1. Pirates of the Caribbean: On Stranger Tides (tt1298650)'\n",
    "# если ответили верно, можете добавить комментарий со значком \"+\""
   ]
  },
  {
   "cell_type": "code",
   "execution_count": 10,
   "metadata": {
    "colab": {},
    "colab_type": "code",
    "id": "dZwb3m28Vp-S",
    "tags": []
   },
   "outputs": [
    {
     "output_type": "stream",
     "name": "stdout",
     "text": "Pirates of the Caribbean: On Stranger Tides (tt1298650)\n"
    }
   ],
   "source": [
    "# тут пишем ваш код для решения данного вопроса:\n",
    "title = data[data.budget == data.budget.max()][['imdb_id', 'original_title']]\n",
    "for index, row in title.iterrows():\n",
    "    print(\"{0} ({1})\".format(row['original_title'], row['imdb_id'], ))\n"
   ]
  },
  {
   "cell_type": "code",
   "execution_count": 11,
   "metadata": {
    "colab_type": "text",
    "id": "K7L3nbRXVp-X",
    "tags": []
   },
   "outputs": [
    {
     "output_type": "stream",
     "name": "stdout",
     "text": "imdb_id                               original_title\n723  tt1298650  Pirates of the Caribbean: On Stranger Tides\n"
    }
   ],
   "source": [
    "# ВАРИАНТ 2\n",
    "print(data.loc[(data['budget'] == data.budget.max())][['imdb_id', 'original_title']])\n"
   ]
  },
  {
   "cell_type": "code",
   "execution_count": 0,
   "metadata": {
    "colab": {},
    "colab_type": "code",
    "id": "OGaoQI7rVp-X"
   },
   "outputs": [],
   "source": [
    "# можно добавлять разные варианты решения"
   ]
  },
  {
   "cell_type": "markdown",
   "metadata": {
    "colab_type": "text",
    "id": "FNRbbI3vVp-c"
   },
   "source": [
    "# 2. Какой из фильмов самый длительный (в минутах)?"
   ]
  },
  {
   "cell_type": "code",
   "execution_count": 12,
   "metadata": {
    "colab": {},
    "colab_type": "code",
    "id": "vHAoEXNTVp-d"
   },
   "outputs": [],
   "source": [
    "# думаю логику работы с этим словарем вы уже поняли, \n",
    "# по этому не буду больше его дублировать\n",
    "answers['2'] = '2. Gods and Generals (tt0279111)'"
   ]
  },
  {
   "cell_type": "code",
   "execution_count": 13,
   "metadata": {
    "colab": {},
    "colab_type": "code",
    "id": "ot-VX2XrVp-g",
    "tags": []
   },
   "outputs": [
    {
     "output_type": "stream",
     "name": "stdout",
     "text": "imdb_id     original_title\n1157  tt0279111  Gods and Generals\nGods and Generals (tt0279111)\n        imdb_id     original_title\n1157  tt0279111  Gods and Generals\n"
    }
   ],
   "source": [
    "# вариант 1\n",
    "print(data.loc[(data['runtime'] == data.runtime.max())][['imdb_id', 'original_title']])\n",
    "\n",
    "# вариант 2\n",
    "title = data[data.runtime == data.runtime.max()][['imdb_id', 'original_title']]\n",
    "for index, row in title.iterrows():\n",
    "    print(\"{0} ({1})\".format(row['original_title'], row['imdb_id'], ))\n",
    "\n",
    "# вариант 3\n",
    "df = data.query(\"runtime == {0}\".format(data.runtime.max()))[['imdb_id', 'original_title']]\n",
    "print(df)\n",
    "\n"
   ]
  },
  {
   "cell_type": "markdown",
   "metadata": {
    "colab_type": "text",
    "id": "bapLlpW8Vp-k"
   },
   "source": [
    "# 3. Какой из фильмов самый короткий (в минутах)?\n",
    "\n",
    "\n",
    "\n"
   ]
  },
  {
   "cell_type": "code",
   "execution_count": 14,
   "metadata": {
    "colab": {},
    "colab_type": "code",
    "id": "YBxaSHuAVp-l",
    "tags": []
   },
   "outputs": [
    {
     "output_type": "stream",
     "name": "stdout",
     "text": "Winnie the Pooh (tt1449283)\n"
    }
   ],
   "source": [
    "answers['3'] = '3. Winnie the Pooh (tt1449283)'\n",
    "df = data.query(\"runtime == {0}\".format(data.runtime.min()))[['imdb_id', 'original_title']]\n",
    "for index, row in df.iterrows():\n",
    "    print(\"{0} ({1})\".format(row['original_title'], row['imdb_id'], ))\n",
    "\n"
   ]
  },
  {
   "cell_type": "markdown",
   "metadata": {
    "colab_type": "text",
    "id": "TfQbxbfNVp-p"
   },
   "source": [
    "# 4. Какова средняя длительность фильмов?\n"
   ]
  },
  {
   "cell_type": "code",
   "execution_count": 15,
   "metadata": {
    "colab": {},
    "colab_type": "code",
    "id": "5K6dKZYVVp-q",
    "tags": []
   },
   "outputs": [
    {
     "output_type": "stream",
     "name": "stdout",
     "text": "110\n"
    }
   ],
   "source": [
    "answers['4'] = '4. 110'\n",
    "print(round(data.runtime.mean()))"
   ]
  },
  {
   "cell_type": "markdown",
   "metadata": {
    "colab_type": "text",
    "id": "r5TvbnT_Vp-u"
   },
   "source": [
    "# 5. Каково медианное значение длительности фильмов? "
   ]
  },
  {
   "cell_type": "code",
   "execution_count": 17,
   "metadata": {
    "colab": {},
    "colab_type": "code",
    "id": "iBROplKnVp-v",
    "tags": []
   },
   "outputs": [
    {
     "output_type": "stream",
     "name": "stdout",
     "text": "107\n"
    }
   ],
   "source": [
    "answers['5'] = '5. 107'\n",
    "print(round(data.runtime.median()))"
   ]
  },
  {
   "cell_type": "markdown",
   "metadata": {
    "colab_type": "text",
    "id": "39P-deDSVp-y"
   },
   "source": [
    "# 6. Какой самый прибыльный фильм?\n",
    "#### Внимание! Здесь и далее под «прибылью» или «убытками» понимается разность между сборами и бюджетом фильма. (прибыль = сборы - бюджет) в нашем датасете это будет (profit = revenue - budget) "
   ]
  },
  {
   "cell_type": "code",
   "execution_count": 18,
   "metadata": {
    "colab": {},
    "colab_type": "code",
    "id": "UYZh4T9WVp-y",
    "tags": []
   },
   "outputs": [
    {
     "output_type": "stream",
     "name": "stdout",
     "text": "Avatar (tt0499549)\n"
    }
   ],
   "source": [
    "# лучше код получения столбца profit вынести в Предобработку что в начале\n",
    "answers['6'] = '6. Avatar (tt0499549)'\n",
    "df = data.query(\"profit == {0}\".format(data.profit.max()))[['imdb_id', 'original_title']]\n",
    "for index, row in df.iterrows():\n",
    "    print(\"{0} ({1})\".format(row['original_title'], row['imdb_id'], ))\n"
   ]
  },
  {
   "cell_type": "markdown",
   "metadata": {
    "colab_type": "text",
    "id": "M99JmIX4Vp-2"
   },
   "source": [
    "# 7. Какой фильм самый убыточный? "
   ]
  },
  {
   "cell_type": "code",
   "execution_count": 19,
   "metadata": {
    "colab": {},
    "colab_type": "code",
    "id": "w-D2m4XPVp-3",
    "tags": []
   },
   "outputs": [
    {
     "output_type": "stream",
     "name": "stdout",
     "text": "The Lone Ranger (tt1210819)\n"
    }
   ],
   "source": [
    "answers['7'] = '7. The Lone Ranger (tt1210819)'\n",
    "df = data.query(\"profit == {0}\".format(data.profit.min()))[['imdb_id', 'original_title']]\n",
    "for index, row in df.iterrows():\n",
    "    print(\"{0} ({1})\".format(row['original_title'], row['imdb_id'], ))\n",
    "\n"
   ]
  },
  {
   "cell_type": "markdown",
   "metadata": {
    "colab_type": "text",
    "id": "wEOM5ERVVp-6"
   },
   "source": [
    "# 8. У скольких фильмов из датасета объем сборов оказался выше бюджета?"
   ]
  },
  {
   "cell_type": "code",
   "execution_count": 26,
   "metadata": {
    "colab": {},
    "colab_type": "code",
    "id": "y00_7HD6Vp-7",
    "tags": []
   },
   "outputs": [
    {
     "output_type": "stream",
     "name": "stdout",
     "text": "1478\n"
    }
   ],
   "source": [
    "answers['8'] = '8. 1478'\n",
    "df = data.query(\"revenue > budget\")['imdb_id']\n",
    "print(df.count())"
   ]
  },
  {
   "cell_type": "markdown",
   "metadata": {},
   "source": []
  },
  {
   "cell_type": "markdown",
   "metadata": {},
   "source": []
  },
  {
   "cell_type": "markdown",
   "metadata": {},
   "source": [
    "# 9. Какой фильм оказался самым кассовым в 2008 году?"
   ]
  },
  {
   "cell_type": "code",
   "execution_count": 21,
   "metadata": {
    "tags": []
   },
   "outputs": [
    {
     "output_type": "stream",
     "name": "stdout",
     "text": "The Dark Knight (tt0468569)\n"
    }
   ],
   "source": [
    "answers['9'] = '9. The Dark Knight (tt0468569)'\n",
    "data_2008 = data.query(\"release_year == 2008\")\n",
    "df = data_2008.query(\"profit == {0}\".format(data_2008.profit.max()))[['imdb_id', 'original_title']]\n",
    "for index, row in df.iterrows():\n",
    "    print(\"{0} ({1})\".format(row['original_title'], row['imdb_id'], ))"
   ]
  },
  {
   "cell_type": "markdown",
   "metadata": {
    "colab_type": "text",
    "id": "Zi4hDKidVp_F"
   },
   "source": [
    "# 10. Самый убыточный фильм за период с 2012 по 2014 г. (включительно)?\n"
   ]
  },
  {
   "cell_type": "code",
   "execution_count": 22,
   "metadata": {
    "colab": {},
    "colab_type": "code",
    "id": "XqyRmufJVp_F",
    "tags": []
   },
   "outputs": [
    {
     "output_type": "stream",
     "name": "stdout",
     "text": "The Lone Ranger (tt1210819)\n"
    }
   ],
   "source": [
    "answers['10'] = '10. The Lone Ranger (tt1210819)'\n",
    "data_12_14 = data.query(\"release_year >= 2012 & release_year <= 2014\")\n",
    "df = data_12_14.query(\"profit == {0}\".format(data_12_14.profit.min()))[['imdb_id', 'original_title']]\n",
    "for index, row in df.iterrows():\n",
    "    print(\"{0} ({1})\".format(row['original_title'], row['imdb_id'], ))"
   ]
  },
  {
   "cell_type": "markdown",
   "metadata": {
    "colab_type": "text",
    "id": "EA7Sa9dkVp_I"
   },
   "source": [
    "# 11. Какого жанра фильмов больше всего?"
   ]
  },
  {
   "cell_type": "code",
   "execution_count": 23,
   "metadata": {
    "colab": {},
    "colab_type": "code",
    "id": "zsJAwJ8QVp_J",
    "tags": []
   },
   "outputs": [
    {
     "output_type": "stream",
     "name": "stdout",
     "text": "Action: 582\nAdventure: 415\nDrama: 782\nComedy: 683\nThriller: 596\n"
    }
   ],
   "source": [
    "# эту задачу тоже можно решать разными подходами, попробуй реализовать разные варианты\n",
    "# если будешь добавлять функцию - выноси ее в предобработку что в начале\n",
    "answers['11'] = '11. Drama'\n",
    "print('Action: {0}'.format(data[data.genres.str.contains('Action')].imdb_id.count()))\n",
    "print('Adventure: {0}'.format(data[data.genres.str.contains('Adventure')].imdb_id.count()))\n",
    "print('Drama: {0}'.format(data[data.genres.str.contains('Drama')].imdb_id.count()))\n",
    "print('Comedy: {0}'.format(data[data.genres.str.contains('Comedy')].imdb_id.count()))\n",
    "print('Thriller: {0}'.format(data[data.genres.str.contains('Thriller')].imdb_id.count()))\n"
   ]
  },
  {
   "cell_type": "markdown",
   "metadata": {
    "colab_type": "text",
    "id": "Ax6g2C8SVp_M"
   },
   "source": [
    "ВАРИАНТ 2"
   ]
  },
  {
   "cell_type": "code",
   "execution_count": 32,
   "metadata": {
    "colab": {},
    "colab_type": "code",
    "id": "otO3SbrSVp_N",
    "tags": []
   },
   "outputs": [
    {
     "output_type": "stream",
     "name": "stdout",
     "text": "Drama        782\nComedy       683\nThriller     596\nAction       582\nAdventure    415\ndtype: int64\n"
    }
   ],
   "source": [
    "print(data[['Action', 'Adventure', 'Drama', 'Comedy', 'Thriller']].sum().sort_values(ascending=False))"
   ]
  },
  {
   "cell_type": "markdown",
   "metadata": {
    "colab_type": "text",
    "id": "T9_bPWpkVp_Q"
   },
   "source": [
    "# 12. Фильмы какого жанра чаще всего становятся прибыльными? "
   ]
  },
  {
   "cell_type": "code",
   "execution_count": 27,
   "metadata": {
    "colab": {},
    "colab_type": "code",
    "id": "Tmt8MaK1Vp_R",
    "tags": []
   },
   "outputs": [
    {
     "output_type": "stream",
     "name": "stdout",
     "text": "Drama        560\nComedy       551\nThriller     446\nAction       444\nAdventure    337\ndtype: int64\n"
    }
   ],
   "source": [
    "answers['12'] = '12. Drama'\n",
    "df = data.query(\"revenue > budget\")\n",
    "print(df[['Action', 'Adventure', 'Drama', 'Comedy', 'Thriller']].sum().sort_values(ascending=False))\n"
   ]
  },
  {
   "cell_type": "markdown",
   "metadata": {
    "colab_type": "text",
    "id": "0F23bgsDVp_U"
   },
   "source": [
    "# 13. У какого режиссера самые большие суммарные кассовые сборы?"
   ]
  },
  {
   "cell_type": "code",
   "execution_count": 31,
   "metadata": {
    "colab": {},
    "colab_type": "code",
    "id": "K6Z3J8ygVp_X",
    "tags": []
   },
   "outputs": [
    {
     "output_type": "stream",
     "name": "stdout",
     "text": "director\nPeter Jackson    6490593685\nName: revenue, dtype: int64\n"
    }
   ],
   "source": [
    "answers['13'] = '13. Peter Jackson'\n",
    "print(data.groupby('director')['revenue'].sum().sort_values(ascending=False).head(1))\n"
   ]
  },
  {
   "cell_type": "markdown",
   "metadata": {
    "colab_type": "text",
    "id": "PsYC9FgRVp_a"
   },
   "source": [
    "# 14. Какой режисер снял больше всего фильмов в стиле Action?"
   ]
  },
  {
   "cell_type": "code",
   "execution_count": 29,
   "metadata": {
    "colab": {},
    "colab_type": "code",
    "id": "wd2M-wHeVp_b",
    "tags": []
   },
   "outputs": [
    {
     "output_type": "stream",
     "name": "stdout",
     "text": "director\nMichael Bay    7\nName: imdb_id, dtype: int64\n"
    }
   ],
   "source": [
    "answers['14'] = '14. Michael Bay'\n",
    "df = data.query(\"Action == 1\")\n",
    "print(df.groupby('director')['imdb_id'].count().sort_values(ascending=False).head(1))\n"
   ]
  },
  {
   "cell_type": "markdown",
   "metadata": {
    "colab_type": "text",
    "id": "PQ0KciD7Vp_f"
   },
   "source": [
    "# 15. Фильмы с каким актером принесли самые высокие кассовые сборы в 2012 году? "
   ]
  },
  {
   "cell_type": "code",
   "execution_count": 30,
   "metadata": {
    "colab": {},
    "colab_type": "code",
    "id": "aga62oeKVp_g",
    "tags": []
   },
   "outputs": [
    {
     "output_type": "stream",
     "name": "stdout",
     "text": "Nicolas Cage   : 3243647930\nTom Hardy      : 2943641063\nChris Hemsworth: 4685424695\nJim Sturgess   : 307406097\nEmma Stone     : 2885212916\n"
    }
   ],
   "source": [
    "answers['15'] = '15. Chris Hemsworth'\n",
    "print('Nicolas Cage   : {0}'.format(data[data.cast.str.contains('Nicolas Cage')].revenue.sum()))\n",
    "print('Tom Hardy      : {0}'.format(data[data.cast.str.contains('Tom Hardy')].revenue.sum()))\n",
    "print('Chris Hemsworth: {0}'.format(data[data.cast.str.contains('Chris Hemsworth')].revenue.sum()))\n",
    "print('Jim Sturgess   : {0}'.format(data[data.cast.str.contains('Jim Sturgess')].revenue.sum()))\n",
    "print('Emma Stone     : {0}'.format(data[data.cast.str.contains('Emma Stone')].revenue.sum()))\n"
   ]
  },
  {
   "cell_type": "markdown",
   "metadata": {
    "colab_type": "text",
    "id": "mWHyyL7QVp_j"
   },
   "source": [
    "# 16. Какой актер снялся в большем количестве высокобюджетных фильмов?"
   ]
  },
  {
   "cell_type": "code",
   "execution_count": 0,
   "metadata": {
    "colab": {},
    "colab_type": "code",
    "id": "qQtmHKTFVp_k"
   },
   "outputs": [],
   "source": []
  },
  {
   "cell_type": "markdown",
   "metadata": {
    "colab_type": "text",
    "id": "NIh6AaW5Vp_n"
   },
   "source": [
    "# 17. В фильмах какого жанра больше всего снимался Nicolas Cage? "
   ]
  },
  {
   "cell_type": "code",
   "execution_count": 0,
   "metadata": {
    "colab": {},
    "colab_type": "code",
    "id": "H74SJDIBVp_n"
   },
   "outputs": [],
   "source": []
  },
  {
   "cell_type": "markdown",
   "metadata": {
    "colab_type": "text",
    "id": "RqOmPRfWVp_q"
   },
   "source": [
    "# 18. Самый убыточный фильм от Paramount Pictures"
   ]
  },
  {
   "cell_type": "code",
   "execution_count": 0,
   "metadata": {
    "colab": {},
    "colab_type": "code",
    "id": "9E_B0Y96Vp_r"
   },
   "outputs": [],
   "source": []
  },
  {
   "cell_type": "markdown",
   "metadata": {
    "colab_type": "text",
    "id": "vS8Ur6ddVp_u"
   },
   "source": [
    "# 19. Какой год стал самым успешным по суммарным кассовым сборам?"
   ]
  },
  {
   "cell_type": "code",
   "execution_count": 0,
   "metadata": {
    "colab": {},
    "colab_type": "code",
    "id": "Dnbt4GdIVp_v"
   },
   "outputs": [],
   "source": []
  },
  {
   "cell_type": "markdown",
   "metadata": {
    "colab_type": "text",
    "id": "JAzJh4QAVp_z"
   },
   "source": [
    "# 20. Какой самый прибыльный год для студии Warner Bros?"
   ]
  },
  {
   "cell_type": "code",
   "execution_count": 0,
   "metadata": {
    "colab": {},
    "colab_type": "code",
    "id": "wgVu02DEVp_0"
   },
   "outputs": [],
   "source": []
  },
  {
   "cell_type": "markdown",
   "metadata": {
    "colab_type": "text",
    "id": "8Im1S2HRVp_4"
   },
   "source": [
    "# 21. В каком месяце за все годы суммарно вышло больше всего фильмов?"
   ]
  },
  {
   "cell_type": "code",
   "execution_count": 0,
   "metadata": {
    "colab": {},
    "colab_type": "code",
    "id": "lev6TH7gVp_4"
   },
   "outputs": [],
   "source": []
  },
  {
   "cell_type": "markdown",
   "metadata": {
    "colab_type": "text",
    "id": "uAJsZ_NeVp_7"
   },
   "source": [
    "# 22. Сколько суммарно вышло фильмов летом? (за июнь, июль, август)"
   ]
  },
  {
   "cell_type": "code",
   "execution_count": 0,
   "metadata": {
    "colab": {},
    "colab_type": "code",
    "id": "Aa-hEREoVp_8"
   },
   "outputs": [],
   "source": []
  },
  {
   "cell_type": "markdown",
   "metadata": {
    "colab_type": "text",
    "id": "G94ppOY1VqAA"
   },
   "source": [
    "# 23. Для какого режиссера зима – самое продуктивное время года? "
   ]
  },
  {
   "cell_type": "code",
   "execution_count": 0,
   "metadata": {
    "colab": {},
    "colab_type": "code",
    "id": "RhNTsamuVqAB"
   },
   "outputs": [],
   "source": []
  },
  {
   "cell_type": "markdown",
   "metadata": {
    "colab_type": "text",
    "id": "RBo0JVjVVqAF"
   },
   "source": [
    "# 24. Какая студия дает самые длинные названия своим фильмам по количеству символов?"
   ]
  },
  {
   "cell_type": "code",
   "execution_count": 0,
   "metadata": {
    "colab": {},
    "colab_type": "code",
    "id": "QRGS8L0iVqAG"
   },
   "outputs": [],
   "source": []
  },
  {
   "cell_type": "markdown",
   "metadata": {
    "colab_type": "text",
    "id": "9G0hbvR7VqAK"
   },
   "source": [
    "# 25. Описание фильмов какой студии в среднем самые длинные по количеству слов?"
   ]
  },
  {
   "cell_type": "code",
   "execution_count": 0,
   "metadata": {
    "colab": {},
    "colab_type": "code",
    "id": "Ge2GsLNxVqAK"
   },
   "outputs": [],
   "source": []
  },
  {
   "cell_type": "markdown",
   "metadata": {
    "colab_type": "text",
    "id": "FJ1AFt90VqAP"
   },
   "source": [
    "# 26. Какие фильмы входят в 1 процент лучших по рейтингу? \n",
    "по vote_average"
   ]
  },
  {
   "cell_type": "code",
   "execution_count": 0,
   "metadata": {
    "colab": {},
    "colab_type": "code",
    "id": "8qmJVq4CVqAQ"
   },
   "outputs": [],
   "source": []
  },
  {
   "cell_type": "markdown",
   "metadata": {
    "colab_type": "text",
    "id": "MdXsUXbCVqAV"
   },
   "source": [
    "# 27. Какие актеры чаще всего снимаются в одном фильме вместе?\n"
   ]
  },
  {
   "cell_type": "markdown",
   "metadata": {
    "colab_type": "text",
    "id": "4ymnxEVoVqAW"
   },
   "source": [
    "ВАРИАНТ 2"
   ]
  },
  {
   "cell_type": "markdown",
   "metadata": {
    "colab_type": "text",
    "id": "U0nONFnGVqAX"
   },
   "source": [
    "# Submission"
   ]
  },
  {
   "cell_type": "code",
   "execution_count": 0,
   "metadata": {
    "colab": {},
    "colab_type": "code",
    "id": "IfcaRO9-VqAX",
    "outputId": "0f132912-32bb-4196-c98c-abfbc4ad5a5f"
   },
   "outputs": [
    {
     "data": {
      "text/plain": [
       "{'1': '...', '2': '...'}"
      ]
     },
     "execution_count": 8,
     "metadata": {
      "tags": []
     },
     "output_type": "execute_result"
    }
   ],
   "source": [
    "# в конце можно посмотреть свои ответы к каждому вопросу\n",
    "answers"
   ]
  },
  {
   "cell_type": "code",
   "execution_count": 0,
   "metadata": {
    "colab": {},
    "colab_type": "code",
    "id": "SiRmHPl8VqAd"
   },
   "outputs": [],
   "source": [
    "# и убедиться что ни чего не пропустил)\n",
    "len(answers)"
   ]
  },
  {
   "cell_type": "code",
   "execution_count": 0,
   "metadata": {
    "colab": {},
    "colab_type": "code",
    "id": "uCfuTkRbVqAg"
   },
   "outputs": [],
   "source": []
  },
  {
   "cell_type": "code",
   "execution_count": 0,
   "metadata": {
    "colab": {},
    "colab_type": "code",
    "id": "Vwx3NrkSVqAl"
   },
   "outputs": [],
   "source": []
  }
 ],
 "metadata": {
  "colab": {
   "name": "Copy of [SF-DST] Movies IMBD v4.1 TEMPLATE.ipynb",
   "provenance": []
  },
  "kernelspec": {
   "display_name": "Python 3",
   "language": "python",
   "name": "python3"
  },
  "language_info": {
   "codemirror_mode": {
    "name": "ipython",
    "version": 3
   },
   "file_extension": ".py",
   "mimetype": "text/x-python",
   "name": "python",
   "nbconvert_exporter": "python",
   "pygments_lexer": "ipython3",
   "version": "3.6.9-final"
  }
 },
 "nbformat": 4,
 "nbformat_minor": 1
}