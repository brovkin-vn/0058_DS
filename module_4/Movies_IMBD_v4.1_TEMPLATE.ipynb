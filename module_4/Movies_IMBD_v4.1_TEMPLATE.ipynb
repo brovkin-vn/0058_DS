{
 "cells": [
  {
   "cell_type": "code",
   "execution_count": 1,
   "metadata": {
    "_cell_guid": "b1076dfc-b9ad-4769-8c92-a6c4dae69d19",
    "_uuid": "8f2839f25d086af736a60e9eeb907d3b93b6e0e5",
    "colab": {},
    "colab_type": "code",
    "id": "U2D2gTdJVp90"
   },
   "outputs": [],
   "source": [
    "import numpy as np\n",
    "import pandas as pd\n",
    "import seaborn as sns\n",
    "import matplotlib.pyplot as plt\n",
    "from collections import Counter"
   ]
  },
  {
   "cell_type": "code",
   "execution_count": 15,
   "metadata": {
    "_cell_guid": "79c7e3d0-c299-4dcb-8224-4455121ee9b0",
    "_uuid": "d629ff2d2480ee46fbb7e2d37f6b5fab8052498a",
    "colab": {},
    "colab_type": "code",
    "id": "oyGfxL3eVp9-"
   },
   "outputs": [
    {
     "output_type": "execute_result",
     "data": {
      "text/plain": "        imdb_id    budget    revenue                    original_title  \\\n490   tt0473102  12500000    3878993                  The Perfect Game   \n1656  tt0329691  40000000   46546197                            Torque   \n1599  tt0364725  20000000  167722310  DodgeBall: A True Underdog Story   \n175   tt1355630  11000000   78874843                         If I Stay   \n204   tt1742334  35000000   17508518                          Sabotage   \n\n                                                   cast  \\\n490   Clifton Collins, Jr.|Cheech Marin|MoisÃ©s Aria...   \n1656  Martin Henderson|Ice Cube|Monet Mazur|Adam Sco...   \n1599  Vince Vaughn|Christine Taylor|Ben Stiller|Rip ...   \n175   ChloÃ« Grace Moretz|Jamie Blackley|Liana Liber...   \n204   Arnold Schwarzenegger|Sam Worthington|Mireille...   \n\n                     director                tagline  \\\n490              William Dear  Dream for the fences.   \n1656              Joseph Kahn        Circuit of Fire   \n1599  Rawson Marshall Thurber  Grab Life By The Ball   \n175               R.J. Cutler         Live for Love.   \n204                David Ayer    Leave no loose ends   \n\n                                               overview  runtime  \\\n490   Based on a true story, a group of boys from Mo...      118   \n1656  Biker Cary Ford is framed by an old rival and ...       84   \n1599  When megalomaniacal White Goodman, the owner o...       92   \n175   Based on Gayle Forman's novel of the same name...      106   \n204   In \"Sabotage\", Arnold Schwarzenegger leads an ...      110   \n\n                           genres  \\\n490                  Drama|Family   \n1656                       Action   \n1599                       Comedy   \n175                         Drama   \n204   Action|Drama|Thriller|Crime   \n\n                                   production_companies release_date  \\\n490   HighRoad Entertainment|Prelude Pictures|Lone R...     4/1/2010   \n1656  Village Roadshow Pictures|Original Film|Warner...    1/16/2004   \n1599  Twentieth Century Fox Film Corporation|Red Hou...    6/18/2004   \n175           New Line Cinema|Metro-Goldwyn-Mayer (MGM)    8/21/2014   \n204   Open Road Films|QED International|Albert S. Ru...    3/28/2014   \n\n      vote_average  release_year     profit  \n490            5.7          2010   -8621007  \n1656           4.8          2004    6546197  \n1599           6.2          2004  147722310  \n175            7.2          2014   67874843  \n204            5.4          2014  -17491482  ",
      "text/html": "<div>\n<style scoped>\n    .dataframe tbody tr th:only-of-type {\n        vertical-align: middle;\n    }\n\n    .dataframe tbody tr th {\n        vertical-align: top;\n    }\n\n    .dataframe thead th {\n        text-align: right;\n    }\n</style>\n<table border=\"1\" class=\"dataframe\">\n  <thead>\n    <tr style=\"text-align: right;\">\n      <th></th>\n      <th>imdb_id</th>\n      <th>budget</th>\n      <th>revenue</th>\n      <th>original_title</th>\n      <th>cast</th>\n      <th>director</th>\n      <th>tagline</th>\n      <th>overview</th>\n      <th>runtime</th>\n      <th>genres</th>\n      <th>production_companies</th>\n      <th>release_date</th>\n      <th>vote_average</th>\n      <th>release_year</th>\n      <th>profit</th>\n    </tr>\n  </thead>\n  <tbody>\n    <tr>\n      <th>490</th>\n      <td>tt0473102</td>\n      <td>12500000</td>\n      <td>3878993</td>\n      <td>The Perfect Game</td>\n      <td>Clifton Collins, Jr.|Cheech Marin|MoisÃ©s Aria...</td>\n      <td>William Dear</td>\n      <td>Dream for the fences.</td>\n      <td>Based on a true story, a group of boys from Mo...</td>\n      <td>118</td>\n      <td>Drama|Family</td>\n      <td>HighRoad Entertainment|Prelude Pictures|Lone R...</td>\n      <td>4/1/2010</td>\n      <td>5.7</td>\n      <td>2010</td>\n      <td>-8621007</td>\n    </tr>\n    <tr>\n      <th>1656</th>\n      <td>tt0329691</td>\n      <td>40000000</td>\n      <td>46546197</td>\n      <td>Torque</td>\n      <td>Martin Henderson|Ice Cube|Monet Mazur|Adam Sco...</td>\n      <td>Joseph Kahn</td>\n      <td>Circuit of Fire</td>\n      <td>Biker Cary Ford is framed by an old rival and ...</td>\n      <td>84</td>\n      <td>Action</td>\n      <td>Village Roadshow Pictures|Original Film|Warner...</td>\n      <td>1/16/2004</td>\n      <td>4.8</td>\n      <td>2004</td>\n      <td>6546197</td>\n    </tr>\n    <tr>\n      <th>1599</th>\n      <td>tt0364725</td>\n      <td>20000000</td>\n      <td>167722310</td>\n      <td>DodgeBall: A True Underdog Story</td>\n      <td>Vince Vaughn|Christine Taylor|Ben Stiller|Rip ...</td>\n      <td>Rawson Marshall Thurber</td>\n      <td>Grab Life By The Ball</td>\n      <td>When megalomaniacal White Goodman, the owner o...</td>\n      <td>92</td>\n      <td>Comedy</td>\n      <td>Twentieth Century Fox Film Corporation|Red Hou...</td>\n      <td>6/18/2004</td>\n      <td>6.2</td>\n      <td>2004</td>\n      <td>147722310</td>\n    </tr>\n    <tr>\n      <th>175</th>\n      <td>tt1355630</td>\n      <td>11000000</td>\n      <td>78874843</td>\n      <td>If I Stay</td>\n      <td>ChloÃ« Grace Moretz|Jamie Blackley|Liana Liber...</td>\n      <td>R.J. Cutler</td>\n      <td>Live for Love.</td>\n      <td>Based on Gayle Forman's novel of the same name...</td>\n      <td>106</td>\n      <td>Drama</td>\n      <td>New Line Cinema|Metro-Goldwyn-Mayer (MGM)</td>\n      <td>8/21/2014</td>\n      <td>7.2</td>\n      <td>2014</td>\n      <td>67874843</td>\n    </tr>\n    <tr>\n      <th>204</th>\n      <td>tt1742334</td>\n      <td>35000000</td>\n      <td>17508518</td>\n      <td>Sabotage</td>\n      <td>Arnold Schwarzenegger|Sam Worthington|Mireille...</td>\n      <td>David Ayer</td>\n      <td>Leave no loose ends</td>\n      <td>In \"Sabotage\", Arnold Schwarzenegger leads an ...</td>\n      <td>110</td>\n      <td>Action|Drama|Thriller|Crime</td>\n      <td>Open Road Films|QED International|Albert S. Ru...</td>\n      <td>3/28/2014</td>\n      <td>5.4</td>\n      <td>2014</td>\n      <td>-17491482</td>\n    </tr>\n  </tbody>\n</table>\n</div>"
     },
     "metadata": {},
     "execution_count": 15
    }
   ],
   "source": [
    "data = pd.read_csv('movie_bd_v5.csv')\n",
    "data['profit'] = data['revenue'] - data['budget']\n",
    "data.sample(5)"
   ]
  },
  {
   "cell_type": "code",
   "execution_count": 4,
   "metadata": {
    "colab": {},
    "colab_type": "code",
    "id": "CoYUnagMVp-C"
   },
   "outputs": [
    {
     "output_type": "execute_result",
     "data": {
      "text/plain": "             budget       revenue      runtime  vote_average  release_year\ncount  1.889000e+03  1.889000e+03  1889.000000   1889.000000   1889.000000\nmean   5.431083e+07  1.553653e+08   109.658549      6.140762   2007.860773\nstd    4.858721e+07  2.146698e+08    18.017041      0.764763      4.468841\nmin    5.000000e+06  2.033165e+06    63.000000      3.300000   2000.000000\n25%    2.000000e+07  3.456058e+07    97.000000      5.600000   2004.000000\n50%    3.800000e+07  8.361541e+07   107.000000      6.100000   2008.000000\n75%    7.200000e+07  1.782626e+08   120.000000      6.600000   2012.000000\nmax    3.800000e+08  2.781506e+09   214.000000      8.100000   2015.000000",
      "text/html": "<div>\n<style scoped>\n    .dataframe tbody tr th:only-of-type {\n        vertical-align: middle;\n    }\n\n    .dataframe tbody tr th {\n        vertical-align: top;\n    }\n\n    .dataframe thead th {\n        text-align: right;\n    }\n</style>\n<table border=\"1\" class=\"dataframe\">\n  <thead>\n    <tr style=\"text-align: right;\">\n      <th></th>\n      <th>budget</th>\n      <th>revenue</th>\n      <th>runtime</th>\n      <th>vote_average</th>\n      <th>release_year</th>\n    </tr>\n  </thead>\n  <tbody>\n    <tr>\n      <th>count</th>\n      <td>1.889000e+03</td>\n      <td>1.889000e+03</td>\n      <td>1889.000000</td>\n      <td>1889.000000</td>\n      <td>1889.000000</td>\n    </tr>\n    <tr>\n      <th>mean</th>\n      <td>5.431083e+07</td>\n      <td>1.553653e+08</td>\n      <td>109.658549</td>\n      <td>6.140762</td>\n      <td>2007.860773</td>\n    </tr>\n    <tr>\n      <th>std</th>\n      <td>4.858721e+07</td>\n      <td>2.146698e+08</td>\n      <td>18.017041</td>\n      <td>0.764763</td>\n      <td>4.468841</td>\n    </tr>\n    <tr>\n      <th>min</th>\n      <td>5.000000e+06</td>\n      <td>2.033165e+06</td>\n      <td>63.000000</td>\n      <td>3.300000</td>\n      <td>2000.000000</td>\n    </tr>\n    <tr>\n      <th>25%</th>\n      <td>2.000000e+07</td>\n      <td>3.456058e+07</td>\n      <td>97.000000</td>\n      <td>5.600000</td>\n      <td>2004.000000</td>\n    </tr>\n    <tr>\n      <th>50%</th>\n      <td>3.800000e+07</td>\n      <td>8.361541e+07</td>\n      <td>107.000000</td>\n      <td>6.100000</td>\n      <td>2008.000000</td>\n    </tr>\n    <tr>\n      <th>75%</th>\n      <td>7.200000e+07</td>\n      <td>1.782626e+08</td>\n      <td>120.000000</td>\n      <td>6.600000</td>\n      <td>2012.000000</td>\n    </tr>\n    <tr>\n      <th>max</th>\n      <td>3.800000e+08</td>\n      <td>2.781506e+09</td>\n      <td>214.000000</td>\n      <td>8.100000</td>\n      <td>2015.000000</td>\n    </tr>\n  </tbody>\n</table>\n</div>"
     },
     "metadata": {},
     "execution_count": 4
    }
   ],
   "source": [
    "data.describe()"
   ]
  },
  {
   "cell_type": "markdown",
   "metadata": {
    "colab_type": "text",
    "id": "DTIt7ezGVp-G"
   },
   "source": [
    "# Предобработка"
   ]
  },
  {
   "cell_type": "code",
   "execution_count": 5,
   "metadata": {
    "colab": {},
    "colab_type": "code",
    "id": "jNb40DwKVp-H"
   },
   "outputs": [],
   "source": [
    "answers = {} # создадим словарь для ответов\n",
    "\n",
    "# тут другие ваши предобработки колонок например:\n",
    "\n",
    "#the time given in the dataset is in string format.\n",
    "#So we need to change this in datetime format\n",
    "# ..."
   ]
  },
  {
   "cell_type": "markdown",
   "metadata": {
    "colab_type": "text",
    "id": "YxZaH-nPVp-L"
   },
   "source": [
    "# 1. У какого фильма из списка самый большой бюджет?"
   ]
  },
  {
   "cell_type": "markdown",
   "metadata": {
    "colab_type": "text",
    "id": "Nd-G5gX6Vp-M"
   },
   "source": [
    "Использовать варианты ответов в коде решения запрещено.    \n",
    "Вы думаете и в жизни у вас будут варианты ответов?)"
   ]
  },
  {
   "cell_type": "code",
   "execution_count": 0,
   "metadata": {
    "colab": {},
    "colab_type": "code",
    "id": "uVnXAY5RVp-O"
   },
   "outputs": [],
   "source": [
    "# в словарь вставляем номер вопроса и ваш ответ на него\n",
    "# Пример: \n",
    "answers['1'] = '2. Spider-Man 3 (tt0413300)'\n",
    "# запишите свой вариант ответа\n",
    "answers['1'] = '1. Pirates of the Caribbean: On Stranger Tides (tt1298650)'\n",
    "# если ответили верно, можете добавить комментарий со значком \"+\""
   ]
  },
  {
   "cell_type": "code",
   "execution_count": 8,
   "metadata": {
    "colab": {},
    "colab_type": "code",
    "id": "dZwb3m28Vp-S",
    "tags": []
   },
   "outputs": [
    {
     "output_type": "stream",
     "name": "stdout",
     "text": "Pirates of the Caribbean: On Stranger Tides (tt1298650)\n"
    }
   ],
   "source": [
    "# тут пишем ваш код для решения данного вопроса:\n",
    "title = data[data.budget == data.budget.max()][['imdb_id', 'original_title']]\n",
    "for index, row in title.iterrows():\n",
    "    print(\"{0} ({1})\".format(row['original_title'], row['imdb_id'], ))\n"
   ]
  },
  {
   "cell_type": "code",
   "execution_count": 10,
   "metadata": {
    "colab_type": "text",
    "id": "K7L3nbRXVp-X",
    "tags": []
   },
   "outputs": [
    {
     "output_type": "stream",
     "name": "stdout",
     "text": "imdb_id                               original_title\n723  tt1298650  Pirates of the Caribbean: On Stranger Tides\n"
    }
   ],
   "source": [
    "# ВАРИАНТ 2\n",
    "print(data.loc[(data['budget'] == data.budget.max())][['imdb_id', 'original_title']])\n"
   ]
  },
  {
   "cell_type": "code",
   "execution_count": 0,
   "metadata": {
    "colab": {},
    "colab_type": "code",
    "id": "OGaoQI7rVp-X"
   },
   "outputs": [],
   "source": [
    "# можно добавлять разные варианты решения"
   ]
  },
  {
   "cell_type": "markdown",
   "metadata": {
    "colab_type": "text",
    "id": "FNRbbI3vVp-c"
   },
   "source": [
    "# 2. Какой из фильмов самый длительный (в минутах)?"
   ]
  },
  {
   "cell_type": "code",
   "execution_count": 0,
   "metadata": {
    "colab": {},
    "colab_type": "code",
    "id": "vHAoEXNTVp-d"
   },
   "outputs": [],
   "source": [
    "# думаю логику работы с этим словарем вы уже поняли, \n",
    "# по этому не буду больше его дублировать\n",
    "answers['2'] = '2. Gods and Generals (tt0279111)'"
   ]
  },
  {
   "cell_type": "code",
   "execution_count": 12,
   "metadata": {
    "colab": {},
    "colab_type": "code",
    "id": "ot-VX2XrVp-g",
    "tags": []
   },
   "outputs": [
    {
     "output_type": "stream",
     "name": "stdout",
     "text": "imdb_id     original_title\n1157  tt0279111  Gods and Generals\nGods and Generals (tt0279111)\n        imdb_id     original_title\n1157  tt0279111  Gods and Generals\n"
    }
   ],
   "source": [
    "# вариант 1\n",
    "print(data.loc[(data['runtime'] == data.runtime.max())][['imdb_id', 'original_title']])\n",
    "\n",
    "# вариант 2\n",
    "title = data[data.runtime == data.runtime.max()][['imdb_id', 'original_title']]\n",
    "for index, row in title.iterrows():\n",
    "    print(\"{0} ({1})\".format(row['original_title'], row['imdb_id'], ))\n",
    "\n",
    "# вариант 3\n",
    "df = data.query(\"runtime == {0}\".format(data.runtime.max()))[['imdb_id', 'original_title']]\n",
    "print(df)\n",
    "\n"
   ]
  },
  {
   "cell_type": "markdown",
   "metadata": {
    "colab_type": "text",
    "id": "bapLlpW8Vp-k"
   },
   "source": [
    "# 3. Какой из фильмов самый короткий (в минутах)?\n",
    "\n",
    "\n",
    "\n"
   ]
  },
  {
   "cell_type": "code",
   "execution_count": 13,
   "metadata": {
    "colab": {},
    "colab_type": "code",
    "id": "YBxaSHuAVp-l",
    "tags": []
   },
   "outputs": [
    {
     "output_type": "stream",
     "name": "stdout",
     "text": "Winnie the Pooh (tt1449283)\n"
    }
   ],
   "source": [
    "answers['3'] = '3. Winnie the Pooh (tt1449283)'\n",
    "df = data.query(\"runtime == {0}\".format(data.runtime.min()))[['imdb_id', 'original_title']]\n",
    "for index, row in df.iterrows():\n",
    "    print(\"{0} ({1})\".format(row['original_title'], row['imdb_id'], ))\n",
    "\n"
   ]
  },
  {
   "cell_type": "markdown",
   "metadata": {
    "colab_type": "text",
    "id": "TfQbxbfNVp-p"
   },
   "source": [
    "# 4. Какова средняя длительность фильмов?\n"
   ]
  },
  {
   "cell_type": "code",
   "execution_count": 0,
   "metadata": {
    "colab": {},
    "colab_type": "code",
    "id": "5K6dKZYVVp-q"
   },
   "outputs": [],
   "source": [
    "answers['4'] = '110'\n",
    "print(round(data.runtime.mean()))"
   ]
  },
  {
   "cell_type": "markdown",
   "metadata": {
    "colab_type": "text",
    "id": "r5TvbnT_Vp-u"
   },
   "source": [
    "# 5. Каково медианное значение длительности фильмов? "
   ]
  },
  {
   "cell_type": "code",
   "execution_count": 14,
   "metadata": {
    "colab": {},
    "colab_type": "code",
    "id": "iBROplKnVp-v",
    "tags": []
   },
   "outputs": [
    {
     "output_type": "stream",
     "name": "stdout",
     "text": "107\n"
    }
   ],
   "source": [
    "answers['5'] = '107'\n",
    "print(round(data.runtime.me()))"
   ]
  },
  {
   "cell_type": "markdown",
   "metadata": {
    "colab_type": "text",
    "id": "39P-deDSVp-y"
   },
   "source": [
    "# 6. Какой самый прибыльный фильм?\n",
    "#### Внимание! Здесь и далее под «прибылью» или «убытками» понимается разность между сборами и бюджетом фильма. (прибыль = сборы - бюджет) в нашем датасете это будет (profit = revenue - budget) "
   ]
  },
  {
   "cell_type": "code",
   "execution_count": 0,
   "metadata": {
    "colab": {},
    "colab_type": "code",
    "id": "UYZh4T9WVp-y"
   },
   "outputs": [],
   "source": [
    "# лучше код получения столбца profit вынести в Предобработку что в начале\n",
    "answers['6'] = '6. Avatar (tt0499549)'\n",
    "df = data.query(\"profit == {0}\".format(data.profit.max()))[['imdb_id', 'original_title']]\n",
    "for index, row in df.iterrows():\n",
    "    print(\"{0} ({1})\".format(row['original_title'], row['imdb_id'], ))\n"
   ]
  },
  {
   "cell_type": "markdown",
   "metadata": {
    "colab_type": "text",
    "id": "M99JmIX4Vp-2"
   },
   "source": [
    "# 7. Какой фильм самый убыточный? "
   ]
  },
  {
   "cell_type": "code",
   "execution_count": 17,
   "metadata": {
    "colab": {},
    "colab_type": "code",
    "id": "w-D2m4XPVp-3",
    "tags": []
   },
   "outputs": [
    {
     "output_type": "stream",
     "name": "stdout",
     "text": "The Lone Ranger (tt1210819)\n"
    }
   ],
   "source": [
    "answers['7'] = '7. The Lone Ranger (tt1210819)'\n",
    "df = data.query(\"profit == {0}\".format(data.profit.min()))[['imdb_id', 'original_title']]\n",
    "for index, row in df.iterrows():\n",
    "    print(\"{0} ({1})\".format(row['original_title'], row['imdb_id'], ))\n",
    "\n"
   ]
  },
  {
   "cell_type": "markdown",
   "metadata": {
    "colab_type": "text",
    "id": "wEOM5ERVVp-6"
   },
   "source": [
    "# 8. У скольких фильмов из датасета объем сборов оказался выше бюджета?"
   ]
  },
  {
   "cell_type": "code",
   "execution_count": 19,
   "metadata": {
    "colab": {},
    "colab_type": "code",
    "id": "y00_7HD6Vp-7",
    "tags": []
   },
   "outputs": [
    {
     "output_type": "stream",
     "name": "stdout",
     "text": "1478\n"
    }
   ],
   "source": [
    "answers['8'] = '8. 1478'\n",
    "data['profit'] = data['revenue'] - data['budget']\n",
    "df = data.query(\"revenue > budget\")['imdb_id']\n",
    "print(df.count())"
   ]
  },
  {
   "cell_type": "markdown",
   "metadata": {},
   "source": []
  },
  {
   "cell_type": "markdown",
   "metadata": {},
   "source": []
  },
  {
   "cell_type": "markdown",
   "metadata": {},
   "source": [
    "# 9. Какой фильм оказался самым кассовым в 2008 году?"
   ]
  },
  {
   "cell_type": "code",
   "execution_count": 20,
   "metadata": {
    "tags": []
   },
   "outputs": [
    {
     "output_type": "stream",
     "name": "stdout",
     "text": "The Dark Knight (tt0468569)\n"
    }
   ],
   "source": [
    "answers['9'] = '9. The Dark Knight (tt0468569)'\n",
    "data_2008 = data.query(\"release_year == 2008\")\n",
    "df = data_2008.query(\"profit == {0}\".format(data_2008.profit.max()))[['imdb_id', 'original_title']]\n",
    "for index, row in df.iterrows():\n",
    "    print(\"{0} ({1})\".format(row['original_title'], row['imdb_id'], ))"
   ]
  },
  {
   "cell_type": "markdown",
   "metadata": {
    "colab_type": "text",
    "id": "Zi4hDKidVp_F"
   },
   "source": [
    "# 10. Самый убыточный фильм за период с 2012 по 2014 г. (включительно)?\n"
   ]
  },
  {
   "cell_type": "code",
   "execution_count": 21,
   "metadata": {
    "colab": {},
    "colab_type": "code",
    "id": "XqyRmufJVp_F",
    "tags": []
   },
   "outputs": [
    {
     "output_type": "stream",
     "name": "stdout",
     "text": "The Lone Ranger (tt1210819)\n"
    }
   ],
   "source": [
    "answers['10'] = '10. The Lone Ranger (tt1210819)'\n",
    "data_12_14 = data.query(\"release_year >= 2012 & release_year <= 2014\")\n",
    "df = data_12_14.query(\"profit == {0}\".format(data_12_14.profit.min()))[['imdb_id', 'original_title']]\n",
    "for index, row in df.iterrows():\n",
    "    print(\"{0} ({1})\".format(row['original_title'], row['imdb_id'], ))"
   ]
  },
  {
   "cell_type": "markdown",
   "metadata": {
    "colab_type": "text",
    "id": "EA7Sa9dkVp_I"
   },
   "source": [
    "# 11. Какого жанра фильмов больше всего?"
   ]
  },
  {
   "cell_type": "code",
   "execution_count": 0,
   "metadata": {
    "colab": {},
    "colab_type": "code",
    "id": "zsJAwJ8QVp_J"
   },
   "outputs": [],
   "source": [
    "# эту задачу тоже можно решать разными подходами, попробуй реализовать разные варианты\n",
    "# если будешь добавлять функцию - выноси ее в предобработку что в начале"
   ]
  },
  {
   "cell_type": "markdown",
   "metadata": {
    "colab_type": "text",
    "id": "Ax6g2C8SVp_M"
   },
   "source": [
    "ВАРИАНТ 2"
   ]
  },
  {
   "cell_type": "code",
   "execution_count": 0,
   "metadata": {
    "colab": {},
    "colab_type": "code",
    "id": "otO3SbrSVp_N"
   },
   "outputs": [],
   "source": []
  },
  {
   "cell_type": "markdown",
   "metadata": {
    "colab_type": "text",
    "id": "T9_bPWpkVp_Q"
   },
   "source": [
    "# 12. Фильмы какого жанра чаще всего становятся прибыльными? "
   ]
  },
  {
   "cell_type": "code",
   "execution_count": 0,
   "metadata": {
    "colab": {},
    "colab_type": "code",
    "id": "Tmt8MaK1Vp_R"
   },
   "outputs": [],
   "source": []
  },
  {
   "cell_type": "markdown",
   "metadata": {
    "colab_type": "text",
    "id": "0F23bgsDVp_U"
   },
   "source": [
    "# 13. У какого режиссера самые большие суммарные кассовые сборы?"
   ]
  },
  {
   "cell_type": "code",
   "execution_count": 0,
   "metadata": {
    "colab": {},
    "colab_type": "code",
    "id": "K6Z3J8ygVp_X"
   },
   "outputs": [],
   "source": []
  },
  {
   "cell_type": "markdown",
   "metadata": {
    "colab_type": "text",
    "id": "PsYC9FgRVp_a"
   },
   "source": [
    "# 14. Какой режисер снял больше всего фильмов в стиле Action?"
   ]
  },
  {
   "cell_type": "code",
   "execution_count": 0,
   "metadata": {
    "colab": {},
    "colab_type": "code",
    "id": "wd2M-wHeVp_b"
   },
   "outputs": [],
   "source": []
  },
  {
   "cell_type": "markdown",
   "metadata": {
    "colab_type": "text",
    "id": "PQ0KciD7Vp_f"
   },
   "source": [
    "# 15. Фильмы с каким актером принесли самые высокие кассовые сборы в 2012 году? "
   ]
  },
  {
   "cell_type": "code",
   "execution_count": 0,
   "metadata": {
    "colab": {},
    "colab_type": "code",
    "id": "aga62oeKVp_g"
   },
   "outputs": [],
   "source": []
  },
  {
   "cell_type": "markdown",
   "metadata": {
    "colab_type": "text",
    "id": "mWHyyL7QVp_j"
   },
   "source": [
    "# 16. Какой актер снялся в большем количестве высокобюджетных фильмов?"
   ]
  },
  {
   "cell_type": "code",
   "execution_count": 0,
   "metadata": {
    "colab": {},
    "colab_type": "code",
    "id": "qQtmHKTFVp_k"
   },
   "outputs": [],
   "source": []
  },
  {
   "cell_type": "markdown",
   "metadata": {
    "colab_type": "text",
    "id": "NIh6AaW5Vp_n"
   },
   "source": [
    "# 17. В фильмах какого жанра больше всего снимался Nicolas Cage? "
   ]
  },
  {
   "cell_type": "code",
   "execution_count": 0,
   "metadata": {
    "colab": {},
    "colab_type": "code",
    "id": "H74SJDIBVp_n"
   },
   "outputs": [],
   "source": []
  },
  {
   "cell_type": "markdown",
   "metadata": {
    "colab_type": "text",
    "id": "RqOmPRfWVp_q"
   },
   "source": [
    "# 18. Самый убыточный фильм от Paramount Pictures"
   ]
  },
  {
   "cell_type": "code",
   "execution_count": 0,
   "metadata": {
    "colab": {},
    "colab_type": "code",
    "id": "9E_B0Y96Vp_r"
   },
   "outputs": [],
   "source": []
  },
  {
   "cell_type": "markdown",
   "metadata": {
    "colab_type": "text",
    "id": "vS8Ur6ddVp_u"
   },
   "source": [
    "# 19. Какой год стал самым успешным по суммарным кассовым сборам?"
   ]
  },
  {
   "cell_type": "code",
   "execution_count": 0,
   "metadata": {
    "colab": {},
    "colab_type": "code",
    "id": "Dnbt4GdIVp_v"
   },
   "outputs": [],
   "source": []
  },
  {
   "cell_type": "markdown",
   "metadata": {
    "colab_type": "text",
    "id": "JAzJh4QAVp_z"
   },
   "source": [
    "# 20. Какой самый прибыльный год для студии Warner Bros?"
   ]
  },
  {
   "cell_type": "code",
   "execution_count": 0,
   "metadata": {
    "colab": {},
    "colab_type": "code",
    "id": "wgVu02DEVp_0"
   },
   "outputs": [],
   "source": []
  },
  {
   "cell_type": "markdown",
   "metadata": {
    "colab_type": "text",
    "id": "8Im1S2HRVp_4"
   },
   "source": [
    "# 21. В каком месяце за все годы суммарно вышло больше всего фильмов?"
   ]
  },
  {
   "cell_type": "code",
   "execution_count": 0,
   "metadata": {
    "colab": {},
    "colab_type": "code",
    "id": "lev6TH7gVp_4"
   },
   "outputs": [],
   "source": []
  },
  {
   "cell_type": "markdown",
   "metadata": {
    "colab_type": "text",
    "id": "uAJsZ_NeVp_7"
   },
   "source": [
    "# 22. Сколько суммарно вышло фильмов летом? (за июнь, июль, август)"
   ]
  },
  {
   "cell_type": "code",
   "execution_count": 0,
   "metadata": {
    "colab": {},
    "colab_type": "code",
    "id": "Aa-hEREoVp_8"
   },
   "outputs": [],
   "source": []
  },
  {
   "cell_type": "markdown",
   "metadata": {
    "colab_type": "text",
    "id": "G94ppOY1VqAA"
   },
   "source": [
    "# 23. Для какого режиссера зима – самое продуктивное время года? "
   ]
  },
  {
   "cell_type": "code",
   "execution_count": 0,
   "metadata": {
    "colab": {},
    "colab_type": "code",
    "id": "RhNTsamuVqAB"
   },
   "outputs": [],
   "source": []
  },
  {
   "cell_type": "markdown",
   "metadata": {
    "colab_type": "text",
    "id": "RBo0JVjVVqAF"
   },
   "source": [
    "# 24. Какая студия дает самые длинные названия своим фильмам по количеству символов?"
   ]
  },
  {
   "cell_type": "code",
   "execution_count": 0,
   "metadata": {
    "colab": {},
    "colab_type": "code",
    "id": "QRGS8L0iVqAG"
   },
   "outputs": [],
   "source": []
  },
  {
   "cell_type": "markdown",
   "metadata": {
    "colab_type": "text",
    "id": "9G0hbvR7VqAK"
   },
   "source": [
    "# 25. Описание фильмов какой студии в среднем самые длинные по количеству слов?"
   ]
  },
  {
   "cell_type": "code",
   "execution_count": 0,
   "metadata": {
    "colab": {},
    "colab_type": "code",
    "id": "Ge2GsLNxVqAK"
   },
   "outputs": [],
   "source": []
  },
  {
   "cell_type": "markdown",
   "metadata": {
    "colab_type": "text",
    "id": "FJ1AFt90VqAP"
   },
   "source": [
    "# 26. Какие фильмы входят в 1 процент лучших по рейтингу? \n",
    "по vote_average"
   ]
  },
  {
   "cell_type": "code",
   "execution_count": 0,
   "metadata": {
    "colab": {},
    "colab_type": "code",
    "id": "8qmJVq4CVqAQ"
   },
   "outputs": [],
   "source": []
  },
  {
   "cell_type": "markdown",
   "metadata": {
    "colab_type": "text",
    "id": "MdXsUXbCVqAV"
   },
   "source": [
    "# 27. Какие актеры чаще всего снимаются в одном фильме вместе?\n"
   ]
  },
  {
   "cell_type": "markdown",
   "metadata": {
    "colab_type": "text",
    "id": "4ymnxEVoVqAW"
   },
   "source": [
    "ВАРИАНТ 2"
   ]
  },
  {
   "cell_type": "markdown",
   "metadata": {
    "colab_type": "text",
    "id": "U0nONFnGVqAX"
   },
   "source": [
    "# Submission"
   ]
  },
  {
   "cell_type": "code",
   "execution_count": 0,
   "metadata": {
    "colab": {},
    "colab_type": "code",
    "id": "IfcaRO9-VqAX",
    "outputId": "0f132912-32bb-4196-c98c-abfbc4ad5a5f"
   },
   "outputs": [
    {
     "data": {
      "text/plain": [
       "{'1': '...', '2': '...'}"
      ]
     },
     "execution_count": 8,
     "metadata": {
      "tags": []
     },
     "output_type": "execute_result"
    }
   ],
   "source": [
    "# в конце можно посмотреть свои ответы к каждому вопросу\n",
    "answers"
   ]
  },
  {
   "cell_type": "code",
   "execution_count": 0,
   "metadata": {
    "colab": {},
    "colab_type": "code",
    "id": "SiRmHPl8VqAd"
   },
   "outputs": [],
   "source": [
    "# и убедиться что ни чего не пропустил)\n",
    "len(answers)"
   ]
  },
  {
   "cell_type": "code",
   "execution_count": 0,
   "metadata": {
    "colab": {},
    "colab_type": "code",
    "id": "uCfuTkRbVqAg"
   },
   "outputs": [],
   "source": []
  },
  {
   "cell_type": "code",
   "execution_count": 0,
   "metadata": {
    "colab": {},
    "colab_type": "code",
    "id": "Vwx3NrkSVqAl"
   },
   "outputs": [],
   "source": []
  }
 ],
 "metadata": {
  "colab": {
   "name": "Copy of [SF-DST] Movies IMBD v4.1 TEMPLATE.ipynb",
   "provenance": []
  },
  "kernelspec": {
   "display_name": "Python 3",
   "language": "python",
   "name": "python3"
  },
  "language_info": {
   "codemirror_mode": {
    "name": "ipython",
    "version": 3
   },
   "file_extension": ".py",
   "mimetype": "text/x-python",
   "name": "python",
   "nbconvert_exporter": "python",
   "pygments_lexer": "ipython3",
   "version": "3.6.9-final"
  }
 },
 "nbformat": 4,
 "nbformat_minor": 1
}