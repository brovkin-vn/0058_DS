{
  "cells": [
    {
      "cell_type": "markdown",
      "metadata": {
        "id": "KBKbWGdEXij9"
      },
      "source": [
        "# Работа с моделями в pytorch"
      ]
    },
    {
      "cell_type": "code",
      "execution_count": 2,
      "metadata": {
        "id": "mhNjxPakXikE"
      },
      "outputs": [],
      "source": [
        "# %matplotlib inline\n",
        "\n",
        "import numpy as np\n",
        "import matplotlib.pyplot as plt\n",
        "from tqdm import tqdm"
      ]
    },
    {
      "cell_type": "markdown",
      "metadata": {
        "id": "4HL6OYVaXikG"
      },
      "source": [
        "Мы будем использовать не только базовый функционал `pytorch`, но и библиотеку **`torchvision`**"
      ]
    },
    {
      "cell_type": "code",
      "execution_count": 3,
      "metadata": {
        "id": "XFYVu78oXikH",
        "outputId": "a496f694-c40d-4f66-903d-701edc936c79",
        "tags": []
      },
      "outputs": [
        {
          "name": "stderr",
          "output_type": "stream",
          "text": [
            "\"grep\" �� ���� ����७��� ��� ���譥�\n",
            "��������, �ᯮ��塞�� �ணࠬ��� ��� ������ 䠩���.\n"
          ]
        }
      ],
      "source": [
        "!(pip freeze | grep torch) || (pip freeze | grep torch)"
      ]
    },
    {
      "cell_type": "code",
      "execution_count": 6,
      "metadata": {
        "id": "c6-p5XJHXikK"
      },
      "outputs": [],
      "source": [
        "import torch\n",
        "import torchvision"
      ]
    },
    {
      "cell_type": "code",
      "execution_count": 13,
      "metadata": {},
      "outputs": [
        {
          "name": "stderr",
          "output_type": "stream",
          "text": [
            "100%|██████████| 4/4 [00:02<00:00,  2.00it/s]\n"
          ]
        }
      ],
      "source": [
        "import time\n",
        "text = \"\"\n",
        "for char in tqdm([\"a\", \"b\", \"c\", \"d\"]):\n",
        "    text = text + char\n",
        "    time.sleep(0.5)"
      ]
    },
    {
      "cell_type": "markdown",
      "metadata": {
        "id": "mTp5OcrvXikK"
      },
      "source": [
        "## Загрузчики данных\n",
        "\n",
        "Зачем мы вообще ограничивали себя классом `Dataset` из модуля `torch` при работе с датасетами?\n",
        "\n",
        "Все дело в магической силе загрузчиков из библиотеки `torchvision`. Давайте посмотрим на них в деле:"
      ]
    },
    {
      "cell_type": "code",
      "execution_count": 8,
      "metadata": {
        "id": "dCeRTH83XikM"
      },
      "outputs": [],
      "source": [
        "from torch.utils.data import DataLoader\n",
        "from torchvision import transforms\n",
        "from torchvision.datasets import MNIST"
      ]
    },
    {
      "cell_type": "markdown",
      "metadata": {
        "id": "J9xweX4HXikN"
      },
      "source": [
        "Загрузчики `DataLoader` создаются поверх конкретного объекта-датасета и позволяют итерироваться по нему сразу батчами.\n",
        "\n",
        "К этим батчам изображений-меток в свою очередь в **отдельных процессах** применяются все необходимые преобразования.\n",
        "\n",
        "Тем самым в стандартном процессе итерирования по изображениям и рассчетам на GPU в идеале (при достаточной мощности CPU) перед каждой итерацией рассчетов на GPU уже готов очередной батч с обработанными изображениями-метками и GPU всегда утилизируется на 100%.\n",
        "\n",
        "Рассмотрим, как это работает на примере с трансформацией картинок из MNIST:"
      ]
    },
    {
      "cell_type": "code",
      "execution_count": 9,
      "metadata": {
        "id": "JzRzsOZbXikO",
        "outputId": "8c1b2e0c-1a43-4ba8-a4cb-d1463263b4a0",
        "tags": []
      },
      "outputs": [
        {
          "name": "stdout",
          "output_type": "stream",
          "text": [
            "Downloading http://yann.lecun.com/exdb/mnist/train-images-idx3-ubyte.gz\n",
            "Downloading http://yann.lecun.com/exdb/mnist/train-images-idx3-ubyte.gz to /tmp/mnist/MNIST\\raw\\train-images-idx3-ubyte.gz\n"
          ]
        },
        {
          "name": "stderr",
          "output_type": "stream",
          "text": [
            "9913344it [00:03, 2875769.34it/s]                             \n"
          ]
        },
        {
          "name": "stdout",
          "output_type": "stream",
          "text": [
            "Extracting /tmp/mnist/MNIST\\raw\\train-images-idx3-ubyte.gz to /tmp/mnist/MNIST\\raw\n",
            "\n",
            "Downloading http://yann.lecun.com/exdb/mnist/train-labels-idx1-ubyte.gz\n",
            "Downloading http://yann.lecun.com/exdb/mnist/train-labels-idx1-ubyte.gz to /tmp/mnist/MNIST\\raw\\train-labels-idx1-ubyte.gz\n"
          ]
        },
        {
          "name": "stderr",
          "output_type": "stream",
          "text": [
            "29696it [00:00, 29691073.08it/s]         \n"
          ]
        },
        {
          "name": "stdout",
          "output_type": "stream",
          "text": [
            "Extracting /tmp/mnist/MNIST\\raw\\train-labels-idx1-ubyte.gz to /tmp/mnist/MNIST\\raw\n",
            "\n",
            "Downloading http://yann.lecun.com/exdb/mnist/t10k-images-idx3-ubyte.gz\n",
            "Downloading http://yann.lecun.com/exdb/mnist/t10k-images-idx3-ubyte.gz to /tmp/mnist/MNIST\\raw\\t10k-images-idx3-ubyte.gz\n"
          ]
        },
        {
          "name": "stderr",
          "output_type": "stream",
          "text": [
            "1649664it [00:00, 2577453.63it/s]                             \n"
          ]
        },
        {
          "name": "stdout",
          "output_type": "stream",
          "text": [
            "Extracting /tmp/mnist/MNIST\\raw\\t10k-images-idx3-ubyte.gz to /tmp/mnist/MNIST\\raw\n",
            "\n",
            "Downloading http://yann.lecun.com/exdb/mnist/t10k-labels-idx1-ubyte.gz\n",
            "Downloading http://yann.lecun.com/exdb/mnist/t10k-labels-idx1-ubyte.gz to /tmp/mnist/MNIST\\raw\\t10k-labels-idx1-ubyte.gz\n"
          ]
        },
        {
          "name": "stderr",
          "output_type": "stream",
          "text": [
            "5120it [00:00, ?it/s]                   \n"
          ]
        },
        {
          "name": "stdout",
          "output_type": "stream",
          "text": [
            "Extracting /tmp/mnist/MNIST\\raw\\t10k-labels-idx1-ubyte.gz to /tmp/mnist/MNIST\\raw\n",
            "\n"
          ]
        }
      ],
      "source": [
        "transformed_mnist = MNIST(\"/tmp/mnist/\", train=True, download=True, transform=transforms.ToTensor())"
      ]
    },
    {
      "cell_type": "code",
      "execution_count": 10,
      "metadata": {
        "id": "UXdvJJDpXikP"
      },
      "outputs": [],
      "source": [
        "mnist_loader = DataLoader(transformed_mnist, batch_size=16, shuffle=True, num_workers=4)"
      ]
    },
    {
      "cell_type": "markdown",
      "metadata": {
        "id": "mcoHrE0zXikQ"
      },
      "source": [
        "Так мы говорим загрузчику выдавать картинки и метки пачками по 16 штук, перемешав их предварительно, и использовать 4 фоновых процесса для предобработки.\n",
        "\n",
        "\"Пробежимся\" теперь по всему датасету:"
      ]
    },
    {
      "cell_type": "code",
      "execution_count": 14,
      "metadata": {
        "id": "PrVn_WUrXikR",
        "outputId": "8c776e1e-4dd5-4f0f-91ef-9afac5388fd8",
        "tags": []
      },
      "outputs": [
        {
          "name": "stderr",
          "output_type": "stream",
          "text": [
            "100%|██████████| 3750/3750 [00:07<00:00, 509.20it/s] \n"
          ]
        }
      ],
      "source": [
        "for images, targets in tqdm(mnist_loader):\n",
        "    pass"
      ]
    },
    {
      "cell_type": "markdown",
      "metadata": {
        "id": "ig8fgp1fXikR"
      },
      "source": [
        "Видим, что всего вышло 3750 итераций по 16 изображений.\n",
        "\n",
        "Посмотрим на пример батча (последнего по сути):"
      ]
    },
    {
      "cell_type": "code",
      "execution_count": 15,
      "metadata": {
        "id": "DVbcihhWXikS",
        "outputId": "559ba8fe-4f8f-48e4-c222-3a0d5bbb1913"
      },
      "outputs": [
        {
          "data": {
            "text/plain": [
              "torch.Size([16, 1, 28, 28])"
            ]
          },
          "execution_count": 15,
          "metadata": {},
          "output_type": "execute_result"
        }
      ],
      "source": [
        "images.shape"
      ]
    },
    {
      "cell_type": "code",
      "execution_count": 16,
      "metadata": {
        "id": "p5PAsyjPXikS",
        "outputId": "3e3c3578-fd76-4ef3-baa3-f4d17fbfebb5"
      },
      "outputs": [
        {
          "data": {
            "text/plain": [
              "torch.Size([16])"
            ]
          },
          "execution_count": 16,
          "metadata": {},
          "output_type": "execute_result"
        }
      ],
      "source": [
        "targets.shape"
      ]
    },
    {
      "cell_type": "markdown",
      "metadata": {
        "id": "hejAtgCjXikT"
      },
      "source": [
        "Откуда полоска `tqdm` знала, что батчей всего будет столько? Потому что в загрузчике тоже определен метод `__len__`:"
      ]
    },
    {
      "cell_type": "code",
      "execution_count": 13,
      "metadata": {
        "id": "ohOuFFdlXikT",
        "outputId": "2a3652b1-f20f-40ce-f248-86ca7720dbec"
      },
      "outputs": [
        {
          "data": {
            "text/plain": [
              "3750"
            ]
          },
          "execution_count": 13,
          "metadata": {},
          "output_type": "execute_result"
        }
      ],
      "source": [
        "len(mnist_loader)"
      ]
    },
    {
      "cell_type": "markdown",
      "metadata": {
        "id": "x3dr1eQ1XikU"
      },
      "source": [
        "Посмотрим на изображение из батча (оно будет отличаться между запусками ноутбука):"
      ]
    },
    {
      "cell_type": "code",
      "execution_count": 14,
      "metadata": {
        "id": "3EF0k1qUXikU"
      },
      "outputs": [],
      "source": [
        "# plt.imshow(images[0][0].numpy(), \"gray\")\n",
        "# plt.show()"
      ]
    },
    {
      "cell_type": "markdown",
      "metadata": {
        "id": "QXI4cvYpXikU"
      },
      "source": [
        "А какая метка при этом?"
      ]
    },
    {
      "cell_type": "code",
      "execution_count": 15,
      "metadata": {
        "id": "oxUtRlSeXikV",
        "outputId": "7825f5ec-5eb4-42e0-90a0-23b6c9debfa8",
        "tags": []
      },
      "outputs": [
        {
          "name": "stdout",
          "output_type": "stream",
          "text": [
            "tensor(7)\n"
          ]
        }
      ],
      "source": [
        "print(targets[0])"
      ]
    },
    {
      "cell_type": "markdown",
      "metadata": {
        "id": "qkLV6KbmXikV"
      },
      "source": [
        "Все хорошо!"
      ]
    },
    {
      "cell_type": "markdown",
      "metadata": {
        "id": "-E49HGM7XikW"
      },
      "source": [
        "## Строительный материал для нейросетей\n",
        "\n",
        "Для определения новой питорчевой модели нужно наследовать класс `torch.nn.Module`.\n",
        "\n",
        "Для построения же модели у нас есть строительные блоки в виде модулей из `torch.nn`.\n",
        "\n",
        "Функциональные версии этого материала лежат в `torch.nn.functional`."
      ]
    },
    {
      "cell_type": "code",
      "execution_count": 16,
      "metadata": {
        "id": "pdtxdwx8XikW"
      },
      "outputs": [],
      "source": [
        "import torch.nn as nn\n",
        "import torch.nn.functional as F"
      ]
    },
    {
      "cell_type": "markdown",
      "metadata": {
        "id": "v-JC-NrgXikW"
      },
      "source": [
        "Так, у нас есть модульные и функциональные версии макспулинга, активаций, апсемплинга и другтх операций:\n",
        "* `nn.MaxPool2d` / `F.max_pool2d`\n",
        "* `nn.ReLU` / `F.relu`\n",
        "* `nn.Upsample(mode='bilinar')` / `F.interpolate`\n",
        "\n",
        "Для послойного объединения слоев служит класс `nn.Sequential`:"
      ]
    },
    {
      "cell_type": "code",
      "execution_count": 17,
      "metadata": {
        "id": "FpNI5bJTXikX",
        "outputId": "1f448eb0-ca96-4ebc-f0b3-1894c3f1ae20",
        "tags": []
      },
      "outputs": [
        {
          "name": "stdout",
          "output_type": "stream",
          "text": [
            "Sequential(\n",
            "  (0): Conv2d(3, 64, kernel_size=(3, 3), stride=(1, 1), padding=(1, 1))\n",
            "  (1): ReLU()\n",
            "  (2): Conv2d(64, 64, kernel_size=(3, 3), stride=(1, 1), padding=(1, 1))\n",
            "  (3): ReLU()\n",
            ")\n"
          ]
        }
      ],
      "source": [
        "layers = [\n",
        "    nn.Conv2d(3, 64, 3, padding=1),\n",
        "    nn.ReLU(),\n",
        "    nn.Conv2d(64, 64, 3, padding=1),\n",
        "    nn.ReLU()\n",
        "]\n",
        "block = nn.Sequential(*layers)  # эквивалентно <...>(layers[0], layers[1], ..., layers[-1])\n",
        "print(block)"
      ]
    },
    {
      "cell_type": "markdown",
      "metadata": {
        "id": "hj4OUT4GXikX"
      },
      "source": [
        "Посмотрим, как выглядит та самая модель AlexNet:"
      ]
    },
    {
      "cell_type": "code",
      "execution_count": 18,
      "metadata": {
        "id": "gZ-G2gN_XikY",
        "outputId": "a833c887-fb7d-4133-b2c5-50fed5443617"
      },
      "outputs": [
        {
          "data": {
            "text/plain": [
              "AlexNet(\n",
              "  (features): Sequential(\n",
              "    (0): Conv2d(3, 64, kernel_size=(11, 11), stride=(4, 4), padding=(2, 2))\n",
              "    (1): ReLU(inplace=True)\n",
              "    (2): MaxPool2d(kernel_size=3, stride=2, padding=0, dilation=1, ceil_mode=False)\n",
              "    (3): Conv2d(64, 192, kernel_size=(5, 5), stride=(1, 1), padding=(2, 2))\n",
              "    (4): ReLU(inplace=True)\n",
              "    (5): MaxPool2d(kernel_size=3, stride=2, padding=0, dilation=1, ceil_mode=False)\n",
              "    (6): Conv2d(192, 384, kernel_size=(3, 3), stride=(1, 1), padding=(1, 1))\n",
              "    (7): ReLU(inplace=True)\n",
              "    (8): Conv2d(384, 256, kernel_size=(3, 3), stride=(1, 1), padding=(1, 1))\n",
              "    (9): ReLU(inplace=True)\n",
              "    (10): Conv2d(256, 256, kernel_size=(3, 3), stride=(1, 1), padding=(1, 1))\n",
              "    (11): ReLU(inplace=True)\n",
              "    (12): MaxPool2d(kernel_size=3, stride=2, padding=0, dilation=1, ceil_mode=False)\n",
              "  )\n",
              "  (avgpool): AdaptiveAvgPool2d(output_size=(6, 6))\n",
              "  (classifier): Sequential(\n",
              "    (0): Dropout(p=0.5, inplace=False)\n",
              "    (1): Linear(in_features=9216, out_features=4096, bias=True)\n",
              "    (2): ReLU(inplace=True)\n",
              "    (3): Dropout(p=0.5, inplace=False)\n",
              "    (4): Linear(in_features=4096, out_features=4096, bias=True)\n",
              "    (5): ReLU(inplace=True)\n",
              "    (6): Linear(in_features=4096, out_features=1000, bias=True)\n",
              "  )\n",
              ")"
            ]
          },
          "execution_count": 18,
          "metadata": {},
          "output_type": "execute_result"
        }
      ],
      "source": [
        "from torchvision.models import AlexNet\n",
        "\n",
        "net = AlexNet()\n",
        "net"
      ]
    },
    {
      "cell_type": "markdown",
      "metadata": {
        "id": "9O38b-ZrXikY"
      },
      "source": [
        "Она состоит как раз из строительных блоков `nn.Conv2d`, `nn.ReLU`, `nn.MaxPool2d`, `nn.Dropout` и `nn.Linear`!\n",
        "\n",
        "Слой `nn.AdaptiveAvgPool2d` служит для того, чтобы сеть можно было применить к изображению люого размера, т.к. он гарантирует, что после него карта признаков будет размера 6x6 -- дело в том, что применительно к изображениям нужного размера выход подмодуля `features` будет как размера 6x6, и если же изображения будут другого размера, то без упомянутой промежуточной операции последующее применение слоев из подмодуля приведет либо к ошибке, либо к выходу некорректного размера (а мы ожидаем 1x1x{количество классов})."
      ]
    },
    {
      "cell_type": "markdown",
      "metadata": {
        "id": "wF6vYV_oXikZ"
      },
      "source": [
        "## Построение модели на примере VGG-16"
      ]
    },
    {
      "cell_type": "markdown",
      "metadata": {
        "id": "5rTgtuPDXikZ"
      },
      "source": [
        "Попробуем построить модель сами на примере VGG-16:\n",
        "\n",
        "![VGG16](vgg16.png)"
      ]
    },
    {
      "cell_type": "markdown",
      "metadata": {
        "id": "CAwEAWuZXikZ"
      },
      "source": [
        "Сеть состоит из четырех блоков по две-три пары сверток-активаций и пулинга в конце каждого из них\n",
        "\n",
        "Реализуем функцию для получения списка из нужных слоев для одного такого блока с нужным количеством пар:"
      ]
    },
    {
      "cell_type": "code",
      "execution_count": 19,
      "metadata": {
        "id": "ycvDPxnBXika"
      },
      "outputs": [],
      "source": [
        "def features_block(in_channels, out_channels, num_pairs):\n",
        "    block = []\n",
        "    block.append(nn.Conv2d(in_channels, out_channels, 3, padding=1))\n",
        "    block.append(nn.ReLU(inplace=True))\n",
        "    for i in range(num_pairs - 1):\n",
        "        block.append(nn.Conv2d(out_channels, out_channels, 3, padding=1))\n",
        "        block.append(nn.ReLU(inplace=True))\n",
        "    block.append(nn.MaxPool2d(kernel_size=2))\n",
        "    return block"
      ]
    },
    {
      "cell_type": "markdown",
      "metadata": {
        "id": "xMo31A63Xika"
      },
      "source": [
        "А также функцию, выдающаю весь список сверток-активаций-пулингов до полносвязных слоев:"
      ]
    },
    {
      "cell_type": "code",
      "execution_count": 20,
      "metadata": {
        "id": "I9t3N6t_Xikb"
      },
      "outputs": [],
      "source": [
        "def features(in_channels, out_channels_list, block_sizes):\n",
        "    layers = []\n",
        "    for out_channels, block_size in zip(out_channels_list, block_sizes):\n",
        "        layers.extend(features_block(in_channels, out_channels, block_size))\n",
        "        in_channels = out_channels\n",
        "    return layers"
      ]
    },
    {
      "cell_type": "markdown",
      "metadata": {
        "id": "kv-iA5_DXikc"
      },
      "source": [
        "Нам также необходима \"классификационная\" часть сети из нескольких полносвязных слоев:"
      ]
    },
    {
      "cell_type": "code",
      "execution_count": 21,
      "metadata": {
        "id": "Xpp9FsJ1Xikd"
      },
      "outputs": [],
      "source": [
        "def classifier():\n",
        "    layers = []\n",
        "    layers.append(nn.Linear(512 * 7 * 7, 4096))\n",
        "    layers.append(nn.ReLU(inplace=True))\n",
        "    layers.append(nn.Dropout2d(p=0.5))\n",
        "    layers.append(nn.Linear(4096, 4096))\n",
        "    layers.append(nn.ReLU(inplace=True))\n",
        "    layers.append(nn.Dropout2d(p=0.5))\n",
        "    layers.append(nn.Linear(4096, 1000))\n",
        "    return layers"
      ]
    },
    {
      "cell_type": "markdown",
      "metadata": {
        "id": "hxsGvoKEXikd"
      },
      "source": [
        "Вся нейросеть представляет из себя последовательное выделение признаков и применение полносвязных слоев:"
      ]
    },
    {
      "cell_type": "code",
      "execution_count": 22,
      "metadata": {
        "id": "34TGTu13Xike"
      },
      "outputs": [],
      "source": [
        "class VGG16(nn.Module):\n",
        "    def __init__(self):\n",
        "        super().__init__()\n",
        "        self.features = nn.Sequential(*features(3, [64, 128, 256, 512, 512], [2, 2, 3, 3, 3]))\n",
        "        self.classifier = nn.Sequential(*classifier())\n",
        "\n",
        "    def forward(self, x):\n",
        "        x = self.features(x)\n",
        "        x = torch.flatten(x, 1)\n",
        "        x = self.classifier(x)\n",
        "        return x"
      ]
    },
    {
      "cell_type": "markdown",
      "metadata": {
        "id": "h-dwXxjeXike"
      },
      "source": [
        "Создадим нейросеть и посмотрим на нее:"
      ]
    },
    {
      "cell_type": "code",
      "execution_count": 23,
      "metadata": {
        "id": "N-DKWK6hXikf",
        "outputId": "33ff51f5-f9bf-4257-8c9d-2cab2be639ab"
      },
      "outputs": [
        {
          "data": {
            "text/plain": [
              "VGG16(\n",
              "  (features): Sequential(\n",
              "    (0): Conv2d(3, 64, kernel_size=(3, 3), stride=(1, 1), padding=(1, 1))\n",
              "    (1): ReLU(inplace=True)\n",
              "    (2): Conv2d(64, 64, kernel_size=(3, 3), stride=(1, 1), padding=(1, 1))\n",
              "    (3): ReLU(inplace=True)\n",
              "    (4): MaxPool2d(kernel_size=2, stride=2, padding=0, dilation=1, ceil_mode=False)\n",
              "    (5): Conv2d(64, 128, kernel_size=(3, 3), stride=(1, 1), padding=(1, 1))\n",
              "    (6): ReLU(inplace=True)\n",
              "    (7): Conv2d(128, 128, kernel_size=(3, 3), stride=(1, 1), padding=(1, 1))\n",
              "    (8): ReLU(inplace=True)\n",
              "    (9): MaxPool2d(kernel_size=2, stride=2, padding=0, dilation=1, ceil_mode=False)\n",
              "    (10): Conv2d(128, 256, kernel_size=(3, 3), stride=(1, 1), padding=(1, 1))\n",
              "    (11): ReLU(inplace=True)\n",
              "    (12): Conv2d(256, 256, kernel_size=(3, 3), stride=(1, 1), padding=(1, 1))\n",
              "    (13): ReLU(inplace=True)\n",
              "    (14): Conv2d(256, 256, kernel_size=(3, 3), stride=(1, 1), padding=(1, 1))\n",
              "    (15): ReLU(inplace=True)\n",
              "    (16): MaxPool2d(kernel_size=2, stride=2, padding=0, dilation=1, ceil_mode=False)\n",
              "    (17): Conv2d(256, 512, kernel_size=(3, 3), stride=(1, 1), padding=(1, 1))\n",
              "    (18): ReLU(inplace=True)\n",
              "    (19): Conv2d(512, 512, kernel_size=(3, 3), stride=(1, 1), padding=(1, 1))\n",
              "    (20): ReLU(inplace=True)\n",
              "    (21): Conv2d(512, 512, kernel_size=(3, 3), stride=(1, 1), padding=(1, 1))\n",
              "    (22): ReLU(inplace=True)\n",
              "    (23): MaxPool2d(kernel_size=2, stride=2, padding=0, dilation=1, ceil_mode=False)\n",
              "    (24): Conv2d(512, 512, kernel_size=(3, 3), stride=(1, 1), padding=(1, 1))\n",
              "    (25): ReLU(inplace=True)\n",
              "    (26): Conv2d(512, 512, kernel_size=(3, 3), stride=(1, 1), padding=(1, 1))\n",
              "    (27): ReLU(inplace=True)\n",
              "    (28): Conv2d(512, 512, kernel_size=(3, 3), stride=(1, 1), padding=(1, 1))\n",
              "    (29): ReLU(inplace=True)\n",
              "    (30): MaxPool2d(kernel_size=2, stride=2, padding=0, dilation=1, ceil_mode=False)\n",
              "  )\n",
              "  (classifier): Sequential(\n",
              "    (0): Linear(in_features=25088, out_features=4096, bias=True)\n",
              "    (1): ReLU(inplace=True)\n",
              "    (2): Dropout2d(p=0.5, inplace=False)\n",
              "    (3): Linear(in_features=4096, out_features=4096, bias=True)\n",
              "    (4): ReLU(inplace=True)\n",
              "    (5): Dropout2d(p=0.5, inplace=False)\n",
              "    (6): Linear(in_features=4096, out_features=1000, bias=True)\n",
              "  )\n",
              ")"
            ]
          },
          "execution_count": 23,
          "metadata": {},
          "output_type": "execute_result"
        }
      ],
      "source": [
        "net = VGG16()\n",
        "\n",
        "net"
      ]
    },
    {
      "cell_type": "markdown",
      "metadata": {
        "id": "6YpYoDIRXikf"
      },
      "source": [
        "## Использование предобученных сетей"
      ]
    },
    {
      "cell_type": "markdown",
      "metadata": {
        "id": "tBnLf4XuXikf"
      },
      "source": [
        "Давайте сравним созданную нами модель с готовой моделью из `torchvision`:"
      ]
    },
    {
      "cell_type": "code",
      "execution_count": 24,
      "metadata": {
        "id": "0KiUaAx7Xikg",
        "outputId": "b6b67314-38db-46d1-e143-d3f74e84ff33"
      },
      "outputs": [
        {
          "data": {
            "text/plain": [
              "VGG(\n",
              "  (features): Sequential(\n",
              "    (0): Conv2d(3, 64, kernel_size=(3, 3), stride=(1, 1), padding=(1, 1))\n",
              "    (1): ReLU(inplace=True)\n",
              "    (2): Conv2d(64, 64, kernel_size=(3, 3), stride=(1, 1), padding=(1, 1))\n",
              "    (3): ReLU(inplace=True)\n",
              "    (4): MaxPool2d(kernel_size=2, stride=2, padding=0, dilation=1, ceil_mode=False)\n",
              "    (5): Conv2d(64, 128, kernel_size=(3, 3), stride=(1, 1), padding=(1, 1))\n",
              "    (6): ReLU(inplace=True)\n",
              "    (7): Conv2d(128, 128, kernel_size=(3, 3), stride=(1, 1), padding=(1, 1))\n",
              "    (8): ReLU(inplace=True)\n",
              "    (9): MaxPool2d(kernel_size=2, stride=2, padding=0, dilation=1, ceil_mode=False)\n",
              "    (10): Conv2d(128, 256, kernel_size=(3, 3), stride=(1, 1), padding=(1, 1))\n",
              "    (11): ReLU(inplace=True)\n",
              "    (12): Conv2d(256, 256, kernel_size=(3, 3), stride=(1, 1), padding=(1, 1))\n",
              "    (13): ReLU(inplace=True)\n",
              "    (14): Conv2d(256, 256, kernel_size=(3, 3), stride=(1, 1), padding=(1, 1))\n",
              "    (15): ReLU(inplace=True)\n",
              "    (16): MaxPool2d(kernel_size=2, stride=2, padding=0, dilation=1, ceil_mode=False)\n",
              "    (17): Conv2d(256, 512, kernel_size=(3, 3), stride=(1, 1), padding=(1, 1))\n",
              "    (18): ReLU(inplace=True)\n",
              "    (19): Conv2d(512, 512, kernel_size=(3, 3), stride=(1, 1), padding=(1, 1))\n",
              "    (20): ReLU(inplace=True)\n",
              "    (21): Conv2d(512, 512, kernel_size=(3, 3), stride=(1, 1), padding=(1, 1))\n",
              "    (22): ReLU(inplace=True)\n",
              "    (23): MaxPool2d(kernel_size=2, stride=2, padding=0, dilation=1, ceil_mode=False)\n",
              "    (24): Conv2d(512, 512, kernel_size=(3, 3), stride=(1, 1), padding=(1, 1))\n",
              "    (25): ReLU(inplace=True)\n",
              "    (26): Conv2d(512, 512, kernel_size=(3, 3), stride=(1, 1), padding=(1, 1))\n",
              "    (27): ReLU(inplace=True)\n",
              "    (28): Conv2d(512, 512, kernel_size=(3, 3), stride=(1, 1), padding=(1, 1))\n",
              "    (29): ReLU(inplace=True)\n",
              "    (30): MaxPool2d(kernel_size=2, stride=2, padding=0, dilation=1, ceil_mode=False)\n",
              "  )\n",
              "  (avgpool): AdaptiveAvgPool2d(output_size=(7, 7))\n",
              "  (classifier): Sequential(\n",
              "    (0): Linear(in_features=25088, out_features=4096, bias=True)\n",
              "    (1): ReLU(inplace=True)\n",
              "    (2): Dropout(p=0.5, inplace=False)\n",
              "    (3): Linear(in_features=4096, out_features=4096, bias=True)\n",
              "    (4): ReLU(inplace=True)\n",
              "    (5): Dropout(p=0.5, inplace=False)\n",
              "    (6): Linear(in_features=4096, out_features=1000, bias=True)\n",
              "  )\n",
              ")"
            ]
          },
          "execution_count": 24,
          "metadata": {},
          "output_type": "execute_result"
        }
      ],
      "source": [
        "from torchvision.models import vgg16\n",
        "\n",
        "vgg16()"
      ]
    },
    {
      "cell_type": "markdown",
      "metadata": {
        "id": "7EUwsGEFXikg"
      },
      "source": [
        "Как видим, разницы практически нет! Единственное отличие -- промежуточный модуль `nn.AdaptiveAvgPool2d`, который мы уже рассматривали."
      ]
    },
    {
      "cell_type": "markdown",
      "metadata": {
        "id": "lSf72mz9Xikg"
      },
      "source": [
        "У каждой модели есть обучаемые веса, которые можно получить в виде словаря \"состояния\" сети:"
      ]
    },
    {
      "cell_type": "code",
      "execution_count": 25,
      "metadata": {
        "id": "H_rwFIU9Xikg",
        "outputId": "2b5e8294-6e4e-4c29-f751-94c39bb1a5f2"
      },
      "outputs": [
        {
          "data": {
            "text/plain": [
              ",  9.1462e-03,\n",
              "                       7.6926e-03, -1.0356e-02,  1.0496e-02, -1.0014e-02,  4.4989e-03,\n",
              "                       4.8017e-03,  1.3897e-02,  5.9299e-03, -1.2475e-02,  4.6709e-03,\n",
              "                      -9.5180e-03, -8.8206e-03,  5.5096e-03, -5.5526e-03,  8.7798e-03,\n",
              "                       1.1100e-02, -1.4487e-02])),\n",
              "             ('classifier.0.weight',\n",
              "              tensor([[ 3.6846e-03,  3.4358e-03, -3.3585e-03,  ...,  3.9722e-03,\n",
              "                        1.9455e-03,  4.4120e-03],\n",
              "                      [ 3.9170e-03, -9.2679e-04,  1.2423e-03,  ...,  5.3054e-03,\n",
              "                        1.5218e-03,  6.1396e-03],\n",
              "                      [-1.5370e-03,  1.2610e-03,  6.0562e-03,  ...,  5.7767e-03,\n",
              "                       -4.3377e-03, -3.3553e-03],\n",
              "                      ...,\n",
              "                      [ 2.6700e-03,  5.4982e-03, -2.1279e-03,  ...,  1.6752e-03,\n",
              "                        1.3511e-03, -5.5768e-03],\n",
              "                      [-2.6822e-03, -3.7450e-03, -4.1084e-03,  ..., -3.0506e-03,\n",
              "                       -1.8520e-03, -4.3746e-03],\n",
              "                      [-5.3252e-04, -5.2283e-05, -3.3449e-03,  ..., -3.3599e-04,\n",
              "                       -3.7596e-03, -3.6184e-03]])),\n",
              "             ('classifier.0.bias',\n",
              "              tensor([ 0.0059,  0.0050,  0.0043,  ..., -0.0036,  0.0015, -0.0011])),\n",
              "             ('classifier.3.weight',\n",
              "              tensor([[ 0.0050,  0.0058,  0.0018,  ...,  0.0051,  0.0085,  0.0020],\n",
              "                      [-0.0025, -0.0083,  0.0060,  ...,  0.0073,  0.0046,  0.0134],\n",
              "                      [ 0.0116,  0.0068, -0.0074,  ..., -0.0084,  0.0045,  0.0078],\n",
              "                      ...,\n",
              "                      [-0.0011, -0.0100, -0.0133,  ..., -0.0138, -0.0039, -0.0063],\n",
              "                      [-0.0154,  0.0078,  0.0045,  ...,  0.0097, -0.0034,  0.0022],\n",
              "                      [ 0.0097, -0.0064,  0.0093,  ...,  0.0029,  0.0144, -0.0153]])),\n",
              "             ('classifier.3.bias',\n",
              "              tensor([ 0.0038,  0.0045, -0.0047,  ..., -0.0086,  0.0041,  0.0017])),\n",
              "             ('classifier.6.weight',\n",
              "              tensor([[-0.0067,  0.0053,  0.0085,  ...,  0.0073,  0.0042, -0.0109],\n",
              "                      [-0.0077,  0.0094,  0.0107,  ...,  0.0100, -0.0035, -0.0016],\n",
              "                      [-0.0005, -0.0124, -0.0056,  ...,  0.0013,  0.0118, -0.0022],\n",
              "                      ...,\n",
              "                      [ 0.0071, -0.0149, -0.0089,  ..., -0.0054, -0.0049, -0.0069],\n",
              "                      [ 0.0014,  0.0117,  0.0148,  ..., -0.0097, -0.0060,  0.0078],\n",
              "                      [ 0.0013,  0.0056,  0.0010,  ...,  0.0040, -0.0136,  0.0044]])),\n",
              "             ('classifier.6.bias',\n",
              "              tensor([ 4.4428e-03, -8.4216e-03, -9.6137e-03, -5.2872e-03, -1.0473e-02,\n",
              "                       1.1573e-02,  4.7823e-03,  7.3933e-03,  3.6248e-03,  1.3864e-02,\n",
              "                      -8.7156e-03,  3.4262e-03, -4.6623e-03,  1.3750e-02, -4.3453e-03,\n",
              "                      -1.3504e-02,  1.4523e-02,  1.1810e-02, -7.2596e-03,  1.2685e-02,\n",
              "                       1.0562e-02,  4.3927e-03,  1.4142e-02, -1.3330e-02, -8.1402e-03,\n",
              "                      -1.5583e-02,  1.2641e-02, -6.9211e-03, -2.0698e-03, -1.3267e-02,\n",
              "                      -4.9914e-03,  1.1110e-02,  1.3393e-02,  1.1469e-02, -9.2911e-03,\n",
              "                      -9.5823e-03,  2.1826e-03, -1.2619e-02, -9.4887e-03,  1.4309e-02,\n",
              "                      -2.3652e-04, -5.5817e-03,  7.7705e-03,  3.5694e-03, -1.4669e-03,\n",
              "                       1.6438e-03, -1.1142e-02,  7.9715e-03, -6.0936e-04,  8.8985e-03,\n",
              "                       2.2326e-03, -1.1598e-02,  1.3341e-02, -6.0330e-03, -1.3095e-02,\n",
              "                       1.3157e-02, -1.3617e-02,  4.5894e-03, -1.1538e-02,  6.3057e-03,\n",
              "                      -1.2566e-02,  7.7337e-03,  4.6154e-04,  1.3627e-02,  1.7569e-03,\n",
              "                      -8.8496e-03, -1.0746e-02, -1.4066e-02,  1.2981e-02,  3.7496e-03,\n",
              "                      -5.4557e-04, -1.4828e-02, -3.7055e-03,  3.0035e-03, -1.3324e-02,\n",
              "                       9.9469e-03, -1.2231e-02, -1.2694e-02,  5.4039e-03, -6.9527e-03,\n",
              "                       1.5242e-02, -3.1898e-03, -1.0824e-02, -1.0152e-02, -8.3185e-03,\n",
              "                       1.4708e-02,  2.1918e-03,  2.2185e-03,  1.0447e-02,  8.8455e-03,\n",
              "                       1.2836e-02,  5.3324e-03,  5.6105e-03,  7.4728e-03, -9.9167e-03,\n",
              "                      -1.3703e-03, -1.4180e-02,  1.3872e-02, -8.4928e-03,  1.1504e-02,\n",
              "                      -1.4253e-02, -1.2465e-02,  1.3995e-04,  4.0597e-03, -9.6714e-03,\n",
              "                       7.6569e-03, -1.5570e-03, -5.6688e-03,  5.8482e-03, -1.2428e-02,\n",
              "                       1.2870e-02,  9.2103e-03, -1.3845e-03,  1.2504e-02,  1.4201e-02,\n",
              "                       1.3773e-02, -1.4570e-02,  6.6477e-03,  7.3314e-03, -1.1051e-02,\n",
              "                      -4.3362e-03, -7.1527e-03,  1.1814e-02, -7.9293e-03, -4.4940e-03,\n",
              "                      -1.0288e-02, -3.1074e-03,  1.4853e-02,  2.5463e-03, -3.2651e-03,\n",
              "                      -9.7837e-04,  1.3083e-03, -1.2259e-02, -1.4052e-02, -2.1030e-04,\n",
              "                       4.1032e-03, -8.4427e-03, -6.8855e-03, -9.9693e-03, -1.2548e-02,\n",
              "                       5.0901e-03,  1.6837e-04,  8.7630e-04,  1.0087e-03, -6.5591e-03,\n",
              "                      -5.9225e-03, -1.3435e-02,  5.7710e-03, -1.1361e-02,  1.8321e-03,\n",
              "                       2.4628e-03, -4.8778e-03, -1.3964e-02,  2.1353e-03,  1.5549e-02,\n",
              "                       1.2047e-02, -7.5441e-03, -1.3211e-02, -6.0380e-03, -1.3245e-02,\n",
              "                       1.5173e-02, -1.4486e-02, -7.3334e-03,  4.1007e-03, -1.4814e-02,\n",
              "                      -6.2605e-03,  1.9387e-03,  5.6249e-03, -5.2951e-03,  7.2885e-03,\n",
              "                      -2.7503e-03, -6.6533e-03, -9.6121e-03, -1.3333e-03, -2.5803e-04,\n",
              "                       2.6195e-03,  7.1945e-03, -1.4043e-02,  4.3581e-03,  1.0552e-02,\n",
              "                       9.7829e-03,  7.7528e-03, -4.0396e-03,  2.6823e-03,  9.2341e-03,\n",
              "                       8.3787e-03, -1.2654e-02,  6.6328e-03, -1.0351e-02, -1.5599e-02,\n",
              "                       1.2508e-02,  8.2296e-03,  1.1349e-02,  3.6387e-03,  1.0667e-02,\n",
              "                       9.8579e-03, -1.1377e-02,  4.5771e-03, -1.0566e-02, -1.1845e-02,\n",
              "                       5.3651e-03, -6.3684e-03, -6.3166e-04,  1.3490e-02, -1.2292e-02,\n",
              "                       8.0801e-03,  8.9480e-03,  1.0907e-02, -3.9987e-03,  1.4464e-02,\n",
              "                      -1.2471e-02,  7.3337e-03, -1.1912e-02,  9.3921e-03,  4.6448e-03,\n",
              "                      -1.3562e-02, -1.2000e-02, -1.1215e-02,  2.8181e-03,  1.3912e-02,\n",
              "                       1.0903e-02, -1.3222e-02,  2.8125e-03, -9.6316e-03, -9.1341e-03,\n",
              "                      -7.9227e-03, -6.2709e-03, -1.1828e-02, -1.2407e-02, -5.1063e-03,\n",
              "                       8.3772e-03, -1.4666e-02,  7.7588e-03, -6.8760e-03,  7.0799e-04,\n",
              "                       5.9951e-03, -3.7223e-03, -1.2146e-03,  5.0930e-03, -4.6828e-03,\n",
              "                       3.5667e-03, -6.5223e-03, -1.8664e-03,  1.0224e-02,  3.5345e-03,\n",
              "                       2.6400e-03, -2.4563e-03, -1.2809e-02, -1.0958e-02, -7.0782e-03,\n",
              "                       7.4043e-03,  1.3327e-02, -8.5689e-03, -1.0569e-02,  1.0632e-02,\n",
              "                       4.4766e-04, -1.2866e-02,  1.4565e-02, -4.8170e-03,  1.4667e-02,\n",
              "                       6.9751e-03,  1.2098e-02,  2.9623e-03,  8.6609e-03, -1.4487e-02,\n",
              "                      -5.1237e-03, -4.5998e-03, -1.0385e-02, -3.0420e-03,  1.2296e-02,\n",
              "                       3.6869e-03, -5.9016e-03,  8.1515e-04, -1.1105e-02,  1.4504e-02,\n",
              "                      -7.8025e-03, -1.4063e-02, -1.0270e-02, -8.9656e-03,  1.9820e-04,\n",
              "                      -6.9387e-03,  1.2254e-02, -1.4165e-02,  2.3256e-03, -1.0517e-02,\n",
              "                       5.6108e-03,  8.3386e-03,  2.2210e-03,  8.9524e-03, -7.8117e-03,\n",
              "                      -9.0591e-04, -6.6814e-03,  8.9343e-03, -3.1450e-03,  1.3838e-02,\n",
              "                      -7.0721e-03, -6.3256e-03,  1.0117e-02, -1.4989e-02,  7.7118e-03,\n",
              "                       6.1533e-04,  1.7435e-03, -1.0432e-02,  1.2625e-04,  8.8849e-03,\n",
              "                       1.1317e-02,  1.0602e-02, -7.8382e-03, -1.3109e-02, -1.3017e-02,\n",
              "                      -6.1561e-03,  1.5851e-05,  9.3100e-03,  9.6980e-04, -1.2172e-02,\n",
              "                       1.2311e-02, -1.0279e-02, -5.2762e-03,  3.4269e-03,  5.6511e-03,\n",
              "                      -2.2591e-04,  6.4641e-03,  1.0626e-02,  5.4389e-03, -8.4319e-03,\n",
              "                       8.3581e-03, -4.2934e-03, -1.1718e-02,  1.4682e-02, -1.6634e-03,\n",
              "                      -7.4200e-03, -1.1513e-02,  2.1325e-03, -5.3615e-03, -6.8444e-03,\n",
              "                       1.3727e-02,  3.3470e-03,  3.9620e-03,  1.2718e-02, -3.0474e-03,\n",
              "                      -3.4924e-03, -6.0320e-03,  9.9960e-03, -1.0569e-02, -1.1054e-02,\n",
              "                      -2.6079e-03, -7.1180e-03, -5.4570e-03,  1.1854e-02, -1.4348e-02,\n",
              "                      -9.4833e-03,  1.3132e-02,  8.2861e-03, -1.5382e-02,  6.4684e-03,\n",
              "                       1.4167e-02,  7.2870e-03,  7.9315e-04, -4.0901e-03,  1.5196e-02,\n",
              "                      -3.0556e-03,  1.9918e-03, -1.0340e-02, -6.6514e-04,  2.8645e-03,\n",
              "                      -4.9556e-03,  6.0387e-03,  1.0482e-02, -1.2162e-02, -6.8879e-03,\n",
              "                      -2.7730e-03, -1.0934e-02,  7.7270e-04, -2.1663e-03, -1.2149e-02,\n",
              "                      -1.1685e-02, -3.0160e-03,  9.4361e-03, -4.3965e-03, -1.6018e-03,\n",
              "                      -6.6459e-03, -1.3072e-02, -5.0583e-03,  1.0284e-02,  1.2523e-02,\n",
              "                      -7.0189e-03,  8.7121e-04,  1.2957e-02, -1.1780e-02,  8.3112e-03,\n",
              "                       8.2264e-03,  3.3006e-03,  8.7479e-03,  1.5148e-02, -5.6115e-03,\n",
              "                      -8.5284e-03,  1.1019e-02, -1.2308e-02, -3.8420e-03,  1.2486e-02,\n",
              "                      -9.9338e-03,  1.3199e-03,  1.6560e-03,  1.4639e-02, -9.2279e-03,\n",
              "                       7.5245e-03, -1.5026e-02, -1.3955e-02,  1.2263e-02, -2.0282e-03,\n",
              "                      -8.4369e-03,  7.5933e-03, -8.8351e-03, -1.0313e-02, -1.3910e-02,\n",
              "                       5.6451e-03, -1.1802e-02, -7.9343e-03,  3.8891e-03,  1.1876e-02,\n",
              "                      -1.4386e-02, -5.6848e-05,  7.2095e-03,  7.4775e-03,  6.9516e-03,\n",
              "                       1.0682e-02, -1.4028e-02, -1.1817e-02,  5.5255e-03, -1.8419e-03,\n",
              "                      -1.4179e-02, -3.7054e-04, -2.2558e-03, -5.9300e-03,  4.1107e-03,\n",
              "                      -1.1550e-02,  1.5545e-02,  1.4714e-02, -1.2626e-02, -7.5773e-03,\n",
              "                       1.3508e-02,  1.1818e-02,  5.1690e-03, -1.1723e-02,  7.5648e-03,\n",
              "                       4.3801e-03, -1.1891e-02, -6.9530e-03,  5.9509e-03,  9.0687e-03,\n",
              "                       1.4325e-02,  1.0491e-02,  3.3422e-03, -1.0968e-02, -2.7577e-03,\n",
              "                       1.5058e-02,  8.2115e-03, -9.7038e-03,  6.1750e-03,  4.0442e-03,\n",
              "                       7.6408e-03,  3.1581e-03,  3.8158e-03, -8.0361e-03, -2.8911e-03,\n",
              "                      -3.4644e-03, -1.0702e-03, -9.7389e-03, -1.1449e-02, -1.0920e-02,\n",
              "                       1.2960e-02,  4.2136e-03, -2.7987e-03, -6.4811e-04,  8.5272e-03,\n",
              "                      -3.8926e-04, -1.1853e-02, -3.7774e-04,  1.2418e-02, -2.0648e-03,\n",
              "                      -1.0654e-02, -1.3896e-02,  5.1257e-04, -5.2711e-03, -6.7825e-03,\n",
              "                      -5.3341e-03, -8.1116e-04,  4.9054e-03, -9.2252e-03, -1.0891e-02,\n",
              "                       6.5964e-03,  1.1906e-02,  1.3492e-02, -1.0327e-02, -3.5398e-03,\n",
              "                       8.6097e-03,  1.2834e-02,  5.8878e-03,  1.1722e-02, -1.9245e-03,\n",
              "                      -5.2206e-03,  4.8030e-03,  1.1458e-02,  1.3728e-02,  1.1126e-02,\n",
              "                      -1.2384e-02,  1.5439e-02,  1.3078e-02,  4.1726e-04,  5.6679e-03,\n",
              "                       1.4310e-02,  2.6057e-03, -1.3242e-02, -1.0796e-03,  9.2661e-03,\n",
              "                       1.1420e-02, -1.4487e-02, -1.3950e-02,  9.7758e-03, -1.1069e-03,\n",
              "                       8.9328e-03, -5.8733e-04,  1.1043e-02, -1.0346e-02, -7.4104e-04,\n",
              "                      -1.3070e-03, -1.1551e-03, -1.5155e-02, -5.1167e-03,  9.8648e-03,\n",
              "                       9.1677e-03, -1.3911e-02, -1.1025e-02, -7.4663e-03, -4.2387e-03,\n",
              "                       4.9989e-03, -1.4708e-02, -3.8420e-03,  6.4344e-03, -1.3628e-02,\n",
              "                      -1.2587e-02,  1.4498e-02, -8.2576e-03,  1.2129e-02,  6.8939e-03,\n",
              "                       4.2231e-03, -1.2102e-02,  8.6429e-03, -3.7092e-04, -4.3146e-04,\n",
              "                      -1.5005e-02, -1.1437e-02,  4.1883e-03,  4.2517e-03, -3.0464e-03,\n",
              "                       6.9359e-03, -3.2658e-03, -6.4342e-03, -6.1038e-03,  1.1017e-02,\n",
              "                      -5.7110e-03,  1.0840e-02,  3.3613e-03, -6.5825e-03,  1.0323e-02,\n",
              "                       1.4892e-02,  1.2655e-02,  5.2881e-03,  5.7584e-03,  1.4070e-02,\n",
              "                      -5.3165e-03,  5.5642e-03,  1.5453e-02, -8.9845e-03, -8.5670e-03,\n",
              "                       1.2912e-02, -7.4624e-03,  2.5271e-03,  9.2030e-03,  1.1800e-02,\n",
              "                       1.2819e-04, -8.6132e-03,  9.7623e-03, -1.3632e-02,  2.1016e-03,\n",
              "                      -2.4257e-04, -1.4751e-02,  1.0178e-02,  1.3586e-02,  1.3542e-02,\n",
              "                       1.3690e-02,  1.3357e-02,  1.0418e-02, -4.7474e-04, -1.1059e-02,\n",
              "                       6.3864e-03, -2.2441e-03, -1.4907e-02, -1.3301e-02, -1.2283e-02,\n",
              "                      -1.3974e-04, -9.6640e-03,  2.7801e-03,  4.5657e-03, -4.3520e-03,\n",
              "                       1.3033e-02, -1.4034e-02,  1.3572e-02, -1.4231e-02, -7.6428e-03,\n",
              "                      -5.9650e-03,  1.4627e-03, -1.2685e-03, -1.3674e-02, -3.3877e-03,\n",
              "                      -5.4567e-03,  1.6026e-04,  4.1004e-03, -9.0488e-03,  5.7086e-03,\n",
              "                       1.4800e-02,  2.2816e-03,  7.8987e-03,  5.4343e-03, -7.3490e-03,\n",
              "                       8.7023e-03, -7.2466e-03,  1.4205e-02,  5.7478e-03,  7.9936e-03,\n",
              "                      -2.3731e-03, -3.9544e-03,  7.9344e-03, -2.9901e-03, -3.0712e-03,\n",
              "                      -1.5224e-02, -8.1973e-04, -6.8088e-03, -1.2579e-02, -2.3305e-03,\n",
              "                       1.2359e-02, -5.3883e-03, -8.5608e-03,  6.6453e-03, -6.4377e-03,\n",
              "                       2.0811e-03, -1.6282e-03,  1.0632e-03, -1.1178e-02, -6.8828e-03,\n",
              "                       3.2667e-03, -1.1171e-02, -5.9636e-03,  6.7566e-04, -2.9202e-03,\n",
              "                      -1.2579e-02, -1.2965e-02, -7.3951e-03, -2.4666e-03, -6.2601e-04,\n",
              "                       8.4151e-03, -1.4580e-02,  8.7653e-03, -1.2752e-02,  6.6325e-03,\n",
              "                      -1.5345e-02,  7.3230e-03,  1.2036e-02, -1.5132e-02, -7.5243e-03,\n",
              "                      -5.5796e-03,  5.6047e-03,  1.2868e-02,  3.3218e-03,  1.2404e-02,\n",
              "                      -8.7567e-03, -1.5048e-02,  3.7910e-03,  9.5833e-03,  1.2956e-02,\n",
              "                      -8.5671e-03, -1.5690e-04, -1.2806e-02, -9.0493e-03, -8.9755e-03,\n",
              "                      -6.5634e-03, -4.4625e-03, -1.0323e-02,  3.4751e-03,  5.1672e-04,\n",
              "                      -1.3842e-03, -9.5946e-04, -8.3431e-03,  8.6748e-03, -3.3900e-03,\n",
              "                       4.7217e-03,  2.0406e-03,  6.5520e-03,  1.4601e-02, -1.5114e-02,\n",
              "                       5.5661e-03, -8.2026e-03, -1.9194e-03, -6.7356e-03,  6.7094e-03,\n",
              "                       2.7830e-03,  9.4021e-03, -1.5610e-02, -7.9143e-03,  1.3159e-02,\n",
              "                      -1.5102e-02, -3.6183e-03, -2.8569e-03,  1.6140e-03, -7.2753e-03,\n",
              "                       7.4597e-03, -1.4911e-02,  1.3454e-02,  4.7991e-03, -1.1981e-02,\n",
              "                       1.4760e-02,  3.3592e-03, -2.3819e-03,  1.0287e-02, -1.0016e-02,\n",
              "                      -5.8332e-03, -1.3695e-02,  8.1969e-03,  3.7522e-03,  9.1883e-03,\n",
              "                       1.7528e-03,  1.2728e-02, -1.1127e-02,  4.0614e-03,  5.9672e-03,\n",
              "                       1.1120e-02,  6.0643e-04,  6.8818e-03,  5.0635e-03, -4.8849e-03,\n",
              "                      -1.1485e-02, -6.0172e-03,  1.1465e-02, -4.8654e-03, -1.3411e-04,\n",
              "                      -4.1496e-03, -6.1671e-03, -4.9839e-03,  7.8209e-03, -1.6107e-03,\n",
              "                       1.3753e-02, -1.1775e-04, -1.0697e-02, -3.3814e-03,  2.6626e-03,\n",
              "                      -5.2144e-03,  4.5259e-03, -5.3264e-03,  1.4283e-02,  1.0722e-03,\n",
              "                      -1.1325e-02, -7.7841e-03, -1.1677e-02, -1.6745e-03,  1.1200e-02,\n",
              "                      -1.4651e-02,  6.4586e-03, -1.1171e-02,  4.6958e-03, -1.1773e-02,\n",
              "                      -1.1892e-02, -1.3672e-02, -1.5593e-02,  1.4495e-02,  7.3223e-04,\n",
              "                       1.5254e-02, -8.9658e-03, -9.2432e-03,  1.3063e-02,  1.2744e-02,\n",
              "                       1.0534e-02,  1.3394e-02,  1.2768e-02, -4.2975e-03, -5.9349e-03,\n",
              "                       2.6540e-03, -1.6925e-03, -1.4012e-02,  1.5049e-02,  1.3658e-02,\n",
              "                      -8.3358e-03,  1.1496e-02,  5.5095e-03, -4.3261e-03, -1.0681e-03,\n",
              "                      -1.4820e-02,  6.9472e-03, -2.3167e-03, -5.5884e-03,  6.2910e-03,\n",
              "                       6.5670e-03,  4.9396e-03, -2.0828e-04, -1.0524e-02, -1.4378e-02,\n",
              "                      -1.1839e-03, -1.3263e-02, -9.0562e-03, -1.2514e-02,  1.2106e-02,\n",
              "                       1.1302e-02, -1.3206e-02,  1.7971e-03,  1.4206e-02,  4.9854e-03,\n",
              "                       1.1643e-02, -1.4576e-02, -3.1985e-03, -1.4781e-02,  7.7617e-03,\n",
              "                       2.0028e-03,  1.3691e-02,  1.3607e-02,  9.7359e-03, -3.3823e-03,\n",
              "                      -1.1758e-02, -1.0985e-02, -1.0519e-02, -1.4434e-02,  1.0820e-02,\n",
              "                       4.3231e-03, -5.7918e-03, -7.1804e-03, -8.5653e-03,  6.3379e-03,\n",
              "                      -1.5046e-02, -1.3766e-02, -7.2163e-03,  1.4658e-02, -1.5095e-02,\n",
              "                       1.1894e-02,  6.5753e-03,  1.4949e-02,  5.4555e-03,  2.8653e-03,\n",
              "                      -1.2045e-03, -1.1266e-02,  1.1148e-02,  1.3306e-02,  2.1150e-03,\n",
              "                      -4.2564e-03,  1.8451e-03, -1.0504e-02,  6.7952e-03, -1.0603e-02,\n",
              "                       3.3216e-03,  5.6017e-03,  1.3210e-02,  4.6369e-03,  1.5379e-02,\n",
              "                      -3.3006e-03,  1.5235e-02,  1.0644e-03,  1.1560e-02,  1.8413e-03,\n",
              "                       8.7860e-03, -1.1675e-02,  1.4254e-02,  1.3450e-02, -1.0094e-02,\n",
              "                       9.8774e-03, -8.6539e-03,  1.5170e-02,  2.2621e-03,  2.7905e-03,\n",
              "                       2.4257e-03, -2.1493e-03, -6.0122e-03,  4.6886e-03, -1.2892e-02,\n",
              "                      -2.1340e-03, -2.1856e-03,  1.0009e-02,  8.4457e-03,  1.3637e-02,\n",
              "                      -5.8466e-03, -1.3284e-02,  3.8913e-03, -7.2057e-03,  1.5207e-02,\n",
              "                      -7.2584e-03,  1.5350e-02, -1.8677e-03, -1.5479e-02,  1.4155e-02,\n",
              "                       5.1428e-03,  1.3070e-03, -1.4027e-02,  1.3046e-02, -1.8550e-03,\n",
              "                      -4.3686e-03, -1.4827e-03, -1.4131e-02, -7.4621e-04,  7.8537e-03,\n",
              "                      -1.4332e-02, -3.3734e-03, -4.2546e-03, -1.4561e-02,  9.1634e-03,\n",
              "                      -1.2329e-02, -1.0035e-02,  9.9970e-03, -1.4773e-02, -3.3997e-03,\n",
              "                       7.3663e-03, -1.1442e-02, -1.2405e-02,  2.6147e-03, -4.8648e-03,\n",
              "                      -9.0999e-03, -2.4989e-03, -1.5555e-02, -1.1195e-02,  5.8023e-03,\n",
              "                      -2.7843e-03, -1.2842e-02, -1.3520e-02, -1.1590e-02, -1.1684e-02,\n",
              "                       9.9009e-05,  9.9904e-03,  5.9752e-03, -1.5027e-02,  3.0218e-03,\n",
              "                       1.4164e-02, -1.4506e-03, -1.5590e-02,  3.5620e-03,  1.4731e-02,\n",
              "                       1.5300e-02, -5.1955e-03,  1.0547e-02, -1.0248e-02,  7.5396e-03,\n",
              "                       1.4952e-02,  8.6348e-03,  2.8595e-03, -6.9875e-03,  1.0789e-02,\n",
              "                      -1.0769e-02,  2.0305e-03,  5.0364e-03,  5.7145e-03, -3.3127e-03,\n",
              "                       1.4674e-02,  1.0596e-02, -1.0816e-02, -5.2753e-04,  6.3726e-03,\n",
              "                       1.1486e-02,  3.3000e-03, -9.7659e-03, -5.3244e-03, -1.1024e-02,\n",
              "                       4.6782e-03, -1.2246e-03,  1.1237e-02,  6.2757e-03, -8.6187e-03,\n",
              "                      -3.2537e-03, -5.5798e-03,  5.8611e-03,  1.3348e-02,  9.6441e-03,\n",
              "                       1.2948e-02,  2.8755e-03, -8.1340e-03,  1.5268e-02, -1.0255e-02,\n",
              "                       5.7004e-03,  7.4547e-03,  1.1275e-02,  1.7749e-03, -1.0202e-02,\n",
              "                       1.0504e-02, -8.8354e-03,  1.2753e-02,  5.0336e-03, -8.5248e-04,\n",
              "                      -6.8287e-03, -1.0946e-02,  3.4664e-03, -3.4268e-03,  1.4791e-02,\n",
              "                       1.2305e-02,  1.4292e-02,  9.6542e-03,  5.4408e-03, -8.6541e-03]))])"
            ]
          },
          "execution_count": 25,
          "metadata": {},
          "output_type": "execute_result"
        }
      ],
      "source": [
        "net.state_dict()"
      ]
    },
    {
      "cell_type": "markdown",
      "metadata": {
        "id": "_PIS9FrOXikh"
      },
      "source": [
        "В нашем случае там пока что находятся случайно инициализированные веса.\n",
        "\n",
        "Но в библиотеке `torchvision` для многих моделей есть и предобученные на датасете ImageNet веса.\n",
        "\n",
        "Так, предобученные веса для модели VGG-16 можно получить, указав параметр `pretrained=True` при создании:"
      ]
    },
    {
      "cell_type": "code",
      "execution_count": 26,
      "metadata": {
        "id": "zIhEiKtIXikh",
        "outputId": "46e49f01-be70-4acf-b7c9-539048c1a613",
        "tags": []
      },
      "outputs": [
        {
          "name": "stderr",
          "output_type": "stream",
          "text": [
            "Downloading: \"https://download.pytorch.org/models/vgg16-397923af.pth\" to /home/eos/.cache/torch/hub/checkpoints/vgg16-397923af.pth\n",
            "100%|██████████| 528M/528M [02:50<00:00, 3.25MB/s]\n"
          ]
        },
        {
          "data": {
            "text/plain": [
              "03e-02, -1.0054e-02,\n",
              "                       2.1246e-01,  1.3612e-01, -7.6917e-01,  4.1772e-02,  5.9762e-02,\n",
              "                       1.0543e-03, -1.5168e-02,  2.7847e-01,  5.2689e-02,  1.2394e-01,\n",
              "                       3.0762e-02,  1.4299e-01,  1.2184e-02,  3.3403e-02, -1.4907e-02,\n",
              "                      -6.7975e-02,  3.4594e-01])),\n",
              "             ('classifier.0.weight',\n",
              "              tensor([[-0.0011, -0.0027,  0.0022,  ...,  0.0066, -0.0004, -0.0021],\n",
              "                      [ 0.0052,  0.0020,  0.0046,  ..., -0.0054, -0.0045, -0.0019],\n",
              "                      [-0.0005,  0.0052,  0.0018,  ...,  0.0068,  0.0005,  0.0091],\n",
              "                      ...,\n",
              "                      [-0.0075, -0.0096, -0.0025,  ..., -0.0079, -0.0106, -0.0036],\n",
              "                      [-0.0004,  0.0014, -0.0019,  ...,  0.0036,  0.0021,  0.0038],\n",
              "                      [ 0.0063,  0.0041, -0.0004,  ..., -0.0030,  0.0011,  0.0047]])),\n",
              "             ('classifier.0.bias',\n",
              "              tensor([ 0.0341,  0.0021,  0.0217,  ..., -0.0060,  0.0480,  0.0001])),\n",
              "             ('classifier.3.weight',\n",
              "              tensor([[-0.0113,  0.0104, -0.0017,  ..., -0.0161,  0.0121,  0.0065],\n",
              "                      [-0.0005, -0.0078,  0.0071,  ..., -0.0041,  0.0099, -0.0111],\n",
              "                      [-0.0109, -0.0052,  0.0168,  ..., -0.0036,  0.0035, -0.0224],\n",
              "                      ...,\n",
              "                      [-0.0107, -0.0073, -0.0038,  ..., -0.0025,  0.0083, -0.0054],\n",
              "                      [ 0.0054,  0.0081, -0.0136,  ...,  0.0041, -0.0004, -0.0023],\n",
              "                      [ 0.0288,  0.0066,  0.0049,  ...,  0.0244,  0.0066, -0.0073]])),\n",
              "             ('classifier.3.bias',\n",
              "              tensor([0.0332, 0.0616, 0.0307,  ..., 0.0456, 0.0442, 0.0588])),\n",
              "             ('classifier.6.weight',\n",
              "              tensor([[ 1.3450e-02,  4.2154e-02, -2.3040e-03,  ..., -4.9025e-04,\n",
              "                        1.8880e-02, -1.4209e-02],\n",
              "                      [ 7.6020e-03,  4.7305e-02, -5.0164e-03,  ..., -4.9127e-03,\n",
              "                       -5.6295e-03, -1.4197e-02],\n",
              "                      [ 2.1238e-03, -1.2520e-02, -1.8903e-02,  ..., -1.0263e-02,\n",
              "                        3.0020e-02, -2.8852e-02],\n",
              "                      ...,\n",
              "                      [-9.8278e-03,  3.2054e-02,  3.5979e-02,  ..., -5.6409e-03,\n",
              "                        8.3202e-03, -7.5155e-03],\n",
              "                      [ 1.6646e-02, -1.1247e-03,  1.5044e-03,  ..., -9.1578e-03,\n",
              "                       -8.6418e-03, -2.0923e-02],\n",
              "                      [-6.4900e-06, -2.2274e-02,  5.2750e-04,  ...,  4.4403e-02,\n",
              "                       -9.4047e-03, -1.2332e-02]])),\n",
              "             ('classifier.6.bias',\n",
              "              tensor([ 2.0239e-02, -2.9844e-02, -6.0355e-03,  5.3569e-03,  2.4703e-02,\n",
              "                       9.4541e-04,  7.6767e-03, -1.2997e-02, -1.7257e-02,  2.4917e-03,\n",
              "                      -2.9578e-03, -1.2410e-02,  1.9179e-02,  2.2878e-02,  1.6132e-02,\n",
              "                      -1.5368e-02,  1.3967e-03,  4.3597e-04,  1.4483e-02,  1.6664e-02,\n",
              "                       1.0173e-02,  2.3670e-02, -1.2096e-03,  1.6110e-02, -5.3769e-03,\n",
              "                      -1.1735e-02, -1.0727e-02, -2.9511e-02, -7.2404e-03,  3.9187e-02,\n",
              "                       1.1590e-02,  2.8063e-03, -5.4244e-03, -4.0255e-03,  1.3839e-04,\n",
              "                      -1.1612e-02, -1.8595e-03,  1.5770e-02, -1.7732e-02,  1.0556e-02,\n",
              "                       1.2518e-02,  6.8095e-03, -1.2896e-02, -4.4475e-03,  3.5410e-03,\n",
              "                      -2.7491e-03,  2.2288e-02,  2.3229e-02,  1.0078e-02,  1.2641e-02,\n",
              "                       7.9056e-03,  2.1109e-02, -1.6828e-02,  6.2936e-03, -2.8307e-02,\n",
              "                       7.4882e-03, -2.9438e-02,  4.9023e-02,  4.9702e-02,  3.8240e-02,\n",
              "                      -6.2107e-02,  1.7567e-02,  1.3668e-02,  5.5128e-02,  6.3641e-02,\n",
              "                      -1.5907e-02, -2.1543e-02,  2.4153e-02,  2.9221e-03,  3.6656e-02,\n",
              "                      -2.5589e-04,  1.0257e-02,  6.0446e-02, -2.0747e-02, -2.8418e-02,\n",
              "                       3.8297e-02,  2.2449e-02,  1.2476e-02, -1.6173e-02, -6.9245e-03,\n",
              "                      -1.2505e-02, -5.7967e-03, -1.4107e-02, -3.1422e-02, -1.4501e-02,\n",
              "                       2.6878e-02,  8.3460e-04,  6.1786e-02, -2.5483e-02,  4.5734e-02,\n",
              "                      -2.3228e-02, -4.4627e-04, -1.7937e-02, -2.0320e-02, -9.1343e-04,\n",
              "                      -6.4768e-03,  2.8838e-03,  1.1061e-02, -6.5366e-03, -2.7389e-02,\n",
              "                      -6.6679e-05,  1.2584e-02,  1.9082e-02,  3.7356e-02,  5.4718e-03,\n",
              "                       3.8678e-02,  6.9227e-03, -2.8615e-02, -6.7014e-03, -4.2353e-02,\n",
              "                      -1.1660e-01,  1.1963e-02,  1.0936e-03,  2.6548e-02,  1.8300e-02,\n",
              "                      -5.5016e-02, -1.6249e-03,  2.6446e-02, -2.7349e-03, -2.7034e-02,\n",
              "                       1.0505e-03, -3.8161e-02,  1.3213e-02, -4.9820e-03, -2.4466e-02,\n",
              "                       5.7482e-03, -6.1060e-02,  2.7150e-03,  5.9516e-03,  7.9525e-04,\n",
              "                      -6.7904e-02,  8.9988e-03,  4.4904e-02, -4.1445e-03, -4.8999e-02,\n",
              "                      -3.8526e-02, -3.0757e-02, -3.0013e-03,  4.4977e-03, -7.2840e-03,\n",
              "                       7.6950e-03,  5.5544e-03, -1.5949e-02, -3.3493e-02, -1.2481e-02,\n",
              "                      -1.9195e-02,  2.0324e-02,  5.3610e-03,  1.9483e-02,  1.8587e-02,\n",
              "                       5.8054e-03,  1.7311e-02, -8.2453e-02,  6.2503e-02, -1.2923e-02,\n",
              "                       2.0150e-02,  2.7138e-02, -1.7074e-03, -5.9132e-02,  2.4080e-02,\n",
              "                      -6.3872e-03,  3.1647e-02,  7.6580e-02, -3.4454e-04,  3.1730e-02,\n",
              "                      -2.8833e-02,  5.7331e-03, -3.9463e-02,  4.0252e-02,  8.9949e-03,\n",
              "                       3.5317e-02,  7.2347e-02, -5.3385e-04, -2.8689e-02,  6.2374e-02,\n",
              "                      -4.2100e-02,  1.2404e-02,  3.7113e-02,  4.2264e-02, -1.0894e-03,\n",
              "                       2.5798e-02,  1.3201e-02,  5.9872e-02,  2.6516e-02, -7.7218e-03,\n",
              "                       1.6828e-02,  1.9599e-02,  3.4458e-02, -8.9315e-03,  2.9612e-02,\n",
              "                      -1.1887e-02,  3.1144e-02,  3.7925e-02, -6.8350e-03,  2.9055e-02,\n",
              "                       7.0744e-02,  3.5352e-02,  4.5257e-03, -6.7377e-03,  4.8965e-02,\n",
              "                      -7.1239e-02,  6.5041e-03,  5.8401e-02,  5.3597e-02,  1.7927e-02,\n",
              "                       3.6933e-02, -1.9689e-02,  3.3865e-02, -1.3453e-02,  6.9940e-02,\n",
              "                       4.4340e-03, -1.8287e-02,  1.5174e-02, -2.2757e-02,  1.6309e-02,\n",
              "                       4.5446e-02, -2.8600e-02,  4.9436e-02,  7.5250e-03, -1.0546e-02,\n",
              "                      -2.2604e-02, -1.6502e-02,  4.5720e-02,  8.4474e-02, -1.2261e-02,\n",
              "                       7.2513e-02,  2.4530e-03,  6.4050e-03, -6.6105e-03,  7.0984e-02,\n",
              "                       3.5590e-02, -2.1918e-02,  6.7042e-02,  1.5241e-02,  6.0627e-02,\n",
              "                       1.0640e-02,  2.5195e-02,  4.0457e-02,  4.5375e-02,  6.4500e-02,\n",
              "                       1.4049e-02, -2.6033e-02,  6.9238e-03,  1.5410e-02,  1.0396e-02,\n",
              "                      -2.2500e-03, -2.1743e-02,  2.7361e-02, -4.0054e-03,  3.6920e-03,\n",
              "                       4.8795e-02,  2.2010e-02,  2.3484e-02, -3.5672e-02,  5.9931e-02,\n",
              "                       3.5723e-03,  1.0215e-02,  7.1785e-02,  1.5093e-02,  1.9409e-02,\n",
              "                      -1.0631e-02,  1.0041e-02, -3.5025e-02,  5.1083e-02,  6.7416e-03,\n",
              "                       1.5887e-02,  4.2009e-02, -5.0773e-02, -1.7900e-02,  2.7642e-02,\n",
              "                       2.0627e-02, -4.6130e-03,  2.1796e-02,  5.9296e-03, -3.2989e-02,\n",
              "                      -7.5952e-03,  1.9803e-02,  9.4290e-03, -8.7341e-03,  1.7098e-02,\n",
              "                      -2.2270e-02,  1.2361e-01, -3.8207e-02,  1.4395e-03,  5.4520e-02,\n",
              "                       4.8118e-02,  3.4782e-02, -4.7019e-03, -1.9831e-02,  3.8845e-02,\n",
              "                       6.0850e-03, -1.4381e-02,  4.9491e-02, -2.7058e-02, -2.4787e-02,\n",
              "                      -6.3279e-03,  1.4277e-02,  2.2483e-02, -4.9233e-02,  3.8480e-02,\n",
              "                      -2.9650e-02, -1.8599e-02, -1.9932e-03, -4.2109e-02, -6.0562e-02,\n",
              "                       1.7470e-02,  2.7788e-02, -3.4156e-02, -5.0233e-03, -2.0081e-02,\n",
              "                      -5.3831e-02, -7.0464e-03, -4.0125e-02,  5.2068e-02,  5.3731e-03,\n",
              "                       9.0153e-03, -3.2561e-05, -3.3795e-02, -2.7959e-02, -2.4056e-02,\n",
              "                      -1.0066e-02, -3.8689e-02, -2.3882e-02, -2.8881e-02,  1.9373e-03,\n",
              "                      -5.9984e-02, -1.3545e-02, -6.0373e-02, -3.1486e-02, -7.4332e-02,\n",
              "                       6.3616e-03, -3.0455e-02,  3.0601e-02,  5.2993e-02,  5.1747e-02,\n",
              "                       2.2551e-02,  9.0139e-03, -2.1590e-02, -4.8878e-02,  2.6130e-02,\n",
              "                      -1.2450e-03, -3.8225e-02,  6.8278e-03,  1.5274e-02,  2.5427e-02,\n",
              "                      -3.3353e-02,  3.3671e-02,  1.6623e-02, -1.6129e-02,  2.3300e-02,\n",
              "                       2.6170e-02, -8.3109e-03, -1.3620e-02, -1.0198e-02,  1.2645e-02,\n",
              "                      -2.7044e-03, -5.1699e-02, -1.2183e-02, -4.2912e-03,  7.0602e-02,\n",
              "                      -1.0591e-02,  3.3304e-02,  1.5505e-03,  2.7523e-02,  3.5229e-02,\n",
              "                       2.6252e-02,  4.7357e-02,  2.9449e-02, -1.5236e-02,  4.1031e-02,\n",
              "                      -1.1941e-02, -3.8416e-02,  3.4909e-02,  2.5368e-02,  5.3995e-04,\n",
              "                       3.2529e-03,  2.0679e-02,  1.6295e-02,  5.9731e-02,  1.5224e-02,\n",
              "                      -6.0552e-02, -1.7674e-02,  6.6975e-02,  1.4761e-02, -1.9037e-02,\n",
              "                      -3.4594e-03,  3.7793e-02, -5.1098e-03,  5.8897e-03,  1.9403e-02,\n",
              "                      -2.3564e-02,  1.9174e-02, -2.2748e-02, -2.0098e-02, -5.0562e-03,\n",
              "                       2.3758e-02,  6.6555e-03, -7.3947e-03, -5.6201e-02,  2.3188e-02,\n",
              "                       3.3316e-03,  2.4976e-02, -1.3101e-02,  2.4161e-02, -8.5088e-03,\n",
              "                       4.9697e-02,  1.0554e-02, -7.4188e-02, -7.5903e-02, -2.4110e-02,\n",
              "                       1.1068e-03, -3.4545e-03, -1.6059e-02,  3.6029e-02, -2.8019e-03,\n",
              "                      -2.6729e-02,  3.9026e-02, -4.2616e-02, -9.9599e-03, -8.3776e-03,\n",
              "                       2.8448e-02, -1.2167e-02, -5.3328e-02,  3.4896e-02,  5.4654e-02,\n",
              "                       8.9463e-03, -4.2294e-02, -6.1719e-02,  7.0205e-03, -3.2173e-02,\n",
              "                      -3.7807e-03,  5.2077e-02, -2.3974e-02,  1.7426e-02, -6.8874e-02,\n",
              "                      -2.6062e-03,  3.0595e-02, -1.5023e-02,  1.4022e-02, -5.0861e-02,\n",
              "                       3.7215e-03, -2.6806e-03,  3.5630e-02, -3.0362e-02,  2.2297e-02,\n",
              "                       4.9580e-02,  1.2369e-03, -3.4180e-02,  6.0701e-02,  3.3855e-02,\n",
              "                       6.1321e-03,  7.2363e-03, -1.6917e-03,  3.6149e-02,  2.1222e-02,\n",
              "                      -3.3272e-02,  1.9069e-02, -6.0149e-03, -2.7366e-02,  2.8984e-03,\n",
              "                      -3.4129e-03,  1.6887e-02, -3.5749e-03, -6.8191e-02,  2.3846e-02,\n",
              "                       1.6106e-02,  4.3023e-02,  1.3928e-02,  2.9887e-02,  1.4960e-02,\n",
              "                      -2.2989e-02,  2.0963e-02, -2.8435e-02,  2.0125e-02,  3.3749e-02,\n",
              "                       8.2363e-02, -2.5720e-02,  1.0292e-01,  1.2403e-03, -2.7880e-02,\n",
              "                       5.2865e-02, -2.4874e-02,  5.8873e-03, -4.3715e-03, -2.7919e-02,\n",
              "                       3.2519e-02, -1.7567e-02,  5.1975e-02, -8.3832e-02,  1.4786e-02,\n",
              "                      -1.2771e-02,  4.5308e-02,  2.4353e-02, -4.0642e-02, -5.5089e-02,\n",
              "                      -2.2368e-02,  3.3539e-02, -7.9810e-02,  2.2758e-02, -1.9840e-02,\n",
              "                       9.0427e-03, -2.4242e-02, -9.2313e-02,  1.1919e-02,  2.4050e-02,\n",
              "                       3.2105e-02, -8.4704e-02, -1.6657e-02, -3.0554e-03,  4.6309e-03,\n",
              "                      -2.3363e-02, -4.5799e-03,  1.5235e-02,  1.2100e-02,  1.2569e-02,\n",
              "                       1.6497e-02, -1.9934e-02,  3.3158e-02, -8.1766e-03, -2.0283e-02,\n",
              "                      -3.6283e-02, -7.5604e-03,  2.8872e-02,  2.8258e-03,  4.4513e-02,\n",
              "                       4.7551e-03,  7.7385e-02,  5.9271e-02, -3.0499e-02, -8.8495e-05,\n",
              "                      -1.0404e-02, -1.9523e-02, -8.4611e-04, -2.3710e-02,  1.6756e-02,\n",
              "                       3.8044e-02, -2.4882e-02,  2.7985e-02, -2.4580e-03, -2.7513e-03,\n",
              "                      -1.4628e-02, -4.4961e-02, -2.0490e-03, -4.6212e-02, -7.0188e-03,\n",
              "                      -5.3620e-03, -3.9620e-03, -1.1776e-02,  2.6604e-02,  2.2971e-02,\n",
              "                       2.5485e-02,  2.3256e-02, -3.0783e-02, -4.4985e-02, -2.1356e-02,\n",
              "                      -1.3835e-02, -3.7883e-02,  1.3674e-02, -3.5847e-02, -6.0238e-02,\n",
              "                      -1.6030e-02,  9.9658e-03, -3.9750e-02,  5.1179e-02,  3.4657e-02,\n",
              "                      -2.8058e-02,  8.1699e-04, -4.7458e-02, -5.6738e-03,  2.1224e-02,\n",
              "                       4.1393e-02, -1.0330e-02, -2.4760e-02, -2.8965e-02,  4.1361e-03,\n",
              "                       2.6227e-02,  1.1228e-02,  4.7628e-02, -2.4562e-02,  1.7258e-02,\n",
              "                      -4.8839e-02, -2.7126e-02, -7.2327e-02,  4.3933e-02, -3.7270e-02,\n",
              "                       2.8985e-03,  2.5128e-02,  2.5233e-02, -9.0966e-03,  3.1926e-02,\n",
              "                      -1.4033e-02, -5.3370e-03,  2.5925e-02, -8.3037e-03,  1.8597e-02,\n",
              "                      -3.4749e-02, -1.6617e-02,  8.2843e-02,  1.5086e-02, -5.0715e-02,\n",
              "                      -3.2014e-02, -3.3381e-03,  9.9305e-04,  3.2323e-02, -9.5939e-03,\n",
              "                       1.8850e-02,  3.1632e-02, -5.2701e-02,  8.1888e-03, -2.6958e-03,\n",
              "                       3.2904e-02, -2.0901e-02,  3.1157e-03,  2.2588e-02, -2.1898e-02,\n",
              "                      -4.5704e-02, -4.8732e-02,  4.9820e-02, -3.4660e-02, -5.2025e-02,\n",
              "                       5.6527e-02, -2.0000e-03,  4.7569e-03, -1.0292e-02, -1.2004e-02,\n",
              "                      -2.7112e-02, -4.4175e-03,  4.7015e-02,  9.4183e-03, -1.0293e-02,\n",
              "                       2.4827e-02, -2.1165e-02, -3.4728e-02,  2.6178e-02,  3.3729e-02,\n",
              "                      -1.0051e-02, -2.4959e-02, -4.0963e-02, -6.2759e-02,  7.6392e-03,\n",
              "                      -2.4506e-02, -3.5312e-02,  5.4566e-03, -5.4158e-02, -7.5320e-02,\n",
              "                      -1.8790e-02, -2.0657e-02, -1.2283e-02,  1.9106e-02,  1.3047e-02,\n",
              "                       1.1992e-02,  4.5593e-02, -1.0798e-02,  2.5652e-02,  2.9297e-02,\n",
              "                       7.1481e-02,  3.4396e-02,  1.7480e-02, -1.9279e-02, -3.8183e-02,\n",
              "                       4.4221e-02,  2.0793e-02,  1.7786e-02, -4.1785e-03,  1.4240e-02,\n",
              "                       4.6463e-02, -6.6139e-04,  1.8974e-03,  2.7180e-02,  2.9930e-02,\n",
              "                       3.3525e-02,  7.7600e-02,  3.6428e-02,  2.0724e-02,  4.4268e-02,\n",
              "                       6.6297e-03, -8.3840e-02,  1.1172e-02,  5.1371e-03, -1.3041e-02,\n",
              "                       1.1880e-02,  2.2298e-02,  1.2055e-02, -1.6229e-02, -2.8393e-02,\n",
              "                       2.8677e-02, -1.5870e-03,  5.2088e-05, -2.1988e-02, -1.6203e-02,\n",
              "                       8.4714e-03,  5.5201e-02, -1.0171e-02, -6.9343e-02, -1.8714e-02,\n",
              "                       4.0182e-02,  1.8755e-02,  2.8231e-03, -1.4027e-02, -1.4812e-02,\n",
              "                      -2.5366e-02, -2.1691e-02, -3.7325e-02,  1.9513e-02,  4.1396e-02,\n",
              "                      -6.7270e-02,  5.4385e-02,  3.6110e-02, -3.2586e-02, -1.5797e-02,\n",
              "                      -1.4585e-02, -4.5290e-03, -2.4140e-02,  4.1866e-02, -4.2935e-02,\n",
              "                       3.4227e-02,  1.4480e-02,  2.3407e-03, -1.0121e-02,  1.3590e-02,\n",
              "                       1.0312e-02, -3.6855e-02, -5.6961e-03, -4.5189e-02, -8.2578e-03,\n",
              "                      -2.2380e-05,  5.0056e-02,  6.8531e-03, -6.7496e-03, -3.3575e-02,\n",
              "                      -6.2393e-02,  7.9509e-03,  1.4348e-02, -8.3250e-02, -3.0460e-02,\n",
              "                      -1.0488e-02, -2.0691e-02, -2.8651e-02,  3.6568e-02,  1.0958e-01,\n",
              "                       6.6219e-03, -2.2891e-02,  9.8843e-03,  4.3048e-02, -3.0546e-02,\n",
              "                       4.7700e-02, -3.5618e-02,  1.5470e-02, -1.3976e-02,  2.7720e-02,\n",
              "                      -2.5930e-02,  1.3437e-03,  2.8364e-02, -1.3526e-02, -6.8687e-02,\n",
              "                       1.7460e-02,  5.0171e-02,  1.7448e-02,  3.8029e-02,  9.8575e-03,\n",
              "                       2.2886e-02,  1.2857e-02, -2.6916e-02,  4.8951e-02, -9.6445e-03,\n",
              "                      -3.5893e-02, -2.6359e-02, -2.0544e-02,  3.6961e-03, -9.1653e-03,\n",
              "                       2.1354e-02, -4.2778e-02, -4.1528e-02, -3.8514e-02, -3.1796e-02,\n",
              "                       3.4630e-02,  4.7508e-02,  2.4460e-02, -6.2255e-02, -5.2742e-02,\n",
              "                       8.7197e-03, -4.4129e-03, -1.8273e-02, -3.5542e-02, -8.3854e-03,\n",
              "                       7.8142e-02,  1.6183e-02, -2.9596e-02,  4.5440e-03, -1.6409e-02,\n",
              "                      -6.8854e-02,  5.5268e-03, -9.1066e-04,  7.5423e-03,  3.0180e-04,\n",
              "                      -4.5678e-02,  2.2746e-02,  1.7497e-03, -3.3456e-02, -9.0392e-03,\n",
              "                      -6.2202e-02,  5.3786e-02,  3.8939e-04,  4.0257e-02,  3.1605e-03,\n",
              "                      -6.9488e-02, -3.2256e-02,  2.3048e-02,  2.6307e-03, -3.9207e-02,\n",
              "                      -5.0876e-02, -4.5844e-02,  3.2221e-02, -2.7124e-02, -7.5084e-03,\n",
              "                      -4.4676e-03,  4.1103e-02, -5.6786e-03, -3.9598e-02,  1.4338e-02,\n",
              "                       2.3843e-03,  1.4621e-02,  4.6011e-02,  7.8583e-04,  1.3014e-02,\n",
              "                       1.4411e-02, -2.8963e-02, -4.4605e-02,  8.5262e-03, -2.8862e-02,\n",
              "                      -5.3216e-03,  2.0222e-02,  3.5987e-03,  1.5160e-02,  8.0866e-02,\n",
              "                      -1.5476e-02,  4.4872e-02,  6.0198e-04, -1.2368e-02,  8.1617e-03,\n",
              "                      -3.7857e-03, -4.2203e-02,  2.6076e-02,  2.1671e-02, -1.6940e-02,\n",
              "                       1.3443e-02, -2.6324e-02,  3.6311e-02,  4.8506e-02, -3.7339e-03,\n",
              "                       1.4108e-02,  7.7902e-04, -6.0017e-02,  3.7350e-03, -2.6110e-02,\n",
              "                       5.0281e-03, -2.4351e-02, -2.7377e-02, -3.7669e-02,  3.8070e-02,\n",
              "                       1.0932e-02,  2.8160e-02, -3.5762e-02,  2.3261e-02,  1.9776e-02,\n",
              "                      -3.8261e-03, -6.5859e-03, -1.8929e-02, -4.5027e-02, -1.1969e-02,\n",
              "                       8.7756e-03, -2.6216e-02, -2.1189e-02,  1.2913e-02, -1.8512e-02,\n",
              "                      -2.6655e-02,  4.0894e-03,  1.6387e-03, -1.6818e-02, -1.0804e-02,\n",
              "                       3.9582e-02,  1.8490e-02,  2.5662e-02, -4.7438e-02,  1.8842e-02,\n",
              "                      -3.9618e-02, -2.2390e-02, -4.7946e-03,  6.2678e-04,  1.4640e-03,\n",
              "                      -2.9613e-02, -2.3728e-02,  5.8741e-03,  3.9343e-02, -4.4972e-03,\n",
              "                       1.2785e-03,  1.9657e-02,  8.6271e-03,  9.4731e-03, -8.3145e-02,\n",
              "                      -9.5304e-03,  5.8406e-03, -2.7983e-02,  1.1320e-02,  5.2982e-03,\n",
              "                       2.1871e-02, -8.8594e-04, -3.8309e-03, -5.7810e-02,  3.0410e-03,\n",
              "                      -2.1917e-02, -7.4865e-02, -4.3740e-02,  2.0407e-02, -3.4062e-03,\n",
              "                       1.8807e-02, -1.7270e-02,  1.7385e-02,  4.7496e-02,  6.6395e-02,\n",
              "                      -1.7039e-02, -1.0944e-02,  7.3278e-03,  2.6257e-02, -2.1868e-02,\n",
              "                      -1.0651e-02,  2.5665e-02, -3.9925e-02,  9.3388e-03,  6.9712e-02,\n",
              "                      -1.0000e-02, -3.2376e-02, -7.8124e-02, -2.6672e-02, -1.0220e-04,\n",
              "                       2.9822e-02,  6.2931e-03, -1.5316e-02, -2.4690e-02, -2.3386e-02,\n",
              "                      -8.5112e-03, -7.5672e-03, -3.5472e-02,  8.3757e-03, -4.4933e-02,\n",
              "                      -2.5905e-02, -3.5467e-02, -7.1374e-02,  9.2666e-03, -7.3159e-02,\n",
              "                      -9.6658e-02, -3.1080e-02, -3.5131e-02, -1.6773e-02, -2.2672e-02,\n",
              "                       7.4318e-03, -9.8196e-03, -4.4741e-02, -2.3274e-02, -4.2749e-02,\n",
              "                      -1.0063e-02,  4.5505e-03, -1.6073e-02, -4.8172e-02, -4.4076e-02,\n",
              "                       6.1854e-02, -9.5113e-03,  2.6095e-02, -8.6355e-02,  1.6138e-02,\n",
              "                      -8.2407e-03,  5.0933e-02,  1.8536e-03, -5.1323e-02,  2.2101e-02,\n",
              "                      -3.0345e-03,  3.6723e-02,  2.7383e-02, -1.4681e-02,  1.0468e-02,\n",
              "                       1.5814e-02,  1.8042e-02,  5.9351e-02, -1.9994e-04, -5.2148e-02,\n",
              "                      -2.8923e-02, -3.6363e-02, -6.5360e-02, -6.3748e-04, -2.7562e-02,\n",
              "                      -4.4246e-02, -4.8769e-02, -4.5221e-02, -5.8486e-02, -3.1612e-02,\n",
              "                      -1.4006e-02, -5.0941e-02,  2.0858e-02, -3.2510e-02, -7.1847e-03]))])"
            ]
          },
          "execution_count": 26,
          "metadata": {},
          "output_type": "execute_result"
        }
      ],
      "source": [
        "vgg16(pretrained=True).state_dict()"
      ]
    },
    {
      "cell_type": "markdown",
      "metadata": {
        "id": "3BPeBmPoXikh"
      },
      "source": [
        "Словарь можно не только получить для обученной модели, но и наоборот загрузить его как веса в модель!\n",
        "\n",
        "Раз мы сами создали практически идентичную стандартной модель, то может веса подойдут для нее?"
      ]
    },
    {
      "cell_type": "code",
      "execution_count": 27,
      "metadata": {
        "id": "Rz4O3vW3Xiki",
        "outputId": "2e914097-d5fe-48a3-9bed-3f52a7760084"
      },
      "outputs": [
        {
          "data": {
            "text/plain": [
              "<All keys matched successfully>"
            ]
          },
          "execution_count": 27,
          "metadata": {},
          "output_type": "execute_result"
        }
      ],
      "source": [
        "net.load_state_dict(vgg16(pretrained=True).state_dict())"
      ]
    },
    {
      "cell_type": "markdown",
      "metadata": {
        "id": "HHBLb-jJXiki"
      },
      "source": [
        "Успех!"
      ]
    },
    {
      "cell_type": "markdown",
      "metadata": {
        "id": "RikWzfGHXiki"
      },
      "source": [
        "## Предсказание построенной моделью"
      ]
    },
    {
      "cell_type": "markdown",
      "metadata": {
        "id": "pYND3iVOXikj"
      },
      "source": [
        "Загрузим изображение"
      ]
    },
    {
      "cell_type": "code",
      "execution_count": 28,
      "metadata": {
        "id": "CHGseh39Xikj",
        "outputId": "c3378e9a-b978-481c-c3fe-814f6c9ff83f"
      },
      "outputs": [
        {
          "ename": "FileNotFoundError",
          "evalue": "[Errno 2] No such file or directory: 'cat.jpg'",
          "output_type": "error",
          "traceback": [
            "\u001b[0;31m---------------------------------------------------------------------------\u001b[0m",
            "\u001b[0;31mFileNotFoundError\u001b[0m                         Traceback (most recent call last)",
            "\u001b[0;32m<ipython-input-28-c885b9149308>\u001b[0m in \u001b[0;36m<module>\u001b[0;34m\u001b[0m\n\u001b[1;32m      1\u001b[0m \u001b[0;32mfrom\u001b[0m \u001b[0mPIL\u001b[0m \u001b[0;32mimport\u001b[0m \u001b[0mImage\u001b[0m\u001b[0;34m\u001b[0m\u001b[0m\n\u001b[1;32m      2\u001b[0m \u001b[0;34m\u001b[0m\u001b[0m\n\u001b[0;32m----> 3\u001b[0;31m \u001b[0mimage\u001b[0m \u001b[0;34m=\u001b[0m \u001b[0mImage\u001b[0m\u001b[0;34m.\u001b[0m\u001b[0mopen\u001b[0m\u001b[0;34m(\u001b[0m\u001b[0;34m'cat.jpg'\u001b[0m\u001b[0;34m)\u001b[0m\u001b[0;34m\u001b[0m\u001b[0m\n\u001b[0m\u001b[1;32m      4\u001b[0m \u001b[0;34m\u001b[0m\u001b[0m\n\u001b[1;32m      5\u001b[0m \u001b[0mimage\u001b[0m\u001b[0;34m\u001b[0m\u001b[0m\n",
            "\u001b[0;32m~/.local/lib/python3.6/site-packages/PIL/Image.py\u001b[0m in \u001b[0;36mopen\u001b[0;34m(fp, mode, formats)\u001b[0m\n\u001b[1;32m   2973\u001b[0m \u001b[0;34m\u001b[0m\u001b[0m\n\u001b[1;32m   2974\u001b[0m     \u001b[0;32mif\u001b[0m \u001b[0mfilename\u001b[0m\u001b[0;34m:\u001b[0m\u001b[0;34m\u001b[0m\u001b[0m\n\u001b[0;32m-> 2975\u001b[0;31m         \u001b[0mfp\u001b[0m \u001b[0;34m=\u001b[0m \u001b[0mbuiltins\u001b[0m\u001b[0;34m.\u001b[0m\u001b[0mopen\u001b[0m\u001b[0;34m(\u001b[0m\u001b[0mfilename\u001b[0m\u001b[0;34m,\u001b[0m \u001b[0;34m\"rb\"\u001b[0m\u001b[0;34m)\u001b[0m\u001b[0;34m\u001b[0m\u001b[0m\n\u001b[0m\u001b[1;32m   2976\u001b[0m         \u001b[0mexclusive_fp\u001b[0m \u001b[0;34m=\u001b[0m \u001b[0;32mTrue\u001b[0m\u001b[0;34m\u001b[0m\u001b[0m\n\u001b[1;32m   2977\u001b[0m \u001b[0;34m\u001b[0m\u001b[0m\n",
            "\u001b[0;31mFileNotFoundError\u001b[0m: [Errno 2] No such file or directory: 'cat.jpg'"
          ]
        }
      ],
      "source": [
        "from PIL import Image\n",
        "\n",
        "image = Image.open('cat.jpg')\n",
        "\n",
        "image"
      ]
    },
    {
      "cell_type": "markdown",
      "metadata": {
        "id": "w5r0cbqsXikj"
      },
      "source": [
        "Создадим стандартный iamgenet-трансформер для предобработки"
      ]
    },
    {
      "cell_type": "code",
      "execution_count": 29,
      "metadata": {
        "id": "N9847quwXikj"
      },
      "outputs": [],
      "source": [
        "transform = transforms.Compose([\n",
        "    transforms.Resize(256),\n",
        "    transforms.CenterCrop(224),\n",
        "    transforms.ToTensor(),\n",
        "    transforms.Normalize(mean=[0.485, 0.456, 0.406], std=[0.229, 0.224, 0.225])\n",
        "])"
      ]
    },
    {
      "cell_type": "markdown",
      "metadata": {
        "id": "neuWd3G2Xikk"
      },
      "source": [
        "Сформируем батч размера 1 из тензора с предобработанным изображением"
      ]
    },
    {
      "cell_type": "code",
      "execution_count": 30,
      "metadata": {
        "id": "NumtoIEMXikk"
      },
      "outputs": [
        {
          "ename": "NameError",
          "evalue": "name 'image' is not defined",
          "output_type": "error",
          "traceback": [
            "\u001b[0;31m---------------------------------------------------------------------------\u001b[0m",
            "\u001b[0;31mNameError\u001b[0m                                 Traceback (most recent call last)",
            "\u001b[0;32m<ipython-input-30-e03b0412e1a7>\u001b[0m in \u001b[0;36m<module>\u001b[0;34m\u001b[0m\n\u001b[0;32m----> 1\u001b[0;31m \u001b[0mtensor\u001b[0m \u001b[0;34m=\u001b[0m \u001b[0mtransform\u001b[0m\u001b[0;34m(\u001b[0m\u001b[0mimage\u001b[0m\u001b[0;34m)\u001b[0m\u001b[0;34m\u001b[0m\u001b[0m\n\u001b[0m\u001b[1;32m      2\u001b[0m \u001b[0mbatch\u001b[0m \u001b[0;34m=\u001b[0m \u001b[0mtorch\u001b[0m\u001b[0;34m.\u001b[0m\u001b[0mstack\u001b[0m\u001b[0;34m(\u001b[0m\u001b[0;34m[\u001b[0m\u001b[0mtensor\u001b[0m\u001b[0;34m]\u001b[0m\u001b[0;34m)\u001b[0m\u001b[0;34m\u001b[0m\u001b[0m\n",
            "\u001b[0;31mNameError\u001b[0m: name 'image' is not defined"
          ]
        }
      ],
      "source": [
        "tensor = transform(image)\n",
        "batch = torch.stack([tensor])"
      ]
    },
    {
      "cell_type": "markdown",
      "metadata": {
        "id": "TOiRS2jWXikl"
      },
      "source": [
        "Произведем инференс модели"
      ]
    },
    {
      "cell_type": "code",
      "execution_count": 31,
      "metadata": {
        "id": "OtOrda9LXikl"
      },
      "outputs": [
        {
          "ename": "NameError",
          "evalue": "name 'batch' is not defined",
          "output_type": "error",
          "traceback": [
            "\u001b[0;31m---------------------------------------------------------------------------\u001b[0m",
            "\u001b[0;31mNameError\u001b[0m                                 Traceback (most recent call last)",
            "\u001b[0;32m<ipython-input-31-d6fd1a7c5cca>\u001b[0m in \u001b[0;36m<module>\u001b[0;34m\u001b[0m\n\u001b[1;32m      1\u001b[0m \u001b[0;32mwith\u001b[0m \u001b[0mtorch\u001b[0m\u001b[0;34m.\u001b[0m\u001b[0mno_grad\u001b[0m\u001b[0;34m(\u001b[0m\u001b[0;34m)\u001b[0m\u001b[0;34m:\u001b[0m\u001b[0;34m\u001b[0m\u001b[0m\n\u001b[0;32m----> 2\u001b[0;31m     \u001b[0moutput\u001b[0m \u001b[0;34m=\u001b[0m \u001b[0mnet\u001b[0m\u001b[0;34m(\u001b[0m\u001b[0mbatch\u001b[0m\u001b[0;34m)\u001b[0m\u001b[0;34m\u001b[0m\u001b[0m\n\u001b[0m",
            "\u001b[0;31mNameError\u001b[0m: name 'batch' is not defined"
          ]
        }
      ],
      "source": [
        "with torch.no_grad():\n",
        "    output = net(batch)"
      ]
    },
    {
      "cell_type": "markdown",
      "metadata": {
        "id": "yWlreQMRXikm"
      },
      "source": [
        "На выходе получем сырой вектор из 1000 т.н. логитов (до применения операции softmax)"
      ]
    },
    {
      "cell_type": "code",
      "execution_count": 32,
      "metadata": {
        "id": "1ykJZMIvXikn",
        "outputId": "f6ed06ea-ceef-4b21-e8c5-bdf10bd49299"
      },
      "outputs": [
        {
          "ename": "NameError",
          "evalue": "name 'output' is not defined",
          "output_type": "error",
          "traceback": [
            "\u001b[0;31m---------------------------------------------------------------------------\u001b[0m",
            "\u001b[0;31mNameError\u001b[0m                                 Traceback (most recent call last)",
            "\u001b[0;32m<ipython-input-32-961ed67232b2>\u001b[0m in \u001b[0;36m<module>\u001b[0;34m\u001b[0m\n\u001b[0;32m----> 1\u001b[0;31m \u001b[0moutput\u001b[0m\u001b[0;34m.\u001b[0m\u001b[0mshape\u001b[0m\u001b[0;34m\u001b[0m\u001b[0m\n\u001b[0m",
            "\u001b[0;31mNameError\u001b[0m: name 'output' is not defined"
          ]
        }
      ],
      "source": [
        "output.shape"
      ]
    },
    {
      "cell_type": "markdown",
      "metadata": {
        "id": "5rjPpTgwXiko"
      },
      "source": [
        "Какой класс наиболее вероятен?"
      ]
    },
    {
      "cell_type": "code",
      "execution_count": 33,
      "metadata": {
        "id": "AGSAP4XMXiko",
        "outputId": "aa45c58c-49e4-434f-f185-1db74c97bb20"
      },
      "outputs": [
        {
          "ename": "NameError",
          "evalue": "name 'output' is not defined",
          "output_type": "error",
          "traceback": [
            "\u001b[0;31m---------------------------------------------------------------------------\u001b[0m",
            "\u001b[0;31mNameError\u001b[0m                                 Traceback (most recent call last)",
            "\u001b[0;32m<ipython-input-33-fd46ef5a573e>\u001b[0m in \u001b[0;36m<module>\u001b[0;34m\u001b[0m\n\u001b[0;32m----> 1\u001b[0;31m \u001b[0moutput\u001b[0m\u001b[0;34m.\u001b[0m\u001b[0margmax\u001b[0m\u001b[0;34m(\u001b[0m\u001b[0;34m)\u001b[0m\u001b[0;34m\u001b[0m\u001b[0m\n\u001b[0m",
            "\u001b[0;31mNameError\u001b[0m: name 'output' is not defined"
          ]
        }
      ],
      "source": [
        "output.argmax()"
      ]
    },
    {
      "cell_type": "markdown",
      "metadata": {
        "id": "QbyHDtS7Xikp"
      },
      "source": [
        "А просто число можно?"
      ]
    },
    {
      "cell_type": "code",
      "execution_count": 34,
      "metadata": {
        "id": "NyezoqfnXikp",
        "outputId": "5b98a8a5-46fe-4e23-eb36-ba258f80c00e"
      },
      "outputs": [
        {
          "ename": "NameError",
          "evalue": "name 'output' is not defined",
          "output_type": "error",
          "traceback": [
            "\u001b[0;31m---------------------------------------------------------------------------\u001b[0m",
            "\u001b[0;31mNameError\u001b[0m                                 Traceback (most recent call last)",
            "\u001b[0;32m<ipython-input-34-a0f9ea17aa30>\u001b[0m in \u001b[0;36m<module>\u001b[0;34m\u001b[0m\n\u001b[0;32m----> 1\u001b[0;31m \u001b[0moutput\u001b[0m\u001b[0;34m.\u001b[0m\u001b[0margmax\u001b[0m\u001b[0;34m(\u001b[0m\u001b[0;34m)\u001b[0m\u001b[0;34m.\u001b[0m\u001b[0mitem\u001b[0m\u001b[0;34m(\u001b[0m\u001b[0;34m)\u001b[0m\u001b[0;34m\u001b[0m\u001b[0m\n\u001b[0m",
            "\u001b[0;31mNameError\u001b[0m: name 'output' is not defined"
          ]
        }
      ],
      "source": [
        "output.argmax().item()"
      ]
    },
    {
      "cell_type": "markdown",
      "metadata": {
        "id": "naIhlc8AXikq"
      },
      "source": [
        "Загрузим названия классов для ImageNet 1k:"
      ]
    },
    {
      "cell_type": "code",
      "execution_count": 35,
      "metadata": {
        "id": "Vm0ZuiUQXikq"
      },
      "outputs": [
        {
          "ename": "FileNotFoundError",
          "evalue": "[Errno 2] No such file or directory: 'labels.dict'",
          "output_type": "error",
          "traceback": [
            "\u001b[0;31m---------------------------------------------------------------------------\u001b[0m",
            "\u001b[0;31mFileNotFoundError\u001b[0m                         Traceback (most recent call last)",
            "\u001b[0;32m<ipython-input-35-a73e0ffe9d7e>\u001b[0m in \u001b[0;36m<module>\u001b[0;34m\u001b[0m\n\u001b[1;32m      1\u001b[0m \u001b[0;32mimport\u001b[0m \u001b[0mjson\u001b[0m\u001b[0;34m\u001b[0m\u001b[0m\n\u001b[1;32m      2\u001b[0m \u001b[0;34m\u001b[0m\u001b[0m\n\u001b[0;32m----> 3\u001b[0;31m \u001b[0;32mwith\u001b[0m \u001b[0mopen\u001b[0m\u001b[0;34m(\u001b[0m\u001b[0;34m'labels.dict'\u001b[0m\u001b[0;34m)\u001b[0m \u001b[0;32mas\u001b[0m \u001b[0mfin\u001b[0m\u001b[0;34m:\u001b[0m\u001b[0;34m\u001b[0m\u001b[0m\n\u001b[0m\u001b[1;32m      4\u001b[0m     \u001b[0mlabels\u001b[0m \u001b[0;34m=\u001b[0m \u001b[0meval\u001b[0m\u001b[0;34m(\u001b[0m\u001b[0mfin\u001b[0m\u001b[0;34m.\u001b[0m\u001b[0mread\u001b[0m\u001b[0;34m(\u001b[0m\u001b[0;34m)\u001b[0m\u001b[0;34m)\u001b[0m\u001b[0;34m\u001b[0m\u001b[0m\n",
            "\u001b[0;31mFileNotFoundError\u001b[0m: [Errno 2] No such file or directory: 'labels.dict'"
          ]
        }
      ],
      "source": [
        "import json\n",
        "\n",
        "with open('labels.dict') as fin:\n",
        "    labels = eval(fin.read())"
      ]
    },
    {
      "cell_type": "markdown",
      "metadata": {
        "id": "RkKyhLd4Xikr"
      },
      "source": [
        "Так все-таки что там на картинке?"
      ]
    },
    {
      "cell_type": "code",
      "execution_count": 36,
      "metadata": {
        "id": "I14LAyV4Xikr",
        "outputId": "6379e252-040d-4431-d4aa-41b9a81f8d81"
      },
      "outputs": [
        {
          "ename": "NameError",
          "evalue": "name 'labels' is not defined",
          "output_type": "error",
          "traceback": [
            "\u001b[0;31m---------------------------------------------------------------------------\u001b[0m",
            "\u001b[0;31mNameError\u001b[0m                                 Traceback (most recent call last)",
            "\u001b[0;32m<ipython-input-36-73821805d4b9>\u001b[0m in \u001b[0;36m<module>\u001b[0;34m\u001b[0m\n\u001b[0;32m----> 1\u001b[0;31m \u001b[0mlabels\u001b[0m\u001b[0;34m[\u001b[0m\u001b[0moutput\u001b[0m\u001b[0;34m.\u001b[0m\u001b[0margmax\u001b[0m\u001b[0;34m(\u001b[0m\u001b[0;34m)\u001b[0m\u001b[0;34m.\u001b[0m\u001b[0mitem\u001b[0m\u001b[0;34m(\u001b[0m\u001b[0;34m)\u001b[0m\u001b[0;34m]\u001b[0m\u001b[0;34m\u001b[0m\u001b[0m\n\u001b[0m",
            "\u001b[0;31mNameError\u001b[0m: name 'labels' is not defined"
          ]
        }
      ],
      "source": [
        "labels[output.argmax().item()]"
      ]
    },
    {
      "cell_type": "markdown",
      "metadata": {
        "id": "MJJlSXs1Xiks"
      },
      "source": [
        "Ура!"
      ]
    },
    {
      "cell_type": "markdown",
      "metadata": {
        "id": "o9rR_jTQXikt"
      },
      "source": [
        "## Домашнее задание"
      ]
    },
    {
      "cell_type": "markdown",
      "metadata": {
        "id": "MlXVdbxMXikt"
      },
      "source": [
        "Реализуйте аналогично класс для модели LeNet-5\n",
        "\n",
        "![LeNet-5](lenet.png)\n",
        "\n",
        "Создайте экземпляр нейросети и примените его к нескольким примерам из MNIST.\n",
        "\n",
        "Убедитесь, что сеть выдает случайные классы, т.к. веса были проинициализированы случайно."
      ]
    }
  ],
  "metadata": {
    "colab": {
      "name": "vgg.ipynb",
      "provenance": []
    },
    "interpreter": {
      "hash": "f55952f3a02d6c21c6ecb7c3d0d3bd10879221abb1cc75100eeee65916915b2a"
    },
    "kernelspec": {
      "display_name": "Python 3.7.9 64-bit",
      "name": "python3"
    },
    "language_info": {
      "codemirror_mode": {
        "name": "ipython",
        "version": 3
      },
      "file_extension": ".py",
      "mimetype": "text/x-python",
      "name": "python",
      "nbconvert_exporter": "python",
      "pygments_lexer": "ipython3",
      "version": "3.7.9"
    }
  },
  "nbformat": 4,
  "nbformat_minor": 0
}
