{
  "nbformat": 4,
  "nbformat_minor": 0,
  "metadata": {
    "colab": {
      "name": "cv_05_01.ipynb",
      "provenance": [],
      "collapsed_sections": []
    },
    "kernelspec": {
      "name": "python3",
      "display_name": "Python 3"
    },
    "language_info": {
      "name": "python"
    }
  },
  "cells": [
    {
      "cell_type": "code",
      "execution_count": 1,
      "metadata": {
        "id": "HztOtv06n_y2"
      },
      "outputs": [],
      "source": [
        "import tensorflow as tf\n",
        "from tensorflow import keras\n",
        "from tensorflow.keras import Model, Sequential, layers\n",
        "import numpy as np\n",
        "\n"
      ]
    },
    {
      "cell_type": "code",
      "source": [
        "model = Sequential([\n",
        "    layers.InputLayer(input_shape=(400,)),\n",
        "    layers.Dense(300, 'relu'),\n",
        "    layers.Dense(200, 'relu'),\n",
        "    layers.Dense(100, 'relu')\n",
        "])\n",
        "model.summary()"
      ],
      "metadata": {
        "colab": {
          "base_uri": "https://localhost:8080/"
        },
        "id": "Na5X9blRoBx_",
        "outputId": "7969e843-3030-4576-ca20-bb07f9722cf8"
      },
      "execution_count": 15,
      "outputs": [
        {
          "output_type": "stream",
          "name": "stdout",
          "text": [
            "Model: \"sequential_10\"\n",
            "_________________________________________________________________\n",
            " Layer (type)                Output Shape              Param #   \n",
            "=================================================================\n",
            " dense_9 (Dense)             (None, 300)               120300    \n",
            "                                                                 \n",
            " dense_10 (Dense)            (None, 200)               60200     \n",
            "                                                                 \n",
            " dense_11 (Dense)            (None, 100)               20100     \n",
            "                                                                 \n",
            "=================================================================\n",
            "Total params: 200,600\n",
            "Trainable params: 200,600\n",
            "Non-trainable params: 0\n",
            "_________________________________________________________________\n"
          ]
        }
      ]
    },
    {
      "cell_type": "code",
      "source": [
        "batch_size = 64\n",
        "input_batch = np.zeros((batch_size, 50))\n",
        "output = model(input_batch).numpy() #получаем массив размером (64, 10)\n",
        "output.shape"
      ],
      "metadata": {
        "colab": {
          "base_uri": "https://localhost:8080/"
        },
        "id": "qd87MdTVpgFw",
        "outputId": "7f6b5e76-4b4b-43cd-ab36-47c27e600bac"
      },
      "execution_count": 7,
      "outputs": [
        {
          "output_type": "execute_result",
          "data": {
            "text/plain": [
              "(64, 10)"
            ]
          },
          "metadata": {},
          "execution_count": 7
        }
      ]
    },
    {
      "cell_type": "code",
      "source": [
        "model = Sequential([\n",
        "    layers.Dropout(0.2)\n",
        "])\n",
        " \n",
        "print(model(np.ones((1, 5))).numpy())\n",
        "print(model(np.ones((1, 5)), training=True).numpy())"
      ],
      "metadata": {
        "colab": {
          "base_uri": "https://localhost:8080/"
        },
        "id": "dx8cThq75yyu",
        "outputId": "e98399fb-9dff-46a4-b45b-db8b853fff96"
      },
      "execution_count": 14,
      "outputs": [
        {
          "output_type": "stream",
          "name": "stdout",
          "text": [
            "[[1. 1. 1. 1. 1.]]\n",
            "[[1.25 0.   0.   1.25 1.25]]\n"
          ]
        }
      ]
    },
    {
      "cell_type": "code",
      "source": [
        "input = keras.Input(shape=(50,))\n",
        "out1 = layers.Dense(1000, 'relu')(input)\n",
        "out2 = layers.Dense(1000, 'relu')(out1)\n",
        "out3 = layers.Dense(1)(out2)\n",
        "out4 = layers.Dense(1)(input)\n",
        "output = out3 + out4\n",
        "model = Model(inputs=input, outputs=output)\n",
        "model.summary()"
      ],
      "metadata": {
        "colab": {
          "base_uri": "https://localhost:8080/"
        },
        "id": "67X56SrE6yGC",
        "outputId": "bde1a151-9d67-4c94-9f7b-01c3fd0a6dbd"
      },
      "execution_count": 16,
      "outputs": [
        {
          "output_type": "stream",
          "name": "stdout",
          "text": [
            "Model: \"model\"\n",
            "__________________________________________________________________________________________________\n",
            " Layer (type)                   Output Shape         Param #     Connected to                     \n",
            "==================================================================================================\n",
            " input_3 (InputLayer)           [(None, 50)]         0           []                               \n",
            "                                                                                                  \n",
            " dense_12 (Dense)               (None, 1000)         51000       ['input_3[0][0]']                \n",
            "                                                                                                  \n",
            " dense_13 (Dense)               (None, 1000)         1001000     ['dense_12[0][0]']               \n",
            "                                                                                                  \n",
            " dense_14 (Dense)               (None, 1)            1001        ['dense_13[0][0]']               \n",
            "                                                                                                  \n",
            " dense_15 (Dense)               (None, 1)            51          ['input_3[0][0]']                \n",
            "                                                                                                  \n",
            " tf.__operators__.add (TFOpLamb  (None, 1)           0           ['dense_14[0][0]',               \n",
            " da)                                                              'dense_15[0][0]']               \n",
            "                                                                                                  \n",
            "==================================================================================================\n",
            "Total params: 1,053,052\n",
            "Trainable params: 1,053,052\n",
            "Non-trainable params: 0\n",
            "__________________________________________________________________________________________________\n"
          ]
        }
      ]
    },
    {
      "cell_type": "code",
      "source": [
        "input = keras.Input(shape=(1000,))\n",
        "out1 = layers.Dense(1000, 'relu')(input)\n",
        "out11 = tf.keras.layers.Concatenate(axis=1)([out1, input])\n",
        "out2 = layers.Dense(1000, 'relu')(out11)\n",
        "out22 = tf.keras.layers.Concatenate(axis=1)([out2, out11])\n",
        "out3 = layers.Dense(1000, 'relu')(out22)\n",
        "out33 = tf.keras.layers.Concatenate(axis=1)([out3, out22])\n",
        "out4 = layers.Dense(1000, 'relu')(out33)\n",
        "output = tf.keras.layers.Concatenate(axis=1)([out4, out33])\n",
        "model = Model(inputs=input, outputs=output)\n",
        "model.summary()"
      ],
      "metadata": {
        "colab": {
          "base_uri": "https://localhost:8080/"
        },
        "id": "QOySr0pK7nU2",
        "outputId": "180ca5bc-c954-4939-f0af-c160909176d3"
      },
      "execution_count": 30,
      "outputs": [
        {
          "output_type": "stream",
          "name": "stdout",
          "text": [
            "Model: \"model_7\"\n",
            "__________________________________________________________________________________________________\n",
            " Layer (type)                   Output Shape         Param #     Connected to                     \n",
            "==================================================================================================\n",
            " input_15 (InputLayer)          [(None, 1000)]       0           []                               \n",
            "                                                                                                  \n",
            " dense_40 (Dense)               (None, 1000)         1001000     ['input_15[0][0]']               \n",
            "                                                                                                  \n",
            " concatenate_4 (Concatenate)    (None, 2000)         0           ['dense_40[0][0]',               \n",
            "                                                                  'input_15[0][0]']               \n",
            "                                                                                                  \n",
            " dense_41 (Dense)               (None, 1000)         2001000     ['concatenate_4[0][0]']          \n",
            "                                                                                                  \n",
            " concatenate_5 (Concatenate)    (None, 3000)         0           ['dense_41[0][0]',               \n",
            "                                                                  'concatenate_4[0][0]']          \n",
            "                                                                                                  \n",
            " dense_42 (Dense)               (None, 1000)         3001000     ['concatenate_5[0][0]']          \n",
            "                                                                                                  \n",
            " concatenate_6 (Concatenate)    (None, 4000)         0           ['dense_42[0][0]',               \n",
            "                                                                  'concatenate_5[0][0]']          \n",
            "                                                                                                  \n",
            " dense_43 (Dense)               (None, 1000)         4001000     ['concatenate_6[0][0]']          \n",
            "                                                                                                  \n",
            " concatenate_7 (Concatenate)    (None, 5000)         0           ['dense_43[0][0]',               \n",
            "                                                                  'concatenate_6[0][0]']          \n",
            "                                                                                                  \n",
            "==================================================================================================\n",
            "Total params: 10,004,000\n",
            "Trainable params: 10,004,000\n",
            "Non-trainable params: 0\n",
            "__________________________________________________________________________________________________\n"
          ]
        }
      ]
    }
  ]
}