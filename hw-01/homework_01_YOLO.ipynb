{
  "cells": [
    {
      "cell_type": "markdown",
      "metadata": {
        "id": "u64t6tS-K97g"
      },
      "source": [
        "# Обучение модели YOLOv5\n",
        "\n",
        "\n",
        "\n",
        "\n"
      ]
    },
    {
      "cell_type": "markdown",
      "metadata": {
        "id": "jDIuUhVqzGKw"
      },
      "source": [
        "## ЗАДАНИЕ\n",
        "\n",
        "Обучите модель **yolov5**,  используя готовый `train.py` файл репозитория https://github.com/ultralytics/yolov5.git.\n",
        "\n",
        "Для данной модели изображения и классы объектов должны находиться в папках images и labels, соответсвенно.\n",
        "\n",
        "Протестируйте модель на валидациооной выборке и выведите на экран полученные изображения с bbox и классами объектов.\n",
        "\n",
        "Сделайте сравнение текущей модели с Faster RCNN по скорости и качетсву."
      ]
    },
    {
      "cell_type": "markdown",
      "metadata": {},
      "source": [
        "### Импорт репозитория"
      ]
    },
    {
      "cell_type": "code",
      "execution_count": 2,
      "metadata": {},
      "outputs": [
        {
          "name": "stderr",
          "output_type": "stream",
          "text": [
            "Cloning into 'yolov5'...\n"
          ]
        }
      ],
      "source": [
        "!git clone https://github.com/ultralytics/yolov5"
      ]
    },
    {
      "cell_type": "markdown",
      "metadata": {},
      "source": [
        "### Установка необходимых пакетов"
      ]
    },
    {
      "cell_type": "code",
      "execution_count": null,
      "metadata": {},
      "outputs": [],
      "source": [
        "!pip install -r yolov5/requirements.txt"
      ]
    },
    {
      "cell_type": "markdown",
      "metadata": {},
      "source": [
        "### Импрот необходимых модулей"
      ]
    },
    {
      "cell_type": "code",
      "execution_count": 3,
      "metadata": {},
      "outputs": [],
      "source": [
        "import torch\n",
        "from IPython.display import Image  # for displaying images\n",
        "import os \n",
        "import random\n",
        "import shutil\n",
        "from sklearn.model_selection import train_test_split\n",
        "import xml.etree.ElementTree as ET\n",
        "from xml.dom import minidom\n",
        "from tqdm import tqdm\n",
        "from PIL import Image, ImageDraw\n",
        "import numpy as np\n",
        "import matplotlib.pyplot as plt\n",
        "\n",
        "import urllib.request\n",
        "import tarfile"
      ]
    },
    {
      "cell_type": "markdown",
      "metadata": {},
      "source": [
        "### Загрузка данных"
      ]
    },
    {
      "cell_type": "code",
      "execution_count": 5,
      "metadata": {},
      "outputs": [],
      "source": [
        "# Загрузка датасета\n",
        "data_dir = \"../../0000_data/\"\n",
        "if not os.path.exists(f\"{data_dir}VOCdevkit\"):\n",
        "    if not os.path.exists(f\"{data_dir}VOC.tar\"):\n",
        "        urllib.request.urlretrieve(\n",
        "            \"https://pjreddie.com/media/files/VOCtrainval_11-May-2012.tar\", f\"{data_dir}VOC.tar\"\n",
        "        )\n",
        "    with tarfile.open(f\"{data_dir}VOC.tar\") as tar:\n",
        "        tar.extractall()"
      ]
    },
    {
      "cell_type": "markdown",
      "metadata": {
        "id": "LuBNUWfiMGSF"
      },
      "source": [
        "### Конвертация аннотаций к формату YOLO v5\n"
      ]
    },
    {
      "cell_type": "markdown",
      "metadata": {
        "id": "tcqbGZWr082T"
      },
      "source": [
        "### Формат PASCAL VOC \n",
        "хранит свои аннотации в XML-файлах. Давайте посмотрим на один такой файл."
      ]
    },
    {
      "cell_type": "code",
      "execution_count": 8,
      "metadata": {
        "id": "aHBh9hB9m_a3"
      },
      "outputs": [
        {
          "name": "stdout",
          "output_type": "stream",
          "text": [
            "<annotation>\n",
            "\t<folder>VOC2012</folder>\n",
            "\t<filename>2007_000027.jpg</filename>\n",
            "\t<source>\n",
            "\t\t<database>The VOC2007 Database</database>\n",
            "\t\t<annotation>PASCAL VOC2007</annotation>\n",
            "\t\t<image>flickr</image>\n",
            "\t</source>\n",
            "\t<size>\n",
            "\t\t<width>486</width>\n",
            "\t\t<height>500</height>\n",
            "\t\t<depth>3</depth>\n",
            "\t</size>\n",
            "\t<segmented>0</segmented>\n",
            "\t<object>\n",
            "\t\t<name>person</name>\n",
            "\t\t<pose>Unspecified</pose>\n",
            "\t\t<truncated>0</truncated>\n",
            "\t\t<difficult>0</difficult>\n",
            "\t\t<bndbox>\n",
            "\t\t\t<xmin>174</xmin>\n",
            "\t\t\t<ymin>101</ymin>\n",
            "\t\t\t<xmax>349</xmax>\n",
            "\t\t\t<ymax>351</ymax>\n",
            "\t\t</bndbox>\n",
            "\t\t<part>\n",
            "\t\t\t<name>head</name>\n",
            "\t\t\t<bndbox>\n",
            "\t\t\t\t<xmin>169</xmin>\n",
            "\t\t\t\t<ymin>104</ymin>\n",
            "\t\t\t\t<xmax>209</xmax>\n",
            "\t\t\t\t<ymax>146</ymax>\n",
            "\t\t\t</bndbox>\n",
            "\t\t</part>\n",
            "\t\t<part>\n",
            "\t\t\t<name>hand</name>\n",
            "\t\t\t<bndbox>\n",
            "\t\t\t\t<xmin>278</xmin>\n",
            "\t\t\t\t<ymin>210</ymin>\n",
            "\t\t\t\t<xmax>297</xmax>\n",
            "\t\t\t\t<ymax>233</ymax>\n",
            "\t\t\t</bndbox>\n",
            "\t\t</part>\n",
            "\t\t<part>\n",
            "\t\t\t<name>foot</name>\n",
            "\t\t\t<bndbox>\n",
            "\t\t\t\t<xmin>273</xmin>\n",
            "\t\t\t\t<ymin>333</ymin>\n",
            "\t\t\t\t<xmax>297</xmax>\n",
            "\t\t\t\t<ymax>354</ymax>\n",
            "\t\t\t</bndbox>\n",
            "\t\t</part>\n",
            "\t\t<part>\n",
            "\t\t\t<name>foot</name>\n",
            "\t\t\t<bndbox>\n",
            "\t\t\t\t<xmin>319</xmin>\n",
            "\t\t\t\t<ymin>307</ymin>\n",
            "\t\t\t\t<xmax>340</xmax>\n",
            "\t\t\t\t<ymax>326</ymax>\n",
            "\t\t\t</bndbox>\n",
            "\t\t</part>\n",
            "\t</object>\n",
            "</annotation>\n"
          ]
        }
      ],
      "source": [
        "!type ..\\..\\0000_data\\VOCdevkit\\VOC2012\\Annotations\\2007_000027.xml "
      ]
    },
    {
      "cell_type": "markdown",
      "metadata": {},
      "source": [
        "Данная аннотация относится к файлу 2007_000027.jpg размером 486х500х3. Файл содерит один тэг object, описывающий класс объекта и координаты ограничивающих рамок. Класс определяется тегом name. Рамка тегами - xmin, ymin, xmax, ymax. Соответственно верхний левый угол рамки (xmin, ymin) и нижний правый (xmax, ymax). Четыре тега part описывают рамки частей объекта."
      ]
    },
    {
      "cell_type": "markdown",
      "metadata": {},
      "source": [
        "### Формат YOLO v5 \n",
        "подразумевает аннотацию для каждого изображения в виде файла .txt (имя файл совпадает с именем изображения), где каждая строка текстового файла описывает ограничивающую рамку. Рассмотрим следующее изображение.\n",
        "\n",
        "![picture](https://drive.google.com/uc?export=view&id=1yUJt5XTvYo4MbWxKAxhPdCk-yCnQ1AEz)\n",
        "\n",
        "\n"
      ]
    },
    {
      "cell_type": "markdown",
      "metadata": {},
      "source": [
        "Файл аннотаций zidane.txt для приведенного выше изображения выглядит следующим образом:\n",
        "\n",
        "```\n",
        "27 0.786719 0.502778 0.0328125 0.161111 0.287125\n",
        "0 0.471875 0.629167 0.765625 0.713889 0.593856\n",
        "0 0.741406 0.522222 0.310937 0.925 0.877349\n",
        "```\n",
        "Описано три объекта. Спецификация для каждой строки выглядит следующим образом:\n",
        "\n",
        "* Одна строка на объект\n",
        "* Каждая строка имеет формат class x_center y_center width height.\n",
        "* Координаты нормализованы по относительно размера изображения\n",
        "* Индексация классов начинается с нуля\n",
        "\n",
        "Структура каталогов набора данных формата YOLOv5\n",
        "```\n",
        "base_dir\n",
        "├── images           # изображения\n",
        "│   ├── test\n",
        "│   ├── train\n",
        "│   └── validation\n",
        "└── labels           # аннотации\n",
        "    ├── test\n",
        "    ├── train\n",
        "    └── validation\n",
        "```    \n"
      ]
    }
  ],
  "metadata": {
    "accelerator": "GPU",
    "colab": {
      "collapsed_sections": [],
      "name": "Модуль_12_YOLO_дз.ipynb",
      "provenance": []
    },
    "kernelspec": {
      "display_name": "Python 3",
      "name": "python3"
    },
    "language_info": {
      "codemirror_mode": {
        "name": "ipython",
        "version": 3
      },
      "file_extension": ".py",
      "mimetype": "text/x-python",
      "name": "python",
      "nbconvert_exporter": "python",
      "pygments_lexer": "ipython3",
      "version": "3.7.9"
    },
    "widgets": {
      "application/vnd.jupyter.widget-state+json": {
        "03bed50e8e424125a1a94bfb29e95d9e": {
          "model_module": "@jupyter-widgets/base",
          "model_module_version": "1.2.0",
          "model_name": "LayoutModel",
          "state": {
            "_model_module": "@jupyter-widgets/base",
            "_model_module_version": "1.2.0",
            "_model_name": "LayoutModel",
            "_view_count": null,
            "_view_module": "@jupyter-widgets/base",
            "_view_module_version": "1.2.0",
            "_view_name": "LayoutView",
            "align_content": null,
            "align_items": null,
            "align_self": null,
            "border": null,
            "bottom": null,
            "display": null,
            "flex": null,
            "flex_flow": null,
            "grid_area": null,
            "grid_auto_columns": null,
            "grid_auto_flow": null,
            "grid_auto_rows": null,
            "grid_column": null,
            "grid_gap": null,
            "grid_row": null,
            "grid_template_areas": null,
            "grid_template_columns": null,
            "grid_template_rows": null,
            "height": null,
            "justify_content": null,
            "justify_items": null,
            "left": null,
            "margin": null,
            "max_height": null,
            "max_width": null,
            "min_height": null,
            "min_width": null,
            "object_fit": null,
            "object_position": null,
            "order": null,
            "overflow": null,
            "overflow_x": null,
            "overflow_y": null,
            "padding": null,
            "right": null,
            "top": null,
            "visibility": null,
            "width": null
          }
        },
        "27882cde128d4e92b8621c474a592fbf": {
          "model_module": "@jupyter-widgets/base",
          "model_module_version": "1.2.0",
          "model_name": "LayoutModel",
          "state": {
            "_model_module": "@jupyter-widgets/base",
            "_model_module_version": "1.2.0",
            "_model_name": "LayoutModel",
            "_view_count": null,
            "_view_module": "@jupyter-widgets/base",
            "_view_module_version": "1.2.0",
            "_view_name": "LayoutView",
            "align_content": null,
            "align_items": null,
            "align_self": null,
            "border": null,
            "bottom": null,
            "display": null,
            "flex": null,
            "flex_flow": null,
            "grid_area": null,
            "grid_auto_columns": null,
            "grid_auto_flow": null,
            "grid_auto_rows": null,
            "grid_column": null,
            "grid_gap": null,
            "grid_row": null,
            "grid_template_areas": null,
            "grid_template_columns": null,
            "grid_template_rows": null,
            "height": null,
            "justify_content": null,
            "justify_items": null,
            "left": null,
            "margin": null,
            "max_height": null,
            "max_width": null,
            "min_height": null,
            "min_width": null,
            "object_fit": null,
            "object_position": null,
            "order": null,
            "overflow": null,
            "overflow_x": null,
            "overflow_y": null,
            "padding": null,
            "right": null,
            "top": null,
            "visibility": null,
            "width": null
          }
        },
        "30ca7602a5fd42c3b261de21d8c6aa17": {
          "model_module": "@jupyter-widgets/base",
          "model_module_version": "1.2.0",
          "model_name": "LayoutModel",
          "state": {
            "_model_module": "@jupyter-widgets/base",
            "_model_module_version": "1.2.0",
            "_model_name": "LayoutModel",
            "_view_count": null,
            "_view_module": "@jupyter-widgets/base",
            "_view_module_version": "1.2.0",
            "_view_name": "LayoutView",
            "align_content": null,
            "align_items": null,
            "align_self": null,
            "border": null,
            "bottom": null,
            "display": null,
            "flex": null,
            "flex_flow": null,
            "grid_area": null,
            "grid_auto_columns": null,
            "grid_auto_flow": null,
            "grid_auto_rows": null,
            "grid_column": null,
            "grid_gap": null,
            "grid_row": null,
            "grid_template_areas": null,
            "grid_template_columns": null,
            "grid_template_rows": null,
            "height": null,
            "justify_content": null,
            "justify_items": null,
            "left": null,
            "margin": null,
            "max_height": null,
            "max_width": null,
            "min_height": null,
            "min_width": null,
            "object_fit": null,
            "object_position": null,
            "order": null,
            "overflow": null,
            "overflow_x": null,
            "overflow_y": null,
            "padding": null,
            "right": null,
            "top": null,
            "visibility": null,
            "width": null
          }
        },
        "536fae0cc9044c2daa224dfeb367d461": {
          "model_module": "@jupyter-widgets/controls",
          "model_module_version": "1.5.0",
          "model_name": "ProgressStyleModel",
          "state": {
            "_model_module": "@jupyter-widgets/controls",
            "_model_module_version": "1.5.0",
            "_model_name": "ProgressStyleModel",
            "_view_count": null,
            "_view_module": "@jupyter-widgets/base",
            "_view_module_version": "1.2.0",
            "_view_name": "StyleView",
            "bar_color": null,
            "description_width": ""
          }
        },
        "8a49489725b6434889e60368e2380635": {
          "model_module": "@jupyter-widgets/controls",
          "model_module_version": "1.5.0",
          "model_name": "HBoxModel",
          "state": {
            "_dom_classes": [],
            "_model_module": "@jupyter-widgets/controls",
            "_model_module_version": "1.5.0",
            "_model_name": "HBoxModel",
            "_view_count": null,
            "_view_module": "@jupyter-widgets/controls",
            "_view_module_version": "1.5.0",
            "_view_name": "HBoxView",
            "box_style": "",
            "children": [
              "IPY_MODEL_dd12dc276d784fd882f6c5a88be1bf5b",
              "IPY_MODEL_c6bf9daa3b40463e82d88d5f3fa7024c",
              "IPY_MODEL_d79cd9fa921847b58b42a147aa808523"
            ],
            "layout": "IPY_MODEL_27882cde128d4e92b8621c474a592fbf"
          }
        },
        "ad9993e2585d413aa165112fc357e741": {
          "model_module": "@jupyter-widgets/base",
          "model_module_version": "1.2.0",
          "model_name": "LayoutModel",
          "state": {
            "_model_module": "@jupyter-widgets/base",
            "_model_module_version": "1.2.0",
            "_model_name": "LayoutModel",
            "_view_count": null,
            "_view_module": "@jupyter-widgets/base",
            "_view_module_version": "1.2.0",
            "_view_name": "LayoutView",
            "align_content": null,
            "align_items": null,
            "align_self": null,
            "border": null,
            "bottom": null,
            "display": null,
            "flex": null,
            "flex_flow": null,
            "grid_area": null,
            "grid_auto_columns": null,
            "grid_auto_flow": null,
            "grid_auto_rows": null,
            "grid_column": null,
            "grid_gap": null,
            "grid_row": null,
            "grid_template_areas": null,
            "grid_template_columns": null,
            "grid_template_rows": null,
            "height": null,
            "justify_content": null,
            "justify_items": null,
            "left": null,
            "margin": null,
            "max_height": null,
            "max_width": null,
            "min_height": null,
            "min_width": null,
            "object_fit": null,
            "object_position": null,
            "order": null,
            "overflow": null,
            "overflow_x": null,
            "overflow_y": null,
            "padding": null,
            "right": null,
            "top": null,
            "visibility": null,
            "width": null
          }
        },
        "b70e1703b7a24fdf8b53f7c4f972df12": {
          "model_module": "@jupyter-widgets/controls",
          "model_module_version": "1.5.0",
          "model_name": "DescriptionStyleModel",
          "state": {
            "_model_module": "@jupyter-widgets/controls",
            "_model_module_version": "1.5.0",
            "_model_name": "DescriptionStyleModel",
            "_view_count": null,
            "_view_module": "@jupyter-widgets/base",
            "_view_module_version": "1.2.0",
            "_view_name": "StyleView",
            "description_width": ""
          }
        },
        "c6bf9daa3b40463e82d88d5f3fa7024c": {
          "model_module": "@jupyter-widgets/controls",
          "model_module_version": "1.5.0",
          "model_name": "FloatProgressModel",
          "state": {
            "_dom_classes": [],
            "_model_module": "@jupyter-widgets/controls",
            "_model_module_version": "1.5.0",
            "_model_name": "FloatProgressModel",
            "_view_count": null,
            "_view_module": "@jupyter-widgets/controls",
            "_view_module_version": "1.5.0",
            "_view_name": "ProgressView",
            "bar_style": "success",
            "description": "",
            "description_tooltip": null,
            "layout": "IPY_MODEL_30ca7602a5fd42c3b261de21d8c6aa17",
            "max": 14795158,
            "min": 0,
            "orientation": "horizontal",
            "style": "IPY_MODEL_536fae0cc9044c2daa224dfeb367d461",
            "value": 14795158
          }
        },
        "d79cd9fa921847b58b42a147aa808523": {
          "model_module": "@jupyter-widgets/controls",
          "model_module_version": "1.5.0",
          "model_name": "HTMLModel",
          "state": {
            "_dom_classes": [],
            "_model_module": "@jupyter-widgets/controls",
            "_model_module_version": "1.5.0",
            "_model_name": "HTMLModel",
            "_view_count": null,
            "_view_module": "@jupyter-widgets/controls",
            "_view_module_version": "1.5.0",
            "_view_name": "HTMLView",
            "description": "",
            "description_tooltip": null,
            "layout": "IPY_MODEL_ad9993e2585d413aa165112fc357e741",
            "placeholder": "​",
            "style": "IPY_MODEL_daece13ba3d0434190868b1e601983ea",
            "value": " 14.1M/14.1M [00:00&lt;00:00, 81.3MB/s]"
          }
        },
        "daece13ba3d0434190868b1e601983ea": {
          "model_module": "@jupyter-widgets/controls",
          "model_module_version": "1.5.0",
          "model_name": "DescriptionStyleModel",
          "state": {
            "_model_module": "@jupyter-widgets/controls",
            "_model_module_version": "1.5.0",
            "_model_name": "DescriptionStyleModel",
            "_view_count": null,
            "_view_module": "@jupyter-widgets/base",
            "_view_module_version": "1.2.0",
            "_view_name": "StyleView",
            "description_width": ""
          }
        },
        "dd12dc276d784fd882f6c5a88be1bf5b": {
          "model_module": "@jupyter-widgets/controls",
          "model_module_version": "1.5.0",
          "model_name": "HTMLModel",
          "state": {
            "_dom_classes": [],
            "_model_module": "@jupyter-widgets/controls",
            "_model_module_version": "1.5.0",
            "_model_name": "HTMLModel",
            "_view_count": null,
            "_view_module": "@jupyter-widgets/controls",
            "_view_module_version": "1.5.0",
            "_view_name": "HTMLView",
            "description": "",
            "description_tooltip": null,
            "layout": "IPY_MODEL_03bed50e8e424125a1a94bfb29e95d9e",
            "placeholder": "​",
            "style": "IPY_MODEL_b70e1703b7a24fdf8b53f7c4f972df12",
            "value": "100%"
          }
        }
      }
    }
  },
  "nbformat": 4,
  "nbformat_minor": 0
}
