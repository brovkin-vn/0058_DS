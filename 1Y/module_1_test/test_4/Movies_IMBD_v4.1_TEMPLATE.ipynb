{
 "cells": [
  {
   "cell_type": "code",
   "execution_count": 43,
   "metadata": {
    "_cell_guid": "b1076dfc-b9ad-4769-8c92-a6c4dae69d19",
    "_uuid": "8f2839f25d086af736a60e9eeb907d3b93b6e0e5",
    "colab": {},
    "colab_type": "code",
    "id": "U2D2gTdJVp90"
   },
   "outputs": [],
   "source": [
    "import numpy as np\n",
    "import pandas as pd\n",
    "import seaborn as sns\n",
    "import matplotlib.pyplot as plt\n",
    "from collections import Counter\n",
    "import itertools"
   ]
  },
  {
   "cell_type": "code",
   "execution_count": 41,
   "metadata": {
    "_cell_guid": "79c7e3d0-c299-4dcb-8224-4455121ee9b0",
    "_uuid": "d629ff2d2480ee46fbb7e2d37f6b5fab8052498a",
    "colab": {},
    "colab_type": "code",
    "id": "oyGfxL3eVp9-"
   },
   "outputs": [
    {
     "output_type": "execute_result",
     "data": {
      "text/plain": "        imdb_id    budget    revenue original_title  \\\n390   tt1403865  38000000  252276927      True Grit   \n1332  tt0388482  32000000   85167639  Transporter 2   \n564   tt0242445  50000000   79958599    Exit Wounds   \n234   tt2183034  13000000   45300000  Earth to Echo   \n563   tt0245686  17700000   30987695       Joe Dirt   \n\n                                                   cast              director  \\\n390   Jeff Bridges|Hailee Steinfeld|Matt Damon|Josh ...  Ethan Coen|Joel Coen   \n1332  Jason Statham|Amber Valletta|Kate Nauta|Alessa...       Louis Leterrier   \n564   Steven Seagal|DMX|Isaiah Washington|Anthony An...    Andrzej Bartkowiak   \n234   Teo Halm|Astro|Resse Hartwig|Ella Wahlestedt|J...            Dave Green   \n563   David Spade|Brittany Daniel|Dennis Miller|Adam...         Dennie Gordon   \n\n                                            tagline  \\\n390            Punishment Comes One Way or Another.   \n1332  The Best In The Business Is Back In The Game.   \n564                              This Is Gonna Hurt   \n234             No one will ever believe our story.   \n563              He Came. He Cleaned. He Conquered.   \n\n                                               overview  runtime  \\\n390   Following the murder of her father by hired ha...      110   \n1332  Professional driver Frank Martin is living in ...       87   \n564   Maverick cop Orin Boyd always brings down the ...      101   \n234   After a construction project begins digging in...       89   \n563   Joe Dirt is a janitor with a mullet hairdo, ac...       91   \n\n                                      genres  \\\n390                  Drama|Adventure|Western   \n1332                   Action|Thriller|Crime   \n564                    Action|Crime|Thriller   \n234         Family|Adventure|Science Fiction   \n563   Mystery|Adventure|Comedy|Romance|Drama   \n\n                                   production_companies release_date  \\\n390   Paramount Pictures|Scott Rudin Productions|Mik...   12/22/2010   \n1332  Canal Plus|Twentieth Century Fox Film Corporat...     8/2/2005   \n564                      NPV Entertainment|Warner Bros.    3/13/2001   \n234     Walt Disney Studios Motion Pictures|Panay Films     7/2/2014   \n563         Columbia Pictures|Happy Madison Productions    4/10/2001   \n\n      vote_average  release_year     profit release_month  \n390            7.0          2010  214276927       Декабрь  \n1332           6.1          2005   53167639        Август  \n564            5.0          2001   29958599          Март  \n234            5.7          2014   32300000          Июль  \n563            5.5          2001   13287695        Апрель  ",
      "text/html": "<div>\n<style scoped>\n    .dataframe tbody tr th:only-of-type {\n        vertical-align: middle;\n    }\n\n    .dataframe tbody tr th {\n        vertical-align: top;\n    }\n\n    .dataframe thead th {\n        text-align: right;\n    }\n</style>\n<table border=\"1\" class=\"dataframe\">\n  <thead>\n    <tr style=\"text-align: right;\">\n      <th></th>\n      <th>imdb_id</th>\n      <th>budget</th>\n      <th>revenue</th>\n      <th>original_title</th>\n      <th>cast</th>\n      <th>director</th>\n      <th>tagline</th>\n      <th>overview</th>\n      <th>runtime</th>\n      <th>genres</th>\n      <th>production_companies</th>\n      <th>release_date</th>\n      <th>vote_average</th>\n      <th>release_year</th>\n      <th>profit</th>\n      <th>release_month</th>\n    </tr>\n  </thead>\n  <tbody>\n    <tr>\n      <th>390</th>\n      <td>tt1403865</td>\n      <td>38000000</td>\n      <td>252276927</td>\n      <td>True Grit</td>\n      <td>Jeff Bridges|Hailee Steinfeld|Matt Damon|Josh ...</td>\n      <td>Ethan Coen|Joel Coen</td>\n      <td>Punishment Comes One Way or Another.</td>\n      <td>Following the murder of her father by hired ha...</td>\n      <td>110</td>\n      <td>Drama|Adventure|Western</td>\n      <td>Paramount Pictures|Scott Rudin Productions|Mik...</td>\n      <td>12/22/2010</td>\n      <td>7.0</td>\n      <td>2010</td>\n      <td>214276927</td>\n      <td>Декабрь</td>\n    </tr>\n    <tr>\n      <th>1332</th>\n      <td>tt0388482</td>\n      <td>32000000</td>\n      <td>85167639</td>\n      <td>Transporter 2</td>\n      <td>Jason Statham|Amber Valletta|Kate Nauta|Alessa...</td>\n      <td>Louis Leterrier</td>\n      <td>The Best In The Business Is Back In The Game.</td>\n      <td>Professional driver Frank Martin is living in ...</td>\n      <td>87</td>\n      <td>Action|Thriller|Crime</td>\n      <td>Canal Plus|Twentieth Century Fox Film Corporat...</td>\n      <td>8/2/2005</td>\n      <td>6.1</td>\n      <td>2005</td>\n      <td>53167639</td>\n      <td>Август</td>\n    </tr>\n    <tr>\n      <th>564</th>\n      <td>tt0242445</td>\n      <td>50000000</td>\n      <td>79958599</td>\n      <td>Exit Wounds</td>\n      <td>Steven Seagal|DMX|Isaiah Washington|Anthony An...</td>\n      <td>Andrzej Bartkowiak</td>\n      <td>This Is Gonna Hurt</td>\n      <td>Maverick cop Orin Boyd always brings down the ...</td>\n      <td>101</td>\n      <td>Action|Crime|Thriller</td>\n      <td>NPV Entertainment|Warner Bros.</td>\n      <td>3/13/2001</td>\n      <td>5.0</td>\n      <td>2001</td>\n      <td>29958599</td>\n      <td>Март</td>\n    </tr>\n    <tr>\n      <th>234</th>\n      <td>tt2183034</td>\n      <td>13000000</td>\n      <td>45300000</td>\n      <td>Earth to Echo</td>\n      <td>Teo Halm|Astro|Resse Hartwig|Ella Wahlestedt|J...</td>\n      <td>Dave Green</td>\n      <td>No one will ever believe our story.</td>\n      <td>After a construction project begins digging in...</td>\n      <td>89</td>\n      <td>Family|Adventure|Science Fiction</td>\n      <td>Walt Disney Studios Motion Pictures|Panay Films</td>\n      <td>7/2/2014</td>\n      <td>5.7</td>\n      <td>2014</td>\n      <td>32300000</td>\n      <td>Июль</td>\n    </tr>\n    <tr>\n      <th>563</th>\n      <td>tt0245686</td>\n      <td>17700000</td>\n      <td>30987695</td>\n      <td>Joe Dirt</td>\n      <td>David Spade|Brittany Daniel|Dennis Miller|Adam...</td>\n      <td>Dennie Gordon</td>\n      <td>He Came. He Cleaned. He Conquered.</td>\n      <td>Joe Dirt is a janitor with a mullet hairdo, ac...</td>\n      <td>91</td>\n      <td>Mystery|Adventure|Comedy|Romance|Drama</td>\n      <td>Columbia Pictures|Happy Madison Productions</td>\n      <td>4/10/2001</td>\n      <td>5.5</td>\n      <td>2001</td>\n      <td>13287695</td>\n      <td>Апрель</td>\n    </tr>\n  </tbody>\n</table>\n</div>"
     },
     "metadata": {},
     "execution_count": 41
    }
   ],
   "source": [
    "data = pd.read_csv('movie_bd_v5.csv')\n",
    "data['profit'] = data['revenue'] - data['budget']\n",
    "def return_month(release_date):\n",
    "    m = int(str(pd.to_datetime(release_date)).split('-')[1])\n",
    "    s = {\n",
    "        1: \"Январь\",\n",
    "        2: \"Фервраль\",\n",
    "        3: \"Март\",\n",
    "        4: \"Апрель\",\n",
    "        5: \"Май\",\n",
    "        6: \"Июнь\",\n",
    "        7: \"Июль\",\n",
    "        8: \"Август\",\n",
    "        9: \"Сентябрь\",\n",
    "        10: \"Октябрь\",\n",
    "        11: \"Ноябрь\",\n",
    "        12: \"Декабрь\"\n",
    "    }\n",
    "    s.setdefault(m, \"Неверное значение\")\n",
    "    return s[m]\n",
    "data['release_month'] = data.release_date.apply(return_month)\n",
    "\n",
    "data.sample(5)"
   ]
  },
  {
   "cell_type": "code",
   "execution_count": 4,
   "metadata": {
    "colab": {},
    "colab_type": "code",
    "id": "CoYUnagMVp-C"
   },
   "outputs": [
    {
     "output_type": "execute_result",
     "data": {
      "text/plain": "             budget       revenue      runtime  vote_average  release_year  \\\ncount  1.889000e+03  1.889000e+03  1889.000000   1889.000000   1889.000000   \nmean   5.431083e+07  1.553653e+08   109.658549      6.140762   2007.860773   \nstd    4.858721e+07  2.146698e+08    18.017041      0.764763      4.468841   \nmin    5.000000e+06  2.033165e+06    63.000000      3.300000   2000.000000   \n25%    2.000000e+07  3.456058e+07    97.000000      5.600000   2004.000000   \n50%    3.800000e+07  8.361541e+07   107.000000      6.100000   2008.000000   \n75%    7.200000e+07  1.782626e+08   120.000000      6.600000   2012.000000   \nmax    3.800000e+08  2.781506e+09   214.000000      8.100000   2015.000000   \n\n             profit  \ncount  1.889000e+03  \nmean   1.010545e+08  \nstd    1.830733e+08  \nmin   -1.657101e+08  \n25%    5.000000e+06  \n50%    4.400041e+07  \n75%    1.201842e+08  \nmax    2.544506e+09  ",
      "text/html": "<div>\n<style scoped>\n    .dataframe tbody tr th:only-of-type {\n        vertical-align: middle;\n    }\n\n    .dataframe tbody tr th {\n        vertical-align: top;\n    }\n\n    .dataframe thead th {\n        text-align: right;\n    }\n</style>\n<table border=\"1\" class=\"dataframe\">\n  <thead>\n    <tr style=\"text-align: right;\">\n      <th></th>\n      <th>budget</th>\n      <th>revenue</th>\n      <th>runtime</th>\n      <th>vote_average</th>\n      <th>release_year</th>\n      <th>profit</th>\n    </tr>\n  </thead>\n  <tbody>\n    <tr>\n      <th>count</th>\n      <td>1.889000e+03</td>\n      <td>1.889000e+03</td>\n      <td>1889.000000</td>\n      <td>1889.000000</td>\n      <td>1889.000000</td>\n      <td>1.889000e+03</td>\n    </tr>\n    <tr>\n      <th>mean</th>\n      <td>5.431083e+07</td>\n      <td>1.553653e+08</td>\n      <td>109.658549</td>\n      <td>6.140762</td>\n      <td>2007.860773</td>\n      <td>1.010545e+08</td>\n    </tr>\n    <tr>\n      <th>std</th>\n      <td>4.858721e+07</td>\n      <td>2.146698e+08</td>\n      <td>18.017041</td>\n      <td>0.764763</td>\n      <td>4.468841</td>\n      <td>1.830733e+08</td>\n    </tr>\n    <tr>\n      <th>min</th>\n      <td>5.000000e+06</td>\n      <td>2.033165e+06</td>\n      <td>63.000000</td>\n      <td>3.300000</td>\n      <td>2000.000000</td>\n      <td>-1.657101e+08</td>\n    </tr>\n    <tr>\n      <th>25%</th>\n      <td>2.000000e+07</td>\n      <td>3.456058e+07</td>\n      <td>97.000000</td>\n      <td>5.600000</td>\n      <td>2004.000000</td>\n      <td>5.000000e+06</td>\n    </tr>\n    <tr>\n      <th>50%</th>\n      <td>3.800000e+07</td>\n      <td>8.361541e+07</td>\n      <td>107.000000</td>\n      <td>6.100000</td>\n      <td>2008.000000</td>\n      <td>4.400041e+07</td>\n    </tr>\n    <tr>\n      <th>75%</th>\n      <td>7.200000e+07</td>\n      <td>1.782626e+08</td>\n      <td>120.000000</td>\n      <td>6.600000</td>\n      <td>2012.000000</td>\n      <td>1.201842e+08</td>\n    </tr>\n    <tr>\n      <th>max</th>\n      <td>3.800000e+08</td>\n      <td>2.781506e+09</td>\n      <td>214.000000</td>\n      <td>8.100000</td>\n      <td>2015.000000</td>\n      <td>2.544506e+09</td>\n    </tr>\n  </tbody>\n</table>\n</div>"
     },
     "metadata": {},
     "execution_count": 4
    }
   ],
   "source": [
    "data.describe()"
   ]
  },
  {
   "cell_type": "markdown",
   "metadata": {
    "colab_type": "text",
    "id": "DTIt7ezGVp-G"
   },
   "source": [
    "# Предобработка"
   ]
  },
  {
   "cell_type": "code",
   "execution_count": 5,
   "metadata": {
    "colab": {},
    "colab_type": "code",
    "id": "jNb40DwKVp-H"
   },
   "outputs": [],
   "source": [
    "answers = {} # создадим словарь для ответов\n",
    "\n",
    "# тут другие ваши предобработки колонок например:\n",
    "\n",
    "#the time given in the dataset is in string format.\n",
    "#So we need to change this in datetime format\n",
    "# ..."
   ]
  },
  {
   "cell_type": "markdown",
   "metadata": {
    "colab_type": "text",
    "id": "YxZaH-nPVp-L"
   },
   "source": [
    "# 1. У какого фильма из списка самый большой бюджет?"
   ]
  },
  {
   "cell_type": "markdown",
   "metadata": {
    "colab_type": "text",
    "id": "Nd-G5gX6Vp-M"
   },
   "source": [
    "Использовать варианты ответов в коде решения запрещено.    \n",
    "Вы думаете и в жизни у вас будут варианты ответов?)"
   ]
  },
  {
   "cell_type": "code",
   "execution_count": 6,
   "metadata": {
    "colab": {},
    "colab_type": "code",
    "id": "uVnXAY5RVp-O"
   },
   "outputs": [],
   "source": [
    "# в словарь вставляем номер вопроса и ваш ответ на него\n",
    "# Пример: \n",
    "answers['1'] = '2. Spider-Man 3 (tt0413300)'\n",
    "# запишите свой вариант ответа\n",
    "answers['1'] = '1. Pirates of the Caribbean: On Stranger Tides (tt1298650)'\n",
    "# если ответили верно, можете добавить комментарий со значком \"+\""
   ]
  },
  {
   "cell_type": "code",
   "execution_count": 7,
   "metadata": {
    "colab": {},
    "colab_type": "code",
    "id": "dZwb3m28Vp-S",
    "tags": []
   },
   "outputs": [
    {
     "output_type": "stream",
     "name": "stdout",
     "text": "Pirates of the Caribbean: On Stranger Tides (tt1298650)\n"
    }
   ],
   "source": [
    "# тут пишем ваш код для решения данного вопроса:\n",
    "title = data[data.budget == data.budget.max()][['imdb_id', 'original_title']]\n",
    "for index, row in title.iterrows():\n",
    "    print(\"{0} ({1})\".format(row['original_title'], row['imdb_id'], ))\n"
   ]
  },
  {
   "cell_type": "code",
   "execution_count": 8,
   "metadata": {
    "colab_type": "text",
    "id": "K7L3nbRXVp-X",
    "tags": []
   },
   "outputs": [
    {
     "output_type": "stream",
     "name": "stdout",
     "text": "imdb_id                               original_title\n723  tt1298650  Pirates of the Caribbean: On Stranger Tides\n"
    }
   ],
   "source": [
    "# ВАРИАНТ 2\n",
    "print(data.loc[(data['budget'] == data.budget.max())][['imdb_id', 'original_title']])\n"
   ]
  },
  {
   "cell_type": "code",
   "execution_count": 0,
   "metadata": {
    "colab": {},
    "colab_type": "code",
    "id": "OGaoQI7rVp-X"
   },
   "outputs": [],
   "source": [
    "# можно добавлять разные варианты решения"
   ]
  },
  {
   "cell_type": "markdown",
   "metadata": {
    "colab_type": "text",
    "id": "FNRbbI3vVp-c"
   },
   "source": [
    "# 2. Какой из фильмов самый длительный (в минутах)?"
   ]
  },
  {
   "cell_type": "code",
   "execution_count": 9,
   "metadata": {
    "colab": {},
    "colab_type": "code",
    "id": "vHAoEXNTVp-d"
   },
   "outputs": [],
   "source": [
    "# думаю логику работы с этим словарем вы уже поняли, \n",
    "# по этому не буду больше его дублировать\n",
    "answers['2'] = '2. Gods and Generals (tt0279111)'"
   ]
  },
  {
   "cell_type": "code",
   "execution_count": 10,
   "metadata": {
    "colab": {},
    "colab_type": "code",
    "id": "ot-VX2XrVp-g",
    "tags": []
   },
   "outputs": [
    {
     "output_type": "stream",
     "name": "stdout",
     "text": "imdb_id     original_title\n1157  tt0279111  Gods and Generals\nGods and Generals (tt0279111)\n        imdb_id     original_title\n1157  tt0279111  Gods and Generals\n"
    }
   ],
   "source": [
    "# вариант 1\n",
    "print(data.loc[(data['runtime'] == data.runtime.max())][['imdb_id', 'original_title']])\n",
    "\n",
    "# вариант 2\n",
    "title = data[data.runtime == data.runtime.max()][['imdb_id', 'original_title']]\n",
    "for index, row in title.iterrows():\n",
    "    print(\"{0} ({1})\".format(row['original_title'], row['imdb_id'], ))\n",
    "\n",
    "# вариант 3\n",
    "df = data.query(\"runtime == {0}\".format(data.runtime.max()))[['imdb_id', 'original_title']]\n",
    "print(df)\n",
    "\n"
   ]
  },
  {
   "cell_type": "markdown",
   "metadata": {
    "colab_type": "text",
    "id": "bapLlpW8Vp-k"
   },
   "source": [
    "# 3. Какой из фильмов самый короткий (в минутах)?\n",
    "\n",
    "\n",
    "\n"
   ]
  },
  {
   "cell_type": "code",
   "execution_count": 11,
   "metadata": {
    "colab": {},
    "colab_type": "code",
    "id": "YBxaSHuAVp-l",
    "tags": []
   },
   "outputs": [
    {
     "output_type": "stream",
     "name": "stdout",
     "text": "Winnie the Pooh (tt1449283)\n"
    }
   ],
   "source": [
    "answers['3'] = '3. Winnie the Pooh (tt1449283)'\n",
    "df = data.query(\"runtime == {0}\".format(data.runtime.min()))[['imdb_id', 'original_title']]\n",
    "for index, row in df.iterrows():\n",
    "    print(\"{0} ({1})\".format(row['original_title'], row['imdb_id'], ))\n",
    "\n"
   ]
  },
  {
   "cell_type": "markdown",
   "metadata": {
    "colab_type": "text",
    "id": "TfQbxbfNVp-p"
   },
   "source": [
    "# 4. Какова средняя длительность фильмов?\n"
   ]
  },
  {
   "cell_type": "code",
   "execution_count": 12,
   "metadata": {
    "colab": {},
    "colab_type": "code",
    "id": "5K6dKZYVVp-q",
    "tags": []
   },
   "outputs": [
    {
     "output_type": "stream",
     "name": "stdout",
     "text": "110\n"
    }
   ],
   "source": [
    "answers['4'] = '4. 110'\n",
    "print(round(data.runtime.mean()))"
   ]
  },
  {
   "cell_type": "markdown",
   "metadata": {
    "colab_type": "text",
    "id": "r5TvbnT_Vp-u"
   },
   "source": [
    "# 5. Каково медианное значение длительности фильмов? "
   ]
  },
  {
   "cell_type": "code",
   "execution_count": 13,
   "metadata": {
    "colab": {},
    "colab_type": "code",
    "id": "iBROplKnVp-v",
    "tags": []
   },
   "outputs": [
    {
     "output_type": "stream",
     "name": "stdout",
     "text": "107\n"
    }
   ],
   "source": [
    "answers['5'] = '5. 107'\n",
    "print(round(data.runtime.median()))"
   ]
  },
  {
   "cell_type": "markdown",
   "metadata": {
    "colab_type": "text",
    "id": "39P-deDSVp-y"
   },
   "source": [
    "# 6. Какой самый прибыльный фильм?\n",
    "#### Внимание! Здесь и далее под «прибылью» или «убытками» понимается разность между сборами и бюджетом фильма. (прибыль = сборы - бюджет) в нашем датасете это будет (profit = revenue - budget) "
   ]
  },
  {
   "cell_type": "code",
   "execution_count": 14,
   "metadata": {
    "colab": {},
    "colab_type": "code",
    "id": "UYZh4T9WVp-y",
    "tags": []
   },
   "outputs": [
    {
     "output_type": "stream",
     "name": "stdout",
     "text": "Avatar (tt0499549)\n"
    }
   ],
   "source": [
    "# лучше код получения столбца profit вынести в Предобработку что в начале\n",
    "answers['6'] = '6. Avatar (tt0499549)'\n",
    "df = data.query(\"profit == {0}\".format(data.profit.max()))[['imdb_id', 'original_title']]\n",
    "for index, row in df.iterrows():\n",
    "    print(\"{0} ({1})\".format(row['original_title'], row['imdb_id'], ))\n"
   ]
  },
  {
   "cell_type": "markdown",
   "metadata": {
    "colab_type": "text",
    "id": "M99JmIX4Vp-2"
   },
   "source": [
    "# 7. Какой фильм самый убыточный? "
   ]
  },
  {
   "cell_type": "code",
   "execution_count": 15,
   "metadata": {
    "colab": {},
    "colab_type": "code",
    "id": "w-D2m4XPVp-3",
    "tags": []
   },
   "outputs": [
    {
     "output_type": "stream",
     "name": "stdout",
     "text": "The Lone Ranger (tt1210819)\n"
    }
   ],
   "source": [
    "answers['7'] = '7. The Lone Ranger (tt1210819)'\n",
    "df = data.query(\"profit == {0}\".format(data.profit.min()))[['imdb_id', 'original_title']]\n",
    "for index, row in df.iterrows():\n",
    "    print(\"{0} ({1})\".format(row['original_title'], row['imdb_id'], ))\n",
    "\n"
   ]
  },
  {
   "cell_type": "markdown",
   "metadata": {
    "colab_type": "text",
    "id": "wEOM5ERVVp-6"
   },
   "source": [
    "# 8. У скольких фильмов из датасета объем сборов оказался выше бюджета?"
   ]
  },
  {
   "cell_type": "code",
   "execution_count": 16,
   "metadata": {
    "colab": {},
    "colab_type": "code",
    "id": "y00_7HD6Vp-7",
    "tags": []
   },
   "outputs": [
    {
     "output_type": "stream",
     "name": "stdout",
     "text": "1478\n"
    }
   ],
   "source": [
    "answers['8'] = '8. 1478'\n",
    "df = data.query(\"revenue > budget\")['imdb_id']\n",
    "print(df.count())"
   ]
  },
  {
   "cell_type": "markdown",
   "metadata": {},
   "source": []
  },
  {
   "cell_type": "markdown",
   "metadata": {},
   "source": []
  },
  {
   "cell_type": "markdown",
   "metadata": {},
   "source": [
    "# 9. Какой фильм оказался самым кассовым в 2008 году?"
   ]
  },
  {
   "cell_type": "code",
   "execution_count": 17,
   "metadata": {
    "tags": []
   },
   "outputs": [
    {
     "output_type": "stream",
     "name": "stdout",
     "text": "The Dark Knight (tt0468569)\n"
    }
   ],
   "source": [
    "answers['9'] = '9. The Dark Knight (tt0468569)'\n",
    "data_2008 = data.query(\"release_year == 2008\")\n",
    "df = data_2008.query(\"profit == {0}\".format(data_2008.profit.max()))[['imdb_id', 'original_title']]\n",
    "for index, row in df.iterrows():\n",
    "    print(\"{0} ({1})\".format(row['original_title'], row['imdb_id'], ))"
   ]
  },
  {
   "cell_type": "markdown",
   "metadata": {
    "colab_type": "text",
    "id": "Zi4hDKidVp_F"
   },
   "source": [
    "# 10. Самый убыточный фильм за период с 2012 по 2014 г. (включительно)?\n"
   ]
  },
  {
   "cell_type": "code",
   "execution_count": 18,
   "metadata": {
    "colab": {},
    "colab_type": "code",
    "id": "XqyRmufJVp_F",
    "tags": []
   },
   "outputs": [
    {
     "output_type": "stream",
     "name": "stdout",
     "text": "The Lone Ranger (tt1210819)\n"
    }
   ],
   "source": [
    "answers['10'] = '10. The Lone Ranger (tt1210819)'\n",
    "data_12_14 = data.query(\"release_year >= 2012 & release_year <= 2014\")\n",
    "df = data_12_14.query(\"profit == {0}\".format(data_12_14.profit.min()))[['imdb_id', 'original_title']]\n",
    "for index, row in df.iterrows():\n",
    "    print(\"{0} ({1})\".format(row['original_title'], row['imdb_id'], ))"
   ]
  },
  {
   "cell_type": "markdown",
   "metadata": {
    "colab_type": "text",
    "id": "EA7Sa9dkVp_I"
   },
   "source": [
    "# 11. Какого жанра фильмов больше всего?"
   ]
  },
  {
   "cell_type": "code",
   "execution_count": 20,
   "metadata": {
    "colab": {},
    "colab_type": "code",
    "id": "zsJAwJ8QVp_J",
    "tags": []
   },
   "outputs": [
    {
     "output_type": "stream",
     "name": "stdout",
     "text": "genres\nDrama    782\nName: imdb_id, dtype: int64\n"
    }
   ],
   "source": [
    "# эту задачу тоже можно решать разными подходами, попробуй реализовать разные варианты\n",
    "# если будешь добавлять функцию - выноси ее в предобработку что в начале\n",
    "answers['11'] = '11. Drama'\n",
    "df = data.copy()\n",
    "df['genres'] = df['genres'].str.split('|')\n",
    "df = df.explode('genres')\n",
    "print(df.groupby('genres')['imdb_id'].count().sort_values(ascending=False).head(1))\n"
   ]
  },
  {
   "cell_type": "markdown",
   "metadata": {
    "colab_type": "text",
    "id": "Ax6g2C8SVp_M"
   },
   "source": [
    "ВАРИАНТ 2"
   ]
  },
  {
   "cell_type": "code",
   "execution_count": 32,
   "metadata": {
    "colab": {},
    "colab_type": "code",
    "id": "otO3SbrSVp_N",
    "tags": []
   },
   "outputs": [
    {
     "output_type": "stream",
     "name": "stdout",
     "text": "Drama        782\nComedy       683\nThriller     596\nAction       582\nAdventure    415\ndtype: int64\n"
    }
   ],
   "source": []
  },
  {
   "cell_type": "markdown",
   "metadata": {
    "colab_type": "text",
    "id": "T9_bPWpkVp_Q"
   },
   "source": [
    "# 12. Фильмы какого жанра чаще всего становятся прибыльными? "
   ]
  },
  {
   "cell_type": "code",
   "execution_count": 21,
   "metadata": {
    "colab": {},
    "colab_type": "code",
    "id": "Tmt8MaK1Vp_R",
    "tags": []
   },
   "outputs": [
    {
     "output_type": "stream",
     "name": "stdout",
     "text": "genres\nDrama    560\nName: imdb_id, dtype: int64\n"
    }
   ],
   "source": [
    "answers['12'] = '12. Drama'\n",
    "df = data.query(\"revenue > budget\")\n",
    "df.genres = df.genres.str.split('|')\n",
    "df = df.explode('genres')\n",
    "print(df.groupby('genres')['imdb_id'].count().sort_values(ascending=False).head(1))\n"
   ]
  },
  {
   "cell_type": "markdown",
   "metadata": {
    "colab_type": "text",
    "id": "0F23bgsDVp_U"
   },
   "source": [
    "# 13. У какого режиссера самые большие суммарные кассовые сборы?"
   ]
  },
  {
   "cell_type": "code",
   "execution_count": 22,
   "metadata": {
    "colab": {},
    "colab_type": "code",
    "id": "K6Z3J8ygVp_X",
    "tags": []
   },
   "outputs": [
    {
     "output_type": "stream",
     "name": "stdout",
     "text": "director\nPeter Jackson    6490593685\nName: revenue, dtype: int64\n"
    }
   ],
   "source": [
    "answers['13'] = '13. Peter Jackson'\n",
    "df = data.copy()\n",
    "df.director = df.director.str.split('|')\n",
    "df = df.explode('director')\n",
    "print(data.groupby('director')['revenue'].sum().sort_values(ascending=False).head(1))\n"
   ]
  },
  {
   "cell_type": "markdown",
   "metadata": {
    "colab_type": "text",
    "id": "PsYC9FgRVp_a"
   },
   "source": [
    "# 14. Какой режисер снял больше всего фильмов в стиле Action?"
   ]
  },
  {
   "cell_type": "code",
   "execution_count": 23,
   "metadata": {
    "colab": {},
    "colab_type": "code",
    "id": "wd2M-wHeVp_b",
    "tags": []
   },
   "outputs": [
    {
     "output_type": "stream",
     "name": "stdout",
     "text": "Robert Rodriguez    9\nName: director, dtype: int64\n"
    }
   ],
   "source": [
    "answers['14'] = '14. Robert Rodriguez'\n",
    "df = data[data.genres.str.contains('Action')].copy()\n",
    "df.director = df.director.str.split('|')\n",
    "df = df.explode('director')\n",
    "print(df['director'].value_counts().head(1))\n",
    "\n"
   ]
  },
  {
   "cell_type": "markdown",
   "metadata": {
    "colab_type": "text",
    "id": "PQ0KciD7Vp_f"
   },
   "source": [
    "# 15. Фильмы с каким актером принесли самые высокие кассовые сборы в 2012 году? "
   ]
  },
  {
   "cell_type": "code",
   "execution_count": 49,
   "metadata": {
    "colab": {},
    "colab_type": "code",
    "id": "aga62oeKVp_g",
    "tags": []
   },
   "outputs": [
    {
     "output_type": "stream",
     "name": "stdout",
     "text": "cast\nChris Hemsworth    2027450773\nName: revenue, dtype: int64\n"
    }
   ],
   "source": [
    "answers['15'] = '15. Chris Hemsworth'\n",
    "df = data.query('release_year == 2012')\n",
    "df.cast = df.cast.str.split('|')\n",
    "df = df.explode('cast')\n",
    "print(df.groupby('cast')['revenue'].sum().sort_values(ascending=False).head(1))\n"
   ]
  },
  {
   "cell_type": "markdown",
   "metadata": {
    "colab_type": "text",
    "id": "mWHyyL7QVp_j"
   },
   "source": [
    "# 16. Какой актер снялся в большем количестве высокобюджетных фильмов?"
   ]
  },
  {
   "cell_type": "code",
   "execution_count": 25,
   "metadata": {
    "colab": {},
    "colab_type": "code",
    "id": "qQtmHKTFVp_k",
    "tags": []
   },
   "outputs": [
    {
     "output_type": "stream",
     "name": "stdout",
     "text": "Matt Damon    18\nName: cast, dtype: int64\n"
    }
   ],
   "source": [
    "answers['16'] = '16. Matt Damon'\n",
    "df = data[(data.budget > data.budget.mean())]\n",
    "df.cast = df.cast.str.split('|')\n",
    "df = df.explode('cast')\n",
    "print(df['cast'].value_counts().head(1))\n"
   ]
  },
  {
   "cell_type": "markdown",
   "metadata": {
    "colab_type": "text",
    "id": "NIh6AaW5Vp_n"
   },
   "source": [
    "# 17. В фильмах какого жанра больше всего снимался Nicolas Cage? "
   ]
  },
  {
   "cell_type": "code",
   "execution_count": 26,
   "metadata": {
    "colab": {},
    "colab_type": "code",
    "id": "H74SJDIBVp_n",
    "tags": []
   },
   "outputs": [
    {
     "output_type": "stream",
     "name": "stdout",
     "text": "Action    17\nName: genres, dtype: int64\n"
    }
   ],
   "source": [
    "answers['17'] = '17. Action'\n",
    "df = data[data.cast.str.contains('Nicolas Cage')].copy()\n",
    "df.genres = df.genres.str.split('|')\n",
    "df = df.explode('genres')\n",
    "print(df['genres'].value_counts().head(1))"
   ]
  },
  {
   "cell_type": "markdown",
   "metadata": {
    "colab_type": "text",
    "id": "RqOmPRfWVp_q"
   },
   "source": [
    "# 18. Самый убыточный фильм от Paramount Pictures"
   ]
  },
  {
   "cell_type": "code",
   "execution_count": 28,
   "metadata": {
    "colab": {},
    "colab_type": "code",
    "id": "9E_B0Y96Vp_r",
    "tags": []
   },
   "outputs": [
    {
     "output_type": "stream",
     "name": "stdout",
     "text": "K-19: The Widowmaker (tt0267626)\n"
    }
   ],
   "source": [
    "answers['18'] = '18. K-19: The Widowmaker (tt0267626)'\n",
    "df = data[data.production_companies.str.contains('Paramount Pictures')].copy()\n",
    "title = df[df.profit == df.profit.min()][['imdb_id', 'original_title']]\n",
    "for index, row in title.iterrows():\n",
    "    print(\"{0} ({1})\".format(row['original_title'], row['imdb_id'], ))"
   ]
  },
  {
   "cell_type": "markdown",
   "metadata": {
    "colab_type": "text",
    "id": "vS8Ur6ddVp_u"
   },
   "source": [
    "# 19. Какой год стал самым успешным по суммарным кассовым сборам?"
   ]
  },
  {
   "cell_type": "code",
   "execution_count": 29,
   "metadata": {
    "colab": {},
    "colab_type": "code",
    "id": "Dnbt4GdIVp_v",
    "tags": []
   },
   "outputs": [
    {
     "output_type": "stream",
     "name": "stdout",
     "text": "release_year\n2015    25449202382\nName: revenue, dtype: int64\n"
    }
   ],
   "source": [
    "answers['19'] = '19. 2015'\n",
    "print(data.groupby('release_year')['revenue'].sum().sort_values(ascending=False).head(1))"
   ]
  },
  {
   "cell_type": "markdown",
   "metadata": {
    "colab_type": "text",
    "id": "JAzJh4QAVp_z"
   },
   "source": [
    "# 20. Какой самый прибыльный год для студии Warner Bros?"
   ]
  },
  {
   "cell_type": "code",
   "execution_count": 30,
   "metadata": {
    "colab": {},
    "colab_type": "code",
    "id": "wgVu02DEVp_0",
    "tags": []
   },
   "outputs": [
    {
     "output_type": "stream",
     "name": "stdout",
     "text": "release_year\n2014    3243064519\nName: revenue, dtype: int64\n"
    }
   ],
   "source": [
    "answers['20'] = '20. 2014'\n",
    "df = data[data.production_companies.str.contains('Warner Bros')].copy()\n",
    "print(df.groupby('release_year')['revenue'].sum().sort_values(ascending=False).head(1))\n"
   ]
  },
  {
   "cell_type": "markdown",
   "metadata": {
    "colab_type": "text",
    "id": "8Im1S2HRVp_4"
   },
   "source": [
    "# 21. В каком месяце за все годы суммарно вышло больше всего фильмов?"
   ]
  },
  {
   "cell_type": "code",
   "execution_count": 32,
   "metadata": {
    "colab": {},
    "colab_type": "code",
    "id": "lev6TH7gVp_4",
    "tags": []
   },
   "outputs": [
    {
     "output_type": "stream",
     "name": "stdout",
     "text": "release_month\nСентябрь    227\nName: imdb_id, dtype: int64\n"
    }
   ],
   "source": [
    "answers['21'] = '21. Сентябрь'\n",
    "print(data.groupby('release_month')['imdb_id'].count().sort_values(ascending=False).head(1))\n"
   ]
  },
  {
   "cell_type": "markdown",
   "metadata": {
    "colab_type": "text",
    "id": "uAJsZ_NeVp_7"
   },
   "source": [
    "# 22. Сколько суммарно вышло фильмов летом? (за июнь, июль, август)"
   ]
  },
  {
   "cell_type": "code",
   "execution_count": 33,
   "metadata": {
    "colab": {},
    "colab_type": "code",
    "id": "Aa-hEREoVp_8",
    "tags": []
   },
   "outputs": [
    {
     "output_type": "stream",
     "name": "stdout",
     "text": "450\n"
    }
   ],
   "source": [
    "answers['22'] = '22. 450'\n",
    "df = data.query('release_month == \"Июнь\" or release_month == \"Июль\" or release_month == \"Август\"')\n",
    "print(df.imdb_id.count())"
   ]
  },
  {
   "cell_type": "markdown",
   "metadata": {
    "colab_type": "text",
    "id": "G94ppOY1VqAA"
   },
   "source": [
    "# 23. Для какого режиссера зима – самое продуктивное время года? "
   ]
  },
  {
   "cell_type": "code",
   "execution_count": 35,
   "metadata": {
    "colab": {},
    "colab_type": "code",
    "id": "RhNTsamuVqAB",
    "tags": []
   },
   "outputs": [
    {
     "output_type": "stream",
     "name": "stdout",
     "text": "Peter Jackson    7\nName: director, dtype: int64\n"
    }
   ],
   "source": [
    "answers['23'] = '23. Peter Jackson'\n",
    "df = data.query('release_month == \"Декабрь\" or release_month == \"Январь\" or release_month == \"Февраль\"')\n",
    "df.director = df.director.str.split('|')\n",
    "df = df.explode('director')\n",
    "print(df['director'].value_counts().head(1))"
   ]
  },
  {
   "cell_type": "markdown",
   "metadata": {
    "colab_type": "text",
    "id": "RBo0JVjVVqAF"
   },
   "source": [
    "# 24. Какая студия дает самые длинные названия своим фильмам по количеству символов?"
   ]
  },
  {
   "cell_type": "code",
   "execution_count": 38,
   "metadata": {
    "colab": {},
    "colab_type": "code",
    "id": "QRGS8L0iVqAG",
    "tags": []
   },
   "outputs": [
    {
     "output_type": "stream",
     "name": "stdout",
     "text": "production_company\nFour By Two Productions    83.0\nName: original_title_len, dtype: float64\n"
    }
   ],
   "source": [
    "answers['24'] = '24. Four By Two Productions'\n",
    "df = data.copy()\n",
    "df['original_title_len'] = df.original_title.apply(lambda x:len(x))\n",
    "df['production_company'] = df.production_companies.str.split('|')\n",
    "df = df.explode('production_company')\n",
    "print(df.groupby('production_company')['original_title_len'].mean().sort_values(ascending=False).head(1))"
   ]
  },
  {
   "cell_type": "markdown",
   "metadata": {
    "colab_type": "text",
    "id": "9G0hbvR7VqAK"
   },
   "source": [
    "# 25. Описание фильмов какой студии в среднем самые длинные по количеству слов?"
   ]
  },
  {
   "cell_type": "code",
   "execution_count": 39,
   "metadata": {
    "colab": {},
    "colab_type": "code",
    "id": "Ge2GsLNxVqAK",
    "tags": []
   },
   "outputs": [
    {
     "output_type": "stream",
     "name": "stdout",
     "text": "production_company\nMidnight Picture Show    175.0\nName: overview_len, dtype: float64\n"
    }
   ],
   "source": [
    "answers['25'] = '25. Midnight Picture Show'\n",
    "df = data.copy()\n",
    "df['overview_len'] = df.overview.apply(lambda x:len(str(x).split()))\n",
    "df['production_company'] = df.production_companies.str.split('|')\n",
    "df = df.explode('production_company')\n",
    "print(df.groupby('production_company')['overview_len'].mean().sort_values(ascending=False).head(1))\n"
   ]
  },
  {
   "cell_type": "markdown",
   "metadata": {
    "colab_type": "text",
    "id": "FJ1AFt90VqAP"
   },
   "source": [
    "# 26. Какие фильмы входят в 1 процент лучших по рейтингу? \n",
    "по vote_average"
   ]
  },
  {
   "cell_type": "code",
   "execution_count": 42,
   "metadata": {
    "colab": {},
    "colab_type": "code",
    "id": "8qmJVq4CVqAQ",
    "tags": []
   },
   "outputs": [
    {
     "output_type": "stream",
     "name": "stdout",
     "text": "original_title\nThe Dark Knight                                      8.1\nThe Imitation Game                                   8.0\nRoom                                                 8.0\nInterstellar                                         8.0\nInside Out                                           8.0\nThe Grand Budapest Hotel                             7.9\nThe Pianist                                          7.9\nGuardians of the Galaxy                              7.9\nMemento                                              7.9\nThe Wolf of Wall Street                              7.9\nInception                                            7.9\nGone Girl                                            7.9\n12 Years a Slave                                     7.9\nThe Lord of the Rings: The Return of the King        7.9\nPrisoners                                            7.8\nThe Fault in Our Stars                               7.8\nEternal Sunshine of the Spotless Mind                7.8\nThe Prestige                                         7.8\nThe Lord of the Rings: The Fellowship of the Ring    7.8\nName: vote_average, dtype: float64\n"
    }
   ],
   "source": [
    "answers['26'] = '26. Inside Out, The Dark Knight, 12 Years a Slave'\n",
    "print(data.groupby('original_title')['vote_average'].mean().sort_values(ascending=False).head(19))\n"
   ]
  },
  {
   "cell_type": "markdown",
   "metadata": {
    "colab_type": "text",
    "id": "MdXsUXbCVqAV"
   },
   "source": [
    "# 27. Какие актеры чаще всего снимаются в одном фильме вместе?\n"
   ]
  },
  {
   "cell_type": "code",
   "execution_count": 46,
   "metadata": {
    "colab_type": "text",
    "id": "4ymnxEVoVqAW",
    "tags": []
   },
   "outputs": [
    {
     "output_type": "stream",
     "name": "stdout",
     "text": "(Daniel Radcliffe, Emma Watson)    8\nName: cast, dtype: int64\n"
    }
   ],
   "source": [
    "answers['27'] = '27. Daniel Radcliffe & Emma Watson'\n",
    "df = data.copy()\n",
    "df.cast = df.cast.str.split('|').apply(lambda x:list(itertools.combinations(x, 2)))\n",
    "df = df.explode('cast')\n",
    "print(df.cast.value_counts().head(1))\n"
   ]
  },
  {
   "cell_type": "markdown",
   "metadata": {
    "colab_type": "text",
    "id": "U0nONFnGVqAX"
   },
   "source": [
    "# Submission"
   ]
  },
  {
   "cell_type": "code",
   "execution_count": 50,
   "metadata": {
    "colab": {},
    "colab_type": "code",
    "id": "IfcaRO9-VqAX",
    "outputId": "0f132912-32bb-4196-c98c-abfbc4ad5a5f"
   },
   "outputs": [
    {
     "output_type": "execute_result",
     "data": {
      "text/plain": "{'1': '1. Pirates of the Caribbean: On Stranger Tides (tt1298650)',\n '2': '2. Gods and Generals (tt0279111)',\n '3': '3. Winnie the Pooh (tt1449283)',\n '4': '4. 110',\n '5': '5. 107',\n '6': '6. Avatar (tt0499549)',\n '7': '7. The Lone Ranger (tt1210819)',\n '8': '8. 1478',\n '9': '9. The Dark Knight (tt0468569)',\n '10': '10. The Lone Ranger (tt1210819)',\n '11': '11. Drama',\n '12': '12. Drama',\n '13': '13. Peter Jackson',\n '14': '14. Robert Rodriguez',\n '15': '15. Chris Hemsworth',\n '16': '16. Matt Damon',\n '17': '17. Action',\n '18': '18. K-19: The Widowmaker (tt0267626)',\n '19': '19. 2015',\n '20': '20. 2014',\n '21': '21. Сентябрь',\n '22': '22. 450',\n '23': '23. Peter Jackson',\n '24': '24. Four By Two Productions',\n '25': '25. Midnight Picture Show',\n '26': '26. Inside Out, The Dark Knight, 12 Years a Slave',\n '27': '27. Daniel Radcliffe & Emma Watson'}"
     },
     "metadata": {},
     "execution_count": 50
    }
   ],
   "source": [
    "# в конце можно посмотреть свои ответы к каждому вопросу\n",
    "answers"
   ]
  },
  {
   "cell_type": "code",
   "execution_count": 48,
   "metadata": {
    "colab": {},
    "colab_type": "code",
    "id": "SiRmHPl8VqAd"
   },
   "outputs": [
    {
     "output_type": "execute_result",
     "data": {
      "text/plain": "27"
     },
     "metadata": {},
     "execution_count": 48
    }
   ],
   "source": [
    "# и убедиться что ни чего не пропустил)\n",
    "len(answers)"
   ]
  },
  {
   "cell_type": "code",
   "execution_count": 0,
   "metadata": {
    "colab": {},
    "colab_type": "code",
    "id": "uCfuTkRbVqAg"
   },
   "outputs": [],
   "source": []
  },
  {
   "cell_type": "code",
   "execution_count": 0,
   "metadata": {
    "colab": {},
    "colab_type": "code",
    "id": "Vwx3NrkSVqAl"
   },
   "outputs": [],
   "source": []
  }
 ],
 "metadata": {
  "colab": {
   "name": "Copy of [SF-DST] Movies IMBD v4.1 TEMPLATE.ipynb",
   "provenance": []
  },
  "kernelspec": {
   "display_name": "Python 3",
   "language": "python",
   "name": "python3"
  },
  "language_info": {
   "codemirror_mode": {
    "name": "ipython",
    "version": 3
   },
   "file_extension": ".py",
   "mimetype": "text/x-python",
   "name": "python",
   "nbconvert_exporter": "python",
   "pygments_lexer": "ipython3",
   "version": "3.6.9-final"
  }
 },
 "nbformat": 4,
 "nbformat_minor": 1
}